{
 "cells": [
  {
   "cell_type": "code",
   "execution_count": 53,
   "metadata": {},
   "outputs": [],
   "source": [
    "import pandas as pd\n",
    "import numpy as np\n",
    "import sklearn\n",
    "from sklearn.metrics import accuracy_score\n",
    "from sklearn.model_selection import train_test_split\n",
    "from sklearn import svm\n",
    "from sklearn.svm import SVC\n",
    "from sklearn.model_selection import train_test_split\n",
    "from sklearn.metrics import confusion_matrix\n",
    "from sklearn.linear_model import LogisticRegression\n",
    "from sklearn.neighbors import KNeighborsClassifier"
   ]
  },
  {
   "cell_type": "code",
   "execution_count": 54,
   "metadata": {},
   "outputs": [],
   "source": [
    "from weather_api import *"
   ]
  },
  {
   "cell_type": "code",
   "execution_count": 55,
   "metadata": {},
   "outputs": [],
   "source": [
    "df = get_data(\"zakopane\")"
   ]
  },
  {
   "cell_type": "code",
   "execution_count": 56,
   "metadata": {},
   "outputs": [
    {
     "output_type": "execute_result",
     "data": {
      "text/plain": "     Kod stacji Nazwa stacji   Rok  Miesiąc  Dzień  \\\n0     349190625     ZAKOPANE  2020        1      1   \n1     349190625     ZAKOPANE  2020        1      2   \n2     349190625     ZAKOPANE  2020        1      3   \n3     349190625     ZAKOPANE  2020        1      4   \n4     349190625     ZAKOPANE  2020        1      5   \n..          ...          ...   ...      ...    ...   \n542   349190625     ZAKOPANE  2019       12     27   \n543   349190625     ZAKOPANE  2019       12     28   \n544   349190625     ZAKOPANE  2019       12     29   \n545   349190625     ZAKOPANE  2019       12     30   \n546   349190625     ZAKOPANE  2019       12     31   \n\n     Średnie dobowe zachmurzenie ogólne [oktanty]  \\\n0                                             4.3   \n1                                             4.4   \n2                                             2.5   \n3                                             7.6   \n4                                             7.9   \n..                                            ...   \n542                                           7.9   \n543                                           8.0   \n544                                           7.1   \n545                                           6.0   \n546                                           6.5   \n\n     Średnia dobowa prędkość wiatru [m/s]  Średnia dobowa temperatura [°C]  \\\n0                                     2.0                             -1.7   \n1                                     1.3                             -1.5   \n2                                     1.4                             -1.1   \n3                                     3.6                              0.8   \n4                                     2.8                             -4.1   \n..                                    ...                              ...   \n542                                   2.1                             -2.0   \n543                                   2.6                             -4.6   \n544                                   0.9                             -7.3   \n545                                   1.3                             -2.3   \n546                                   2.8                              2.8   \n\n     Średnia dobowe ciśnienie pary wodnej [hPa]  \\\n0                                           4.0   \n1                                           3.1   \n2                                           3.8   \n3                                           5.4   \n4                                           3.8   \n..                                          ...   \n542                                         4.8   \n543                                         4.0   \n544                                         3.2   \n545                                         4.8   \n546                                         5.0   \n\n     Średnia dobowa wilgotność względna [%]  \\\n0                                      73.1   \n1                                      56.8   \n2                                      68.8   \n3                                      83.6   \n4                                      83.6   \n..                                      ...   \n542                                    91.3   \n543                                    90.6   \n544                                    88.3   \n545                                    87.5   \n546                                    68.3   \n\n     Średnia dobowe ciśnienie na poziomie stacji [hPa]  \\\n0                                                929.5   \n1                                                928.8   \n2                                                922.4   \n3                                                917.5   \n4                                                924.4   \n..                                                 ...   \n542                                              920.5   \n543                                              928.0   \n544                                              933.2   \n545                                              931.0   \n546                                              924.5   \n\n     Średnie dobowe ciśnienie na pozimie morza [hPa]  Status pomiaru PPPM  \\\n0                                                0.0                    8   \n1                                                0.0                    8   \n2                                                0.0                    8   \n3                                                0.0                    8   \n4                                                0.0                    8   \n..                                               ...                  ...   \n542                                              0.0                    8   \n543                                              0.0                    8   \n544                                              0.0                    8   \n545                                              0.0                    8   \n546                                              0.0                    8   \n\n     Suma opadu dzień  [mm]  Suma opadu noc   [mm]  \n0                       0.0                    0.0  \n1                       0.0                    0.0  \n2                       0.0                    0.0  \n3                       1.9                    6.5  \n4                       3.4                    0.0  \n..                      ...                    ...  \n542                     4.6                    6.5  \n543                     3.7                    0.4  \n544                     1.1                    0.0  \n545                     0.0                    0.0  \n546                     0.0                    0.0  \n\n[547 rows x 15 columns]",
      "text/html": "<div>\n<style scoped>\n    .dataframe tbody tr th:only-of-type {\n        vertical-align: middle;\n    }\n\n    .dataframe tbody tr th {\n        vertical-align: top;\n    }\n\n    .dataframe thead th {\n        text-align: right;\n    }\n</style>\n<table border=\"1\" class=\"dataframe\">\n  <thead>\n    <tr style=\"text-align: right;\">\n      <th></th>\n      <th>Kod stacji</th>\n      <th>Nazwa stacji</th>\n      <th>Rok</th>\n      <th>Miesiąc</th>\n      <th>Dzień</th>\n      <th>Średnie dobowe zachmurzenie ogólne [oktanty]</th>\n      <th>Średnia dobowa prędkość wiatru [m/s]</th>\n      <th>Średnia dobowa temperatura [°C]</th>\n      <th>Średnia dobowe ciśnienie pary wodnej [hPa]</th>\n      <th>Średnia dobowa wilgotność względna [%]</th>\n      <th>Średnia dobowe ciśnienie na poziomie stacji [hPa]</th>\n      <th>Średnie dobowe ciśnienie na pozimie morza [hPa]</th>\n      <th>Status pomiaru PPPM</th>\n      <th>Suma opadu dzień  [mm]</th>\n      <th>Suma opadu noc   [mm]</th>\n    </tr>\n  </thead>\n  <tbody>\n    <tr>\n      <th>0</th>\n      <td>349190625</td>\n      <td>ZAKOPANE</td>\n      <td>2020</td>\n      <td>1</td>\n      <td>1</td>\n      <td>4.3</td>\n      <td>2.0</td>\n      <td>-1.7</td>\n      <td>4.0</td>\n      <td>73.1</td>\n      <td>929.5</td>\n      <td>0.0</td>\n      <td>8</td>\n      <td>0.0</td>\n      <td>0.0</td>\n    </tr>\n    <tr>\n      <th>1</th>\n      <td>349190625</td>\n      <td>ZAKOPANE</td>\n      <td>2020</td>\n      <td>1</td>\n      <td>2</td>\n      <td>4.4</td>\n      <td>1.3</td>\n      <td>-1.5</td>\n      <td>3.1</td>\n      <td>56.8</td>\n      <td>928.8</td>\n      <td>0.0</td>\n      <td>8</td>\n      <td>0.0</td>\n      <td>0.0</td>\n    </tr>\n    <tr>\n      <th>2</th>\n      <td>349190625</td>\n      <td>ZAKOPANE</td>\n      <td>2020</td>\n      <td>1</td>\n      <td>3</td>\n      <td>2.5</td>\n      <td>1.4</td>\n      <td>-1.1</td>\n      <td>3.8</td>\n      <td>68.8</td>\n      <td>922.4</td>\n      <td>0.0</td>\n      <td>8</td>\n      <td>0.0</td>\n      <td>0.0</td>\n    </tr>\n    <tr>\n      <th>3</th>\n      <td>349190625</td>\n      <td>ZAKOPANE</td>\n      <td>2020</td>\n      <td>1</td>\n      <td>4</td>\n      <td>7.6</td>\n      <td>3.6</td>\n      <td>0.8</td>\n      <td>5.4</td>\n      <td>83.6</td>\n      <td>917.5</td>\n      <td>0.0</td>\n      <td>8</td>\n      <td>1.9</td>\n      <td>6.5</td>\n    </tr>\n    <tr>\n      <th>4</th>\n      <td>349190625</td>\n      <td>ZAKOPANE</td>\n      <td>2020</td>\n      <td>1</td>\n      <td>5</td>\n      <td>7.9</td>\n      <td>2.8</td>\n      <td>-4.1</td>\n      <td>3.8</td>\n      <td>83.6</td>\n      <td>924.4</td>\n      <td>0.0</td>\n      <td>8</td>\n      <td>3.4</td>\n      <td>0.0</td>\n    </tr>\n    <tr>\n      <th>...</th>\n      <td>...</td>\n      <td>...</td>\n      <td>...</td>\n      <td>...</td>\n      <td>...</td>\n      <td>...</td>\n      <td>...</td>\n      <td>...</td>\n      <td>...</td>\n      <td>...</td>\n      <td>...</td>\n      <td>...</td>\n      <td>...</td>\n      <td>...</td>\n      <td>...</td>\n    </tr>\n    <tr>\n      <th>542</th>\n      <td>349190625</td>\n      <td>ZAKOPANE</td>\n      <td>2019</td>\n      <td>12</td>\n      <td>27</td>\n      <td>7.9</td>\n      <td>2.1</td>\n      <td>-2.0</td>\n      <td>4.8</td>\n      <td>91.3</td>\n      <td>920.5</td>\n      <td>0.0</td>\n      <td>8</td>\n      <td>4.6</td>\n      <td>6.5</td>\n    </tr>\n    <tr>\n      <th>543</th>\n      <td>349190625</td>\n      <td>ZAKOPANE</td>\n      <td>2019</td>\n      <td>12</td>\n      <td>28</td>\n      <td>8.0</td>\n      <td>2.6</td>\n      <td>-4.6</td>\n      <td>4.0</td>\n      <td>90.6</td>\n      <td>928.0</td>\n      <td>0.0</td>\n      <td>8</td>\n      <td>3.7</td>\n      <td>0.4</td>\n    </tr>\n    <tr>\n      <th>544</th>\n      <td>349190625</td>\n      <td>ZAKOPANE</td>\n      <td>2019</td>\n      <td>12</td>\n      <td>29</td>\n      <td>7.1</td>\n      <td>0.9</td>\n      <td>-7.3</td>\n      <td>3.2</td>\n      <td>88.3</td>\n      <td>933.2</td>\n      <td>0.0</td>\n      <td>8</td>\n      <td>1.1</td>\n      <td>0.0</td>\n    </tr>\n    <tr>\n      <th>545</th>\n      <td>349190625</td>\n      <td>ZAKOPANE</td>\n      <td>2019</td>\n      <td>12</td>\n      <td>30</td>\n      <td>6.0</td>\n      <td>1.3</td>\n      <td>-2.3</td>\n      <td>4.8</td>\n      <td>87.5</td>\n      <td>931.0</td>\n      <td>0.0</td>\n      <td>8</td>\n      <td>0.0</td>\n      <td>0.0</td>\n    </tr>\n    <tr>\n      <th>546</th>\n      <td>349190625</td>\n      <td>ZAKOPANE</td>\n      <td>2019</td>\n      <td>12</td>\n      <td>31</td>\n      <td>6.5</td>\n      <td>2.8</td>\n      <td>2.8</td>\n      <td>5.0</td>\n      <td>68.3</td>\n      <td>924.5</td>\n      <td>0.0</td>\n      <td>8</td>\n      <td>0.0</td>\n      <td>0.0</td>\n    </tr>\n  </tbody>\n</table>\n<p>547 rows × 15 columns</p>\n</div>"
     },
     "metadata": {},
     "execution_count": 56
    }
   ],
   "source": [
    "df"
   ]
  },
  {
   "cell_type": "code",
   "execution_count": 57,
   "metadata": {},
   "outputs": [],
   "source": [
    "def normalize_particular_columns(df, column_names):\n",
    "    for col_name in column_names:\n",
    "        df.iloc[:,col_name]=(df.iloc[:,col_name]-df.iloc[:,col_name].mean())/df.iloc[:,col_name].std()"
   ]
  },
  {
   "cell_type": "code",
   "execution_count": 58,
   "metadata": {},
   "outputs": [],
   "source": [
    "value = []\n",
    "data = df['Suma opadu dzień  [mm]']\n",
    "data = data.to_numpy()\n",
    "for row in data:\n",
    "    if row == 0:\n",
    "        value.append(0)\n",
    "    elif row > 0:\n",
    "        value.append(1)\n",
    "df['deszcz w dzień']= value\n",
    "\n",
    "value1 = []\n",
    "data1 = df['Suma opadu noc   [mm]']\n",
    "data1 = data1.to_numpy()\n",
    "for row1 in data1:\n",
    "    if row1 == 0:\n",
    "        value1.append(0)\n",
    "    elif row1 > 0:\n",
    "        value1.append(1)\n",
    "df['deszcz w nocy']= value"
   ]
  },
  {
   "cell_type": "code",
   "execution_count": 59,
   "metadata": {},
   "outputs": [
    {
     "output_type": "execute_result",
     "data": {
      "text/plain": "     Kod stacji Nazwa stacji   Rok  Miesiąc  Dzień  \\\n0     349190625     ZAKOPANE  2020        1      1   \n1     349190625     ZAKOPANE  2020        1      2   \n2     349190625     ZAKOPANE  2020        1      3   \n3     349190625     ZAKOPANE  2020        1      4   \n4     349190625     ZAKOPANE  2020        1      5   \n..          ...          ...   ...      ...    ...   \n542   349190625     ZAKOPANE  2019       12     27   \n543   349190625     ZAKOPANE  2019       12     28   \n544   349190625     ZAKOPANE  2019       12     29   \n545   349190625     ZAKOPANE  2019       12     30   \n546   349190625     ZAKOPANE  2019       12     31   \n\n     Średnie dobowe zachmurzenie ogólne [oktanty]  \\\n0                                             4.3   \n1                                             4.4   \n2                                             2.5   \n3                                             7.6   \n4                                             7.9   \n..                                            ...   \n542                                           7.9   \n543                                           8.0   \n544                                           7.1   \n545                                           6.0   \n546                                           6.5   \n\n     Średnia dobowa prędkość wiatru [m/s]  Średnia dobowa temperatura [°C]  \\\n0                                     2.0                             -1.7   \n1                                     1.3                             -1.5   \n2                                     1.4                             -1.1   \n3                                     3.6                              0.8   \n4                                     2.8                             -4.1   \n..                                    ...                              ...   \n542                                   2.1                             -2.0   \n543                                   2.6                             -4.6   \n544                                   0.9                             -7.3   \n545                                   1.3                             -2.3   \n546                                   2.8                              2.8   \n\n     Średnia dobowe ciśnienie pary wodnej [hPa]  \\\n0                                           4.0   \n1                                           3.1   \n2                                           3.8   \n3                                           5.4   \n4                                           3.8   \n..                                          ...   \n542                                         4.8   \n543                                         4.0   \n544                                         3.2   \n545                                         4.8   \n546                                         5.0   \n\n     Średnia dobowa wilgotność względna [%]  \\\n0                                      73.1   \n1                                      56.8   \n2                                      68.8   \n3                                      83.6   \n4                                      83.6   \n..                                      ...   \n542                                    91.3   \n543                                    90.6   \n544                                    88.3   \n545                                    87.5   \n546                                    68.3   \n\n     Średnia dobowe ciśnienie na poziomie stacji [hPa]  \\\n0                                                929.5   \n1                                                928.8   \n2                                                922.4   \n3                                                917.5   \n4                                                924.4   \n..                                                 ...   \n542                                              920.5   \n543                                              928.0   \n544                                              933.2   \n545                                              931.0   \n546                                              924.5   \n\n     Średnie dobowe ciśnienie na pozimie morza [hPa]  Status pomiaru PPPM  \\\n0                                                0.0                    8   \n1                                                0.0                    8   \n2                                                0.0                    8   \n3                                                0.0                    8   \n4                                                0.0                    8   \n..                                               ...                  ...   \n542                                              0.0                    8   \n543                                              0.0                    8   \n544                                              0.0                    8   \n545                                              0.0                    8   \n546                                              0.0                    8   \n\n     Suma opadu dzień  [mm]  Suma opadu noc   [mm]  deszcz w dzień  \\\n0                       0.0                    0.0               0   \n1                       0.0                    0.0               0   \n2                       0.0                    0.0               0   \n3                       1.9                    6.5               1   \n4                       3.4                    0.0               1   \n..                      ...                    ...             ...   \n542                     4.6                    6.5               1   \n543                     3.7                    0.4               1   \n544                     1.1                    0.0               1   \n545                     0.0                    0.0               0   \n546                     0.0                    0.0               0   \n\n     deszcz w nocy  \n0                0  \n1                0  \n2                0  \n3                1  \n4                1  \n..             ...  \n542              1  \n543              1  \n544              1  \n545              0  \n546              0  \n\n[547 rows x 17 columns]",
      "text/html": "<div>\n<style scoped>\n    .dataframe tbody tr th:only-of-type {\n        vertical-align: middle;\n    }\n\n    .dataframe tbody tr th {\n        vertical-align: top;\n    }\n\n    .dataframe thead th {\n        text-align: right;\n    }\n</style>\n<table border=\"1\" class=\"dataframe\">\n  <thead>\n    <tr style=\"text-align: right;\">\n      <th></th>\n      <th>Kod stacji</th>\n      <th>Nazwa stacji</th>\n      <th>Rok</th>\n      <th>Miesiąc</th>\n      <th>Dzień</th>\n      <th>Średnie dobowe zachmurzenie ogólne [oktanty]</th>\n      <th>Średnia dobowa prędkość wiatru [m/s]</th>\n      <th>Średnia dobowa temperatura [°C]</th>\n      <th>Średnia dobowe ciśnienie pary wodnej [hPa]</th>\n      <th>Średnia dobowa wilgotność względna [%]</th>\n      <th>Średnia dobowe ciśnienie na poziomie stacji [hPa]</th>\n      <th>Średnie dobowe ciśnienie na pozimie morza [hPa]</th>\n      <th>Status pomiaru PPPM</th>\n      <th>Suma opadu dzień  [mm]</th>\n      <th>Suma opadu noc   [mm]</th>\n      <th>deszcz w dzień</th>\n      <th>deszcz w nocy</th>\n    </tr>\n  </thead>\n  <tbody>\n    <tr>\n      <th>0</th>\n      <td>349190625</td>\n      <td>ZAKOPANE</td>\n      <td>2020</td>\n      <td>1</td>\n      <td>1</td>\n      <td>4.3</td>\n      <td>2.0</td>\n      <td>-1.7</td>\n      <td>4.0</td>\n      <td>73.1</td>\n      <td>929.5</td>\n      <td>0.0</td>\n      <td>8</td>\n      <td>0.0</td>\n      <td>0.0</td>\n      <td>0</td>\n      <td>0</td>\n    </tr>\n    <tr>\n      <th>1</th>\n      <td>349190625</td>\n      <td>ZAKOPANE</td>\n      <td>2020</td>\n      <td>1</td>\n      <td>2</td>\n      <td>4.4</td>\n      <td>1.3</td>\n      <td>-1.5</td>\n      <td>3.1</td>\n      <td>56.8</td>\n      <td>928.8</td>\n      <td>0.0</td>\n      <td>8</td>\n      <td>0.0</td>\n      <td>0.0</td>\n      <td>0</td>\n      <td>0</td>\n    </tr>\n    <tr>\n      <th>2</th>\n      <td>349190625</td>\n      <td>ZAKOPANE</td>\n      <td>2020</td>\n      <td>1</td>\n      <td>3</td>\n      <td>2.5</td>\n      <td>1.4</td>\n      <td>-1.1</td>\n      <td>3.8</td>\n      <td>68.8</td>\n      <td>922.4</td>\n      <td>0.0</td>\n      <td>8</td>\n      <td>0.0</td>\n      <td>0.0</td>\n      <td>0</td>\n      <td>0</td>\n    </tr>\n    <tr>\n      <th>3</th>\n      <td>349190625</td>\n      <td>ZAKOPANE</td>\n      <td>2020</td>\n      <td>1</td>\n      <td>4</td>\n      <td>7.6</td>\n      <td>3.6</td>\n      <td>0.8</td>\n      <td>5.4</td>\n      <td>83.6</td>\n      <td>917.5</td>\n      <td>0.0</td>\n      <td>8</td>\n      <td>1.9</td>\n      <td>6.5</td>\n      <td>1</td>\n      <td>1</td>\n    </tr>\n    <tr>\n      <th>4</th>\n      <td>349190625</td>\n      <td>ZAKOPANE</td>\n      <td>2020</td>\n      <td>1</td>\n      <td>5</td>\n      <td>7.9</td>\n      <td>2.8</td>\n      <td>-4.1</td>\n      <td>3.8</td>\n      <td>83.6</td>\n      <td>924.4</td>\n      <td>0.0</td>\n      <td>8</td>\n      <td>3.4</td>\n      <td>0.0</td>\n      <td>1</td>\n      <td>1</td>\n    </tr>\n    <tr>\n      <th>...</th>\n      <td>...</td>\n      <td>...</td>\n      <td>...</td>\n      <td>...</td>\n      <td>...</td>\n      <td>...</td>\n      <td>...</td>\n      <td>...</td>\n      <td>...</td>\n      <td>...</td>\n      <td>...</td>\n      <td>...</td>\n      <td>...</td>\n      <td>...</td>\n      <td>...</td>\n      <td>...</td>\n      <td>...</td>\n    </tr>\n    <tr>\n      <th>542</th>\n      <td>349190625</td>\n      <td>ZAKOPANE</td>\n      <td>2019</td>\n      <td>12</td>\n      <td>27</td>\n      <td>7.9</td>\n      <td>2.1</td>\n      <td>-2.0</td>\n      <td>4.8</td>\n      <td>91.3</td>\n      <td>920.5</td>\n      <td>0.0</td>\n      <td>8</td>\n      <td>4.6</td>\n      <td>6.5</td>\n      <td>1</td>\n      <td>1</td>\n    </tr>\n    <tr>\n      <th>543</th>\n      <td>349190625</td>\n      <td>ZAKOPANE</td>\n      <td>2019</td>\n      <td>12</td>\n      <td>28</td>\n      <td>8.0</td>\n      <td>2.6</td>\n      <td>-4.6</td>\n      <td>4.0</td>\n      <td>90.6</td>\n      <td>928.0</td>\n      <td>0.0</td>\n      <td>8</td>\n      <td>3.7</td>\n      <td>0.4</td>\n      <td>1</td>\n      <td>1</td>\n    </tr>\n    <tr>\n      <th>544</th>\n      <td>349190625</td>\n      <td>ZAKOPANE</td>\n      <td>2019</td>\n      <td>12</td>\n      <td>29</td>\n      <td>7.1</td>\n      <td>0.9</td>\n      <td>-7.3</td>\n      <td>3.2</td>\n      <td>88.3</td>\n      <td>933.2</td>\n      <td>0.0</td>\n      <td>8</td>\n      <td>1.1</td>\n      <td>0.0</td>\n      <td>1</td>\n      <td>1</td>\n    </tr>\n    <tr>\n      <th>545</th>\n      <td>349190625</td>\n      <td>ZAKOPANE</td>\n      <td>2019</td>\n      <td>12</td>\n      <td>30</td>\n      <td>6.0</td>\n      <td>1.3</td>\n      <td>-2.3</td>\n      <td>4.8</td>\n      <td>87.5</td>\n      <td>931.0</td>\n      <td>0.0</td>\n      <td>8</td>\n      <td>0.0</td>\n      <td>0.0</td>\n      <td>0</td>\n      <td>0</td>\n    </tr>\n    <tr>\n      <th>546</th>\n      <td>349190625</td>\n      <td>ZAKOPANE</td>\n      <td>2019</td>\n      <td>12</td>\n      <td>31</td>\n      <td>6.5</td>\n      <td>2.8</td>\n      <td>2.8</td>\n      <td>5.0</td>\n      <td>68.3</td>\n      <td>924.5</td>\n      <td>0.0</td>\n      <td>8</td>\n      <td>0.0</td>\n      <td>0.0</td>\n      <td>0</td>\n      <td>0</td>\n    </tr>\n  </tbody>\n</table>\n<p>547 rows × 17 columns</p>\n</div>"
     },
     "metadata": {},
     "execution_count": 59
    }
   ],
   "source": [
    "df"
   ]
  },
  {
   "cell_type": "code",
   "execution_count": 60,
   "metadata": {},
   "outputs": [],
   "source": [
    "df = df.drop(df.columns[11],axis = 1)\n",
    "df = df.drop(df.columns[11],axis = 1)"
   ]
  },
  {
   "cell_type": "code",
   "execution_count": 61,
   "metadata": {},
   "outputs": [],
   "source": [
    "columns_to_normalize = [[5],[6],[7],[8],[9],[10]]\n",
    "normalize_particular_columns(df, columns_to_normalize)"
   ]
  },
  {
   "cell_type": "code",
   "execution_count": 62,
   "metadata": {},
   "outputs": [
    {
     "output_type": "execute_result",
     "data": {
      "text/plain": "     Kod stacji Nazwa stacji   Rok  Miesiąc  Dzień  \\\n0     349190625     ZAKOPANE  2020        1      1   \n1     349190625     ZAKOPANE  2020        1      2   \n2     349190625     ZAKOPANE  2020        1      3   \n3     349190625     ZAKOPANE  2020        1      4   \n4     349190625     ZAKOPANE  2020        1      5   \n..          ...          ...   ...      ...    ...   \n542   349190625     ZAKOPANE  2019       12     27   \n543   349190625     ZAKOPANE  2019       12     28   \n544   349190625     ZAKOPANE  2019       12     29   \n545   349190625     ZAKOPANE  2019       12     30   \n546   349190625     ZAKOPANE  2019       12     31   \n\n     Średnie dobowe zachmurzenie ogólne [oktanty]  \\\n0                                       -0.503961   \n1                                       -0.457023   \n2                                       -1.348845   \n3                                        1.044993   \n4                                        1.185807   \n..                                            ...   \n542                                      1.185807   \n543                                      1.232745   \n544                                      0.810303   \n545                                      0.293985   \n546                                      0.528675   \n\n     Średnia dobowa prędkość wiatru [m/s]  Średnia dobowa temperatura [°C]  \\\n0                                0.381053                        -1.115719   \n1                               -0.472693                        -1.089057   \n2                               -0.350729                        -1.035733   \n3                                2.332472                        -0.782441   \n4                                1.356762                        -1.435666   \n..                                    ...                              ...   \n542                              0.503017                        -1.155713   \n543                              1.112835                        -1.502322   \n544                             -0.960547                        -1.862262   \n545                             -0.472693                        -1.195706   \n546                              1.356762                        -0.515819   \n\n     Średnia dobowe ciśnienie pary wodnej [hPa]  \\\n0                                     -0.959836   \n1                                     -1.181264   \n2                                     -1.009042   \n3                                     -0.615393   \n4                                     -1.009042   \n..                                          ...   \n542                                   -0.763011   \n543                                   -0.959836   \n544                                   -1.156661   \n545                                   -0.763011   \n546                                   -0.713805   \n\n     Średnia dobowa wilgotność względna [%]  \\\n0                                 -0.113218   \n1                                 -1.372368   \n2                                 -0.445386   \n3                                  0.697891   \n4                                  0.697891   \n..                                      ...   \n542                                1.292705   \n543                                1.238631   \n544                                1.060959   \n545                                0.999160   \n546                               -0.484010   \n\n     Średnia dobowe ciśnienie na poziomie stacji [hPa]  \\\n0                                             1.609431   \n1                                             1.516841   \n2                                             0.670304   \n3                                             0.022174   \n4                                             0.934847   \n..                                                 ...   \n542                                           0.418988   \n543                                           1.411024   \n544                                           2.098835   \n545                                           1.807838   \n546                                           0.948074   \n\n     Suma opadu dzień  [mm]  Suma opadu noc   [mm]  deszcz w dzień  \\\n0                       0.0                    0.0               0   \n1                       0.0                    0.0               0   \n2                       0.0                    0.0               0   \n3                       1.9                    6.5               1   \n4                       3.4                    0.0               1   \n..                      ...                    ...             ...   \n542                     4.6                    6.5               1   \n543                     3.7                    0.4               1   \n544                     1.1                    0.0               1   \n545                     0.0                    0.0               0   \n546                     0.0                    0.0               0   \n\n     deszcz w nocy  \n0                0  \n1                0  \n2                0  \n3                1  \n4                1  \n..             ...  \n542              1  \n543              1  \n544              1  \n545              0  \n546              0  \n\n[547 rows x 15 columns]",
      "text/html": "<div>\n<style scoped>\n    .dataframe tbody tr th:only-of-type {\n        vertical-align: middle;\n    }\n\n    .dataframe tbody tr th {\n        vertical-align: top;\n    }\n\n    .dataframe thead th {\n        text-align: right;\n    }\n</style>\n<table border=\"1\" class=\"dataframe\">\n  <thead>\n    <tr style=\"text-align: right;\">\n      <th></th>\n      <th>Kod stacji</th>\n      <th>Nazwa stacji</th>\n      <th>Rok</th>\n      <th>Miesiąc</th>\n      <th>Dzień</th>\n      <th>Średnie dobowe zachmurzenie ogólne [oktanty]</th>\n      <th>Średnia dobowa prędkość wiatru [m/s]</th>\n      <th>Średnia dobowa temperatura [°C]</th>\n      <th>Średnia dobowe ciśnienie pary wodnej [hPa]</th>\n      <th>Średnia dobowa wilgotność względna [%]</th>\n      <th>Średnia dobowe ciśnienie na poziomie stacji [hPa]</th>\n      <th>Suma opadu dzień  [mm]</th>\n      <th>Suma opadu noc   [mm]</th>\n      <th>deszcz w dzień</th>\n      <th>deszcz w nocy</th>\n    </tr>\n  </thead>\n  <tbody>\n    <tr>\n      <th>0</th>\n      <td>349190625</td>\n      <td>ZAKOPANE</td>\n      <td>2020</td>\n      <td>1</td>\n      <td>1</td>\n      <td>-0.503961</td>\n      <td>0.381053</td>\n      <td>-1.115719</td>\n      <td>-0.959836</td>\n      <td>-0.113218</td>\n      <td>1.609431</td>\n      <td>0.0</td>\n      <td>0.0</td>\n      <td>0</td>\n      <td>0</td>\n    </tr>\n    <tr>\n      <th>1</th>\n      <td>349190625</td>\n      <td>ZAKOPANE</td>\n      <td>2020</td>\n      <td>1</td>\n      <td>2</td>\n      <td>-0.457023</td>\n      <td>-0.472693</td>\n      <td>-1.089057</td>\n      <td>-1.181264</td>\n      <td>-1.372368</td>\n      <td>1.516841</td>\n      <td>0.0</td>\n      <td>0.0</td>\n      <td>0</td>\n      <td>0</td>\n    </tr>\n    <tr>\n      <th>2</th>\n      <td>349190625</td>\n      <td>ZAKOPANE</td>\n      <td>2020</td>\n      <td>1</td>\n      <td>3</td>\n      <td>-1.348845</td>\n      <td>-0.350729</td>\n      <td>-1.035733</td>\n      <td>-1.009042</td>\n      <td>-0.445386</td>\n      <td>0.670304</td>\n      <td>0.0</td>\n      <td>0.0</td>\n      <td>0</td>\n      <td>0</td>\n    </tr>\n    <tr>\n      <th>3</th>\n      <td>349190625</td>\n      <td>ZAKOPANE</td>\n      <td>2020</td>\n      <td>1</td>\n      <td>4</td>\n      <td>1.044993</td>\n      <td>2.332472</td>\n      <td>-0.782441</td>\n      <td>-0.615393</td>\n      <td>0.697891</td>\n      <td>0.022174</td>\n      <td>1.9</td>\n      <td>6.5</td>\n      <td>1</td>\n      <td>1</td>\n    </tr>\n    <tr>\n      <th>4</th>\n      <td>349190625</td>\n      <td>ZAKOPANE</td>\n      <td>2020</td>\n      <td>1</td>\n      <td>5</td>\n      <td>1.185807</td>\n      <td>1.356762</td>\n      <td>-1.435666</td>\n      <td>-1.009042</td>\n      <td>0.697891</td>\n      <td>0.934847</td>\n      <td>3.4</td>\n      <td>0.0</td>\n      <td>1</td>\n      <td>1</td>\n    </tr>\n    <tr>\n      <th>...</th>\n      <td>...</td>\n      <td>...</td>\n      <td>...</td>\n      <td>...</td>\n      <td>...</td>\n      <td>...</td>\n      <td>...</td>\n      <td>...</td>\n      <td>...</td>\n      <td>...</td>\n      <td>...</td>\n      <td>...</td>\n      <td>...</td>\n      <td>...</td>\n      <td>...</td>\n    </tr>\n    <tr>\n      <th>542</th>\n      <td>349190625</td>\n      <td>ZAKOPANE</td>\n      <td>2019</td>\n      <td>12</td>\n      <td>27</td>\n      <td>1.185807</td>\n      <td>0.503017</td>\n      <td>-1.155713</td>\n      <td>-0.763011</td>\n      <td>1.292705</td>\n      <td>0.418988</td>\n      <td>4.6</td>\n      <td>6.5</td>\n      <td>1</td>\n      <td>1</td>\n    </tr>\n    <tr>\n      <th>543</th>\n      <td>349190625</td>\n      <td>ZAKOPANE</td>\n      <td>2019</td>\n      <td>12</td>\n      <td>28</td>\n      <td>1.232745</td>\n      <td>1.112835</td>\n      <td>-1.502322</td>\n      <td>-0.959836</td>\n      <td>1.238631</td>\n      <td>1.411024</td>\n      <td>3.7</td>\n      <td>0.4</td>\n      <td>1</td>\n      <td>1</td>\n    </tr>\n    <tr>\n      <th>544</th>\n      <td>349190625</td>\n      <td>ZAKOPANE</td>\n      <td>2019</td>\n      <td>12</td>\n      <td>29</td>\n      <td>0.810303</td>\n      <td>-0.960547</td>\n      <td>-1.862262</td>\n      <td>-1.156661</td>\n      <td>1.060959</td>\n      <td>2.098835</td>\n      <td>1.1</td>\n      <td>0.0</td>\n      <td>1</td>\n      <td>1</td>\n    </tr>\n    <tr>\n      <th>545</th>\n      <td>349190625</td>\n      <td>ZAKOPANE</td>\n      <td>2019</td>\n      <td>12</td>\n      <td>30</td>\n      <td>0.293985</td>\n      <td>-0.472693</td>\n      <td>-1.195706</td>\n      <td>-0.763011</td>\n      <td>0.999160</td>\n      <td>1.807838</td>\n      <td>0.0</td>\n      <td>0.0</td>\n      <td>0</td>\n      <td>0</td>\n    </tr>\n    <tr>\n      <th>546</th>\n      <td>349190625</td>\n      <td>ZAKOPANE</td>\n      <td>2019</td>\n      <td>12</td>\n      <td>31</td>\n      <td>0.528675</td>\n      <td>1.356762</td>\n      <td>-0.515819</td>\n      <td>-0.713805</td>\n      <td>-0.484010</td>\n      <td>0.948074</td>\n      <td>0.0</td>\n      <td>0.0</td>\n      <td>0</td>\n      <td>0</td>\n    </tr>\n  </tbody>\n</table>\n<p>547 rows × 15 columns</p>\n</div>"
     },
     "metadata": {},
     "execution_count": 62
    }
   ],
   "source": [
    "df"
   ]
  },
  {
   "cell_type": "code",
   "execution_count": 63,
   "metadata": {},
   "outputs": [
    {
     "output_type": "execute_result",
     "data": {
      "text/plain": "     Kod stacji Nazwa stacji       Data  \\\n0     349190625     ZAKOPANE 2020-01-01   \n1     349190625     ZAKOPANE 2020-01-02   \n2     349190625     ZAKOPANE 2020-01-03   \n3     349190625     ZAKOPANE 2020-01-04   \n4     349190625     ZAKOPANE 2020-01-05   \n..          ...          ...        ...   \n542   349190625     ZAKOPANE 2019-12-27   \n543   349190625     ZAKOPANE 2019-12-28   \n544   349190625     ZAKOPANE 2019-12-29   \n545   349190625     ZAKOPANE 2019-12-30   \n546   349190625     ZAKOPANE 2019-12-31   \n\n     Średnie dobowe zachmurzenie ogólne [oktanty]  \\\n0                                       -0.503961   \n1                                       -0.457023   \n2                                       -1.348845   \n3                                        1.044993   \n4                                        1.185807   \n..                                            ...   \n542                                      1.185807   \n543                                      1.232745   \n544                                      0.810303   \n545                                      0.293985   \n546                                      0.528675   \n\n     Średnia dobowa prędkość wiatru [m/s]  Średnia dobowa temperatura [°C]  \\\n0                                0.381053                        -1.115719   \n1                               -0.472693                        -1.089057   \n2                               -0.350729                        -1.035733   \n3                                2.332472                        -0.782441   \n4                                1.356762                        -1.435666   \n..                                    ...                              ...   \n542                              0.503017                        -1.155713   \n543                              1.112835                        -1.502322   \n544                             -0.960547                        -1.862262   \n545                             -0.472693                        -1.195706   \n546                              1.356762                        -0.515819   \n\n     Średnia dobowe ciśnienie pary wodnej [hPa]  \\\n0                                     -0.959836   \n1                                     -1.181264   \n2                                     -1.009042   \n3                                     -0.615393   \n4                                     -1.009042   \n..                                          ...   \n542                                   -0.763011   \n543                                   -0.959836   \n544                                   -1.156661   \n545                                   -0.763011   \n546                                   -0.713805   \n\n     Średnia dobowa wilgotność względna [%]  \\\n0                                 -0.113218   \n1                                 -1.372368   \n2                                 -0.445386   \n3                                  0.697891   \n4                                  0.697891   \n..                                      ...   \n542                                1.292705   \n543                                1.238631   \n544                                1.060959   \n545                                0.999160   \n546                               -0.484010   \n\n     Średnia dobowe ciśnienie na poziomie stacji [hPa]  \\\n0                                             1.609431   \n1                                             1.516841   \n2                                             0.670304   \n3                                             0.022174   \n4                                             0.934847   \n..                                                 ...   \n542                                           0.418988   \n543                                           1.411024   \n544                                           2.098835   \n545                                           1.807838   \n546                                           0.948074   \n\n     Suma opadu dzień  [mm]  Suma opadu noc   [mm]  deszcz w dzień  \\\n0                       0.0                    0.0               0   \n1                       0.0                    0.0               0   \n2                       0.0                    0.0               0   \n3                       1.9                    6.5               1   \n4                       3.4                    0.0               1   \n..                      ...                    ...             ...   \n542                     4.6                    6.5               1   \n543                     3.7                    0.4               1   \n544                     1.1                    0.0               1   \n545                     0.0                    0.0               0   \n546                     0.0                    0.0               0   \n\n     deszcz w nocy  \n0                0  \n1                0  \n2                0  \n3                1  \n4                1  \n..             ...  \n542              1  \n543              1  \n544              1  \n545              0  \n546              0  \n\n[547 rows x 13 columns]",
      "text/html": "<div>\n<style scoped>\n    .dataframe tbody tr th:only-of-type {\n        vertical-align: middle;\n    }\n\n    .dataframe tbody tr th {\n        vertical-align: top;\n    }\n\n    .dataframe thead th {\n        text-align: right;\n    }\n</style>\n<table border=\"1\" class=\"dataframe\">\n  <thead>\n    <tr style=\"text-align: right;\">\n      <th></th>\n      <th>Kod stacji</th>\n      <th>Nazwa stacji</th>\n      <th>Data</th>\n      <th>Średnie dobowe zachmurzenie ogólne [oktanty]</th>\n      <th>Średnia dobowa prędkość wiatru [m/s]</th>\n      <th>Średnia dobowa temperatura [°C]</th>\n      <th>Średnia dobowe ciśnienie pary wodnej [hPa]</th>\n      <th>Średnia dobowa wilgotność względna [%]</th>\n      <th>Średnia dobowe ciśnienie na poziomie stacji [hPa]</th>\n      <th>Suma opadu dzień  [mm]</th>\n      <th>Suma opadu noc   [mm]</th>\n      <th>deszcz w dzień</th>\n      <th>deszcz w nocy</th>\n    </tr>\n  </thead>\n  <tbody>\n    <tr>\n      <th>0</th>\n      <td>349190625</td>\n      <td>ZAKOPANE</td>\n      <td>2020-01-01</td>\n      <td>-0.503961</td>\n      <td>0.381053</td>\n      <td>-1.115719</td>\n      <td>-0.959836</td>\n      <td>-0.113218</td>\n      <td>1.609431</td>\n      <td>0.0</td>\n      <td>0.0</td>\n      <td>0</td>\n      <td>0</td>\n    </tr>\n    <tr>\n      <th>1</th>\n      <td>349190625</td>\n      <td>ZAKOPANE</td>\n      <td>2020-01-02</td>\n      <td>-0.457023</td>\n      <td>-0.472693</td>\n      <td>-1.089057</td>\n      <td>-1.181264</td>\n      <td>-1.372368</td>\n      <td>1.516841</td>\n      <td>0.0</td>\n      <td>0.0</td>\n      <td>0</td>\n      <td>0</td>\n    </tr>\n    <tr>\n      <th>2</th>\n      <td>349190625</td>\n      <td>ZAKOPANE</td>\n      <td>2020-01-03</td>\n      <td>-1.348845</td>\n      <td>-0.350729</td>\n      <td>-1.035733</td>\n      <td>-1.009042</td>\n      <td>-0.445386</td>\n      <td>0.670304</td>\n      <td>0.0</td>\n      <td>0.0</td>\n      <td>0</td>\n      <td>0</td>\n    </tr>\n    <tr>\n      <th>3</th>\n      <td>349190625</td>\n      <td>ZAKOPANE</td>\n      <td>2020-01-04</td>\n      <td>1.044993</td>\n      <td>2.332472</td>\n      <td>-0.782441</td>\n      <td>-0.615393</td>\n      <td>0.697891</td>\n      <td>0.022174</td>\n      <td>1.9</td>\n      <td>6.5</td>\n      <td>1</td>\n      <td>1</td>\n    </tr>\n    <tr>\n      <th>4</th>\n      <td>349190625</td>\n      <td>ZAKOPANE</td>\n      <td>2020-01-05</td>\n      <td>1.185807</td>\n      <td>1.356762</td>\n      <td>-1.435666</td>\n      <td>-1.009042</td>\n      <td>0.697891</td>\n      <td>0.934847</td>\n      <td>3.4</td>\n      <td>0.0</td>\n      <td>1</td>\n      <td>1</td>\n    </tr>\n    <tr>\n      <th>...</th>\n      <td>...</td>\n      <td>...</td>\n      <td>...</td>\n      <td>...</td>\n      <td>...</td>\n      <td>...</td>\n      <td>...</td>\n      <td>...</td>\n      <td>...</td>\n      <td>...</td>\n      <td>...</td>\n      <td>...</td>\n      <td>...</td>\n    </tr>\n    <tr>\n      <th>542</th>\n      <td>349190625</td>\n      <td>ZAKOPANE</td>\n      <td>2019-12-27</td>\n      <td>1.185807</td>\n      <td>0.503017</td>\n      <td>-1.155713</td>\n      <td>-0.763011</td>\n      <td>1.292705</td>\n      <td>0.418988</td>\n      <td>4.6</td>\n      <td>6.5</td>\n      <td>1</td>\n      <td>1</td>\n    </tr>\n    <tr>\n      <th>543</th>\n      <td>349190625</td>\n      <td>ZAKOPANE</td>\n      <td>2019-12-28</td>\n      <td>1.232745</td>\n      <td>1.112835</td>\n      <td>-1.502322</td>\n      <td>-0.959836</td>\n      <td>1.238631</td>\n      <td>1.411024</td>\n      <td>3.7</td>\n      <td>0.4</td>\n      <td>1</td>\n      <td>1</td>\n    </tr>\n    <tr>\n      <th>544</th>\n      <td>349190625</td>\n      <td>ZAKOPANE</td>\n      <td>2019-12-29</td>\n      <td>0.810303</td>\n      <td>-0.960547</td>\n      <td>-1.862262</td>\n      <td>-1.156661</td>\n      <td>1.060959</td>\n      <td>2.098835</td>\n      <td>1.1</td>\n      <td>0.0</td>\n      <td>1</td>\n      <td>1</td>\n    </tr>\n    <tr>\n      <th>545</th>\n      <td>349190625</td>\n      <td>ZAKOPANE</td>\n      <td>2019-12-30</td>\n      <td>0.293985</td>\n      <td>-0.472693</td>\n      <td>-1.195706</td>\n      <td>-0.763011</td>\n      <td>0.999160</td>\n      <td>1.807838</td>\n      <td>0.0</td>\n      <td>0.0</td>\n      <td>0</td>\n      <td>0</td>\n    </tr>\n    <tr>\n      <th>546</th>\n      <td>349190625</td>\n      <td>ZAKOPANE</td>\n      <td>2019-12-31</td>\n      <td>0.528675</td>\n      <td>1.356762</td>\n      <td>-0.515819</td>\n      <td>-0.713805</td>\n      <td>-0.484010</td>\n      <td>0.948074</td>\n      <td>0.0</td>\n      <td>0.0</td>\n      <td>0</td>\n      <td>0</td>\n    </tr>\n  </tbody>\n</table>\n<p>547 rows × 13 columns</p>\n</div>"
     },
     "metadata": {},
     "execution_count": 63
    }
   ],
   "source": [
    "date = pd.to_datetime((df['Rok']*10000+df['Miesiąc']*100+df['Dzień']).apply(str),format='%Y%m%d')\n",
    "df.insert(loc=2, column='Data', value=date)\n",
    "for i in range(0,3):\n",
    "    df = df.drop(df.columns[3],axis = 1)\n",
    "df"
   ]
  },
  {
   "cell_type": "code",
   "execution_count": 65,
   "metadata": {},
   "outputs": [],
   "source": [
    "df.sort_values(by=['Data'], inplace=True)"
   ]
  },
  {
   "cell_type": "code",
   "execution_count": 66,
   "metadata": {},
   "outputs": [
    {
     "output_type": "execute_result",
     "data": {
      "text/plain": "     Kod stacji Nazwa stacji       Data  \\\n182   349190625     ZAKOPANE 2019-01-01   \n183   349190625     ZAKOPANE 2019-01-02   \n184   349190625     ZAKOPANE 2019-01-03   \n185   349190625     ZAKOPANE 2019-01-04   \n186   349190625     ZAKOPANE 2019-01-05   \n..          ...          ...        ...   \n177   349190625     ZAKOPANE 2020-06-26   \n178   349190625     ZAKOPANE 2020-06-27   \n179   349190625     ZAKOPANE 2020-06-28   \n180   349190625     ZAKOPANE 2020-06-29   \n181   349190625     ZAKOPANE 2020-06-30   \n\n     Średnie dobowe zachmurzenie ogólne [oktanty]  \\\n182                                      0.575613   \n183                                      1.138869   \n184                                      1.232745   \n185                                      1.185807   \n186                                      1.185807   \n..                                            ...   \n177                                      0.481737   \n178                                      0.247047   \n179                                     -0.832527   \n180                                     -0.222333   \n181                                     -1.208031   \n\n     Średnia dobowa prędkość wiatru [m/s]  Średnia dobowa temperatura [°C]  \\\n182                              1.356762                        -1.022401   \n183                              1.966581                        -1.382342   \n184                             -0.106802                        -1.888924   \n185                             -0.228765                        -1.955579   \n186                             -0.106802                        -1.342348   \n..                                    ...                              ...   \n177                             -0.716620                         1.470517   \n178                              0.746944                         1.937106   \n179                             -0.228765                         1.723808   \n180                             -0.228765                         1.470517   \n181                              0.259089                         1.377199   \n\n     Średnia dobowe ciśnienie pary wodnej [hPa]  \\\n182                                   -0.713805   \n183                                   -0.910630   \n184                                   -1.205867   \n185                                   -1.279676   \n186                                   -0.886027   \n..                                          ...   \n177                                    1.598887   \n178                                    1.525078   \n179                                    1.943331   \n180                                    1.697299   \n181                                    0.885397   \n\n     Średnia dobowa wilgotność względna [%]  \\\n182                                0.798314   \n183                                1.176832   \n184                                0.844663   \n185                                0.520220   \n186                                1.230906   \n..                                      ...   \n177                               -0.043694   \n178                               -1.364643   \n179                               -0.205916   \n180                                0.149427   \n181                               -0.970676   \n\n     Średnia dobowe ciśnienie na poziomie stacji [hPa]  \\\n182                                           0.141218   \n183                                          -0.797909   \n184                                           0.233808   \n185                                           0.630623   \n186                                          -0.612729   \n..                                                 ...   \n177                                           0.604168   \n178                                           0.180900   \n179                                           0.220581   \n180                                          -0.268823   \n181                                          -0.189460   \n\n     Suma opadu dzień  [mm]  Suma opadu noc   [mm]  deszcz w dzień  \\\n182                     0.3                    3.0               1   \n183                     8.2                    4.5               1   \n184                     6.5                    2.7               1   \n185                     0.1                    2.9               1   \n186                     8.0                    1.3               1   \n..                      ...                    ...             ...   \n177                     1.1                    1.2               1   \n178                     0.0                    1.3               0   \n179                     0.0                    0.0               0   \n180                     3.6                    0.3               1   \n181                     0.0                    0.0               0   \n\n     deszcz w nocy  \n182              1  \n183              1  \n184              1  \n185              1  \n186              1  \n..             ...  \n177              1  \n178              0  \n179              0  \n180              1  \n181              0  \n\n[547 rows x 13 columns]",
      "text/html": "<div>\n<style scoped>\n    .dataframe tbody tr th:only-of-type {\n        vertical-align: middle;\n    }\n\n    .dataframe tbody tr th {\n        vertical-align: top;\n    }\n\n    .dataframe thead th {\n        text-align: right;\n    }\n</style>\n<table border=\"1\" class=\"dataframe\">\n  <thead>\n    <tr style=\"text-align: right;\">\n      <th></th>\n      <th>Kod stacji</th>\n      <th>Nazwa stacji</th>\n      <th>Data</th>\n      <th>Średnie dobowe zachmurzenie ogólne [oktanty]</th>\n      <th>Średnia dobowa prędkość wiatru [m/s]</th>\n      <th>Średnia dobowa temperatura [°C]</th>\n      <th>Średnia dobowe ciśnienie pary wodnej [hPa]</th>\n      <th>Średnia dobowa wilgotność względna [%]</th>\n      <th>Średnia dobowe ciśnienie na poziomie stacji [hPa]</th>\n      <th>Suma opadu dzień  [mm]</th>\n      <th>Suma opadu noc   [mm]</th>\n      <th>deszcz w dzień</th>\n      <th>deszcz w nocy</th>\n    </tr>\n  </thead>\n  <tbody>\n    <tr>\n      <th>182</th>\n      <td>349190625</td>\n      <td>ZAKOPANE</td>\n      <td>2019-01-01</td>\n      <td>0.575613</td>\n      <td>1.356762</td>\n      <td>-1.022401</td>\n      <td>-0.713805</td>\n      <td>0.798314</td>\n      <td>0.141218</td>\n      <td>0.3</td>\n      <td>3.0</td>\n      <td>1</td>\n      <td>1</td>\n    </tr>\n    <tr>\n      <th>183</th>\n      <td>349190625</td>\n      <td>ZAKOPANE</td>\n      <td>2019-01-02</td>\n      <td>1.138869</td>\n      <td>1.966581</td>\n      <td>-1.382342</td>\n      <td>-0.910630</td>\n      <td>1.176832</td>\n      <td>-0.797909</td>\n      <td>8.2</td>\n      <td>4.5</td>\n      <td>1</td>\n      <td>1</td>\n    </tr>\n    <tr>\n      <th>184</th>\n      <td>349190625</td>\n      <td>ZAKOPANE</td>\n      <td>2019-01-03</td>\n      <td>1.232745</td>\n      <td>-0.106802</td>\n      <td>-1.888924</td>\n      <td>-1.205867</td>\n      <td>0.844663</td>\n      <td>0.233808</td>\n      <td>6.5</td>\n      <td>2.7</td>\n      <td>1</td>\n      <td>1</td>\n    </tr>\n    <tr>\n      <th>185</th>\n      <td>349190625</td>\n      <td>ZAKOPANE</td>\n      <td>2019-01-04</td>\n      <td>1.185807</td>\n      <td>-0.228765</td>\n      <td>-1.955579</td>\n      <td>-1.279676</td>\n      <td>0.520220</td>\n      <td>0.630623</td>\n      <td>0.1</td>\n      <td>2.9</td>\n      <td>1</td>\n      <td>1</td>\n    </tr>\n    <tr>\n      <th>186</th>\n      <td>349190625</td>\n      <td>ZAKOPANE</td>\n      <td>2019-01-05</td>\n      <td>1.185807</td>\n      <td>-0.106802</td>\n      <td>-1.342348</td>\n      <td>-0.886027</td>\n      <td>1.230906</td>\n      <td>-0.612729</td>\n      <td>8.0</td>\n      <td>1.3</td>\n      <td>1</td>\n      <td>1</td>\n    </tr>\n    <tr>\n      <th>...</th>\n      <td>...</td>\n      <td>...</td>\n      <td>...</td>\n      <td>...</td>\n      <td>...</td>\n      <td>...</td>\n      <td>...</td>\n      <td>...</td>\n      <td>...</td>\n      <td>...</td>\n      <td>...</td>\n      <td>...</td>\n      <td>...</td>\n    </tr>\n    <tr>\n      <th>177</th>\n      <td>349190625</td>\n      <td>ZAKOPANE</td>\n      <td>2020-06-26</td>\n      <td>0.481737</td>\n      <td>-0.716620</td>\n      <td>1.470517</td>\n      <td>1.598887</td>\n      <td>-0.043694</td>\n      <td>0.604168</td>\n      <td>1.1</td>\n      <td>1.2</td>\n      <td>1</td>\n      <td>1</td>\n    </tr>\n    <tr>\n      <th>178</th>\n      <td>349190625</td>\n      <td>ZAKOPANE</td>\n      <td>2020-06-27</td>\n      <td>0.247047</td>\n      <td>0.746944</td>\n      <td>1.937106</td>\n      <td>1.525078</td>\n      <td>-1.364643</td>\n      <td>0.180900</td>\n      <td>0.0</td>\n      <td>1.3</td>\n      <td>0</td>\n      <td>0</td>\n    </tr>\n    <tr>\n      <th>179</th>\n      <td>349190625</td>\n      <td>ZAKOPANE</td>\n      <td>2020-06-28</td>\n      <td>-0.832527</td>\n      <td>-0.228765</td>\n      <td>1.723808</td>\n      <td>1.943331</td>\n      <td>-0.205916</td>\n      <td>0.220581</td>\n      <td>0.0</td>\n      <td>0.0</td>\n      <td>0</td>\n      <td>0</td>\n    </tr>\n    <tr>\n      <th>180</th>\n      <td>349190625</td>\n      <td>ZAKOPANE</td>\n      <td>2020-06-29</td>\n      <td>-0.222333</td>\n      <td>-0.228765</td>\n      <td>1.470517</td>\n      <td>1.697299</td>\n      <td>0.149427</td>\n      <td>-0.268823</td>\n      <td>3.6</td>\n      <td>0.3</td>\n      <td>1</td>\n      <td>1</td>\n    </tr>\n    <tr>\n      <th>181</th>\n      <td>349190625</td>\n      <td>ZAKOPANE</td>\n      <td>2020-06-30</td>\n      <td>-1.208031</td>\n      <td>0.259089</td>\n      <td>1.377199</td>\n      <td>0.885397</td>\n      <td>-0.970676</td>\n      <td>-0.189460</td>\n      <td>0.0</td>\n      <td>0.0</td>\n      <td>0</td>\n      <td>0</td>\n    </tr>\n  </tbody>\n</table>\n<p>547 rows × 13 columns</p>\n</div>"
     },
     "metadata": {},
     "execution_count": 66
    }
   ],
   "source": [
    "df"
   ]
  },
  {
   "cell_type": "code",
   "execution_count": 46,
   "metadata": {},
   "outputs": [
    {
     "output_type": "execute_result",
     "data": {
      "text/plain": "' tutaj trzeba za pomocą regresji liniowej zrobić predykcje wszystkich parametrów z X  dla 7 dni na przód'"
     },
     "metadata": {},
     "execution_count": 46
    }
   ],
   "source": [
    "''' tutaj trzeba za pomocą regresji liniowej zrobić predykcje wszystkich parametrów z X  dla 7 dni na przód'''"
   ]
  },
  {
   "cell_type": "code",
   "execution_count": 90,
   "metadata": {},
   "outputs": [],
   "source": [
    "X = df[[df.columns[5],df.columns[6],df.columns[7],df.columns[8],df.columns[9],df.columns[10]]]\n",
    "y = df[[df.columns[13]]]"
   ]
  },
  {
   "cell_type": "code",
   "execution_count": 91,
   "metadata": {},
   "outputs": [],
   "source": [
    "Xtrain, Xtest, ytrain, ytest  = train_test_split(X,y,test_size=0.2,random_state=75)"
   ]
  },
  {
   "cell_type": "markdown",
   "metadata": {},
   "source": [
    "Model SVN "
   ]
  },
  {
   "cell_type": "code",
   "execution_count": 66,
   "metadata": {},
   "outputs": [
    {
     "output_type": "execute_result",
     "data": {
      "text/plain": "SVC(C=1.0, break_ties=False, cache_size=200, class_weight=None, coef0=0.0,\n    decision_function_shape='ovr', degree=3, gamma='scale', kernel='linear',\n    max_iter=-1, probability=False, random_state=None, shrinking=True,\n    tol=0.001, verbose=False)"
     },
     "metadata": {},
     "execution_count": 66
    }
   ],
   "source": [
    "clf= svm.SVC(kernel='linear', C=1.0)\n",
    "clf.fit(Xtrain,ytrain)"
   ]
  },
  {
   "cell_type": "code",
   "execution_count": 67,
   "metadata": {},
   "outputs": [],
   "source": [
    "ypred = clf.predict(Xtest)\n",
    "clf_score = clf.score(Xtest,ytest)"
   ]
  },
  {
   "cell_type": "code",
   "execution_count": 68,
   "metadata": {},
   "outputs": [
    {
     "output_type": "execute_result",
     "data": {
      "text/plain": "0.7727272727272727"
     },
     "metadata": {},
     "execution_count": 68
    }
   ],
   "source": [
    "clf_score"
   ]
  },
  {
   "cell_type": "code",
   "execution_count": 69,
   "metadata": {},
   "outputs": [
    {
     "output_type": "execute_result",
     "data": {
      "text/plain": "array([[55, 14],\n       [11, 30]])"
     },
     "metadata": {},
     "execution_count": 69
    }
   ],
   "source": [
    "confusion_matrix(ytest,ypred)"
   ]
  },
  {
   "cell_type": "markdown",
   "metadata": {},
   "source": [
    "Model logistic regresion"
   ]
  },
  {
   "cell_type": "code",
   "execution_count": 70,
   "metadata": {},
   "outputs": [],
   "source": [
    "logistic_regression= LogisticRegression()\n",
    "logistic_regression.fit(Xtrain,ytrain)\n",
    "y_pred_r=logistic_regression.predict(Xtest)\n",
    "    \n",
    "accur = accuracy_score(ytest, y_pred_r)"
   ]
  },
  {
   "cell_type": "code",
   "execution_count": 71,
   "metadata": {},
   "outputs": [
    {
     "output_type": "execute_result",
     "data": {
      "text/plain": "0.7636363636363637"
     },
     "metadata": {},
     "execution_count": 71
    }
   ],
   "source": [
    "accur"
   ]
  },
  {
   "cell_type": "code",
   "execution_count": 72,
   "metadata": {},
   "outputs": [
    {
     "output_type": "execute_result",
     "data": {
      "text/plain": "array([[56, 13],\n       [13, 28]])"
     },
     "metadata": {},
     "execution_count": 72
    }
   ],
   "source": [
    "confusion_matrix(ytest,y_pred_r)"
   ]
  },
  {
   "cell_type": "markdown",
   "metadata": {},
   "source": [
    "Model KNN"
   ]
  },
  {
   "cell_type": "code",
   "execution_count": 73,
   "metadata": {},
   "outputs": [],
   "source": [
    "knn = KNeighborsClassifier()"
   ]
  },
  {
   "cell_type": "code",
   "execution_count": 74,
   "metadata": {},
   "outputs": [],
   "source": [
    "knn.fit(Xtrain, ytrain)\n",
    "y_pred_knn = knn.predict(Xtest)\n",
    "accurKNN = accuracy_score(ytest, y_pred_knn)"
   ]
  },
  {
   "cell_type": "code",
   "execution_count": 75,
   "metadata": {},
   "outputs": [
    {
     "output_type": "execute_result",
     "data": {
      "text/plain": "0.8090909090909091"
     },
     "metadata": {},
     "execution_count": 75
    }
   ],
   "source": [
    "accurKNN"
   ]
  },
  {
   "cell_type": "code",
   "execution_count": 76,
   "metadata": {},
   "outputs": [
    {
     "output_type": "execute_result",
     "data": {
      "text/plain": "array([[59, 10],\n       [11, 30]])"
     },
     "metadata": {},
     "execution_count": 76
    }
   ],
   "source": [
    "confusion_matrix(ytest,y_pred_knn)"
   ]
  },
  {
   "cell_type": "code",
   "execution_count": null,
   "metadata": {},
   "outputs": [],
   "source": []
  },
  {
   "cell_type": "code",
   "execution_count": null,
   "metadata": {},
   "outputs": [],
   "source": []
  },
  {
   "cell_type": "code",
   "execution_count": null,
   "metadata": {},
   "outputs": [],
   "source": []
  }
 ],
 "metadata": {
  "kernelspec": {
   "display_name": "Python 3",
   "language": "python",
   "name": "python3"
  },
  "language_info": {
   "codemirror_mode": {
    "name": "ipython",
    "version": 3
   },
   "file_extension": ".py",
   "mimetype": "text/x-python",
   "name": "python",
   "nbconvert_exporter": "python",
   "pygments_lexer": "ipython3",
   "version": "3.6.9"
  }
 },
 "nbformat": 4,
 "nbformat_minor": 2
}