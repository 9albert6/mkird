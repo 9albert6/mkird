{
 "cells": [
  {
   "cell_type": "code",
   "execution_count": 2,
   "metadata": {},
   "outputs": [],
   "source": [
    "import pandas as pd\n",
    "import numpy as np\n",
    "import sklearn\n",
    "from sklearn.metrics import accuracy_score\n",
    "from sklearn.model_selection import train_test_split\n",
    "from sklearn import svm\n",
    "from sklearn.svm import SVC\n",
    "from sklearn.model_selection import train_test_split\n",
    "from sklearn.metrics import confusion_matrix\n",
    "from sklearn.linear_model import LogisticRegression\n",
    "from sklearn.neighbors import KNeighborsClassifier\n",
    "import matplotlib.pyplot as plt\n",
    "from statsmodels.tsa.arima_model import ARMA\n",
    "\n"
   ]
  },
  {
   "cell_type": "code",
   "execution_count": 3,
   "metadata": {},
   "outputs": [],
   "source": [
    "from weather_api import *"
   ]
  },
  {
   "cell_type": "code",
   "execution_count": 4,
   "metadata": {},
   "outputs": [],
   "source": [
    "df = get_data(\"zakopane\")"
   ]
  },
  {
   "cell_type": "code",
   "execution_count": 5,
   "metadata": {},
   "outputs": [
    {
     "output_type": "execute_result",
     "data": {
      "text/plain": "     Kod stacji Nazwa stacji   Rok  Miesiąc  Dzień  \\\n0     349190625     ZAKOPANE  2020        1      1   \n1     349190625     ZAKOPANE  2020        1      2   \n2     349190625     ZAKOPANE  2020        1      3   \n3     349190625     ZAKOPANE  2020        1      4   \n4     349190625     ZAKOPANE  2020        1      5   \n..          ...          ...   ...      ...    ...   \n542   349190625     ZAKOPANE  2019       12     27   \n543   349190625     ZAKOPANE  2019       12     28   \n544   349190625     ZAKOPANE  2019       12     29   \n545   349190625     ZAKOPANE  2019       12     30   \n546   349190625     ZAKOPANE  2019       12     31   \n\n     Średnie dobowe zachmurzenie ogólne [oktanty]  \\\n0                                             4.3   \n1                                             4.4   \n2                                             2.5   \n3                                             7.6   \n4                                             7.9   \n..                                            ...   \n542                                           7.9   \n543                                           8.0   \n544                                           7.1   \n545                                           6.0   \n546                                           6.5   \n\n     Średnia dobowa prędkość wiatru [m/s]  Średnia dobowa temperatura [°C]  \\\n0                                     2.0                             -1.7   \n1                                     1.3                             -1.5   \n2                                     1.4                             -1.1   \n3                                     3.6                              0.8   \n4                                     2.8                             -4.1   \n..                                    ...                              ...   \n542                                   2.1                             -2.0   \n543                                   2.6                             -4.6   \n544                                   0.9                             -7.3   \n545                                   1.3                             -2.3   \n546                                   2.8                              2.8   \n\n     Średnia dobowe ciśnienie pary wodnej [hPa]  \\\n0                                           4.0   \n1                                           3.1   \n2                                           3.8   \n3                                           5.4   \n4                                           3.8   \n..                                          ...   \n542                                         4.8   \n543                                         4.0   \n544                                         3.2   \n545                                         4.8   \n546                                         5.0   \n\n     Średnia dobowa wilgotność względna [%]  \\\n0                                      73.1   \n1                                      56.8   \n2                                      68.8   \n3                                      83.6   \n4                                      83.6   \n..                                      ...   \n542                                    91.3   \n543                                    90.6   \n544                                    88.3   \n545                                    87.5   \n546                                    68.3   \n\n     Średnia dobowe ciśnienie na poziomie stacji [hPa]  \\\n0                                                929.5   \n1                                                928.8   \n2                                                922.4   \n3                                                917.5   \n4                                                924.4   \n..                                                 ...   \n542                                              920.5   \n543                                              928.0   \n544                                              933.2   \n545                                              931.0   \n546                                              924.5   \n\n     Średnie dobowe ciśnienie na pozimie morza [hPa]  Status pomiaru PPPM  \\\n0                                                0.0                    8   \n1                                                0.0                    8   \n2                                                0.0                    8   \n3                                                0.0                    8   \n4                                                0.0                    8   \n..                                               ...                  ...   \n542                                              0.0                    8   \n543                                              0.0                    8   \n544                                              0.0                    8   \n545                                              0.0                    8   \n546                                              0.0                    8   \n\n     Suma opadu dzień  [mm]  Suma opadu noc   [mm]  \n0                       0.0                    0.0  \n1                       0.0                    0.0  \n2                       0.0                    0.0  \n3                       1.9                    6.5  \n4                       3.4                    0.0  \n..                      ...                    ...  \n542                     4.6                    6.5  \n543                     3.7                    0.4  \n544                     1.1                    0.0  \n545                     0.0                    0.0  \n546                     0.0                    0.0  \n\n[547 rows x 15 columns]",
      "text/html": "<div>\n<style scoped>\n    .dataframe tbody tr th:only-of-type {\n        vertical-align: middle;\n    }\n\n    .dataframe tbody tr th {\n        vertical-align: top;\n    }\n\n    .dataframe thead th {\n        text-align: right;\n    }\n</style>\n<table border=\"1\" class=\"dataframe\">\n  <thead>\n    <tr style=\"text-align: right;\">\n      <th></th>\n      <th>Kod stacji</th>\n      <th>Nazwa stacji</th>\n      <th>Rok</th>\n      <th>Miesiąc</th>\n      <th>Dzień</th>\n      <th>Średnie dobowe zachmurzenie ogólne [oktanty]</th>\n      <th>Średnia dobowa prędkość wiatru [m/s]</th>\n      <th>Średnia dobowa temperatura [°C]</th>\n      <th>Średnia dobowe ciśnienie pary wodnej [hPa]</th>\n      <th>Średnia dobowa wilgotność względna [%]</th>\n      <th>Średnia dobowe ciśnienie na poziomie stacji [hPa]</th>\n      <th>Średnie dobowe ciśnienie na pozimie morza [hPa]</th>\n      <th>Status pomiaru PPPM</th>\n      <th>Suma opadu dzień  [mm]</th>\n      <th>Suma opadu noc   [mm]</th>\n    </tr>\n  </thead>\n  <tbody>\n    <tr>\n      <th>0</th>\n      <td>349190625</td>\n      <td>ZAKOPANE</td>\n      <td>2020</td>\n      <td>1</td>\n      <td>1</td>\n      <td>4.3</td>\n      <td>2.0</td>\n      <td>-1.7</td>\n      <td>4.0</td>\n      <td>73.1</td>\n      <td>929.5</td>\n      <td>0.0</td>\n      <td>8</td>\n      <td>0.0</td>\n      <td>0.0</td>\n    </tr>\n    <tr>\n      <th>1</th>\n      <td>349190625</td>\n      <td>ZAKOPANE</td>\n      <td>2020</td>\n      <td>1</td>\n      <td>2</td>\n      <td>4.4</td>\n      <td>1.3</td>\n      <td>-1.5</td>\n      <td>3.1</td>\n      <td>56.8</td>\n      <td>928.8</td>\n      <td>0.0</td>\n      <td>8</td>\n      <td>0.0</td>\n      <td>0.0</td>\n    </tr>\n    <tr>\n      <th>2</th>\n      <td>349190625</td>\n      <td>ZAKOPANE</td>\n      <td>2020</td>\n      <td>1</td>\n      <td>3</td>\n      <td>2.5</td>\n      <td>1.4</td>\n      <td>-1.1</td>\n      <td>3.8</td>\n      <td>68.8</td>\n      <td>922.4</td>\n      <td>0.0</td>\n      <td>8</td>\n      <td>0.0</td>\n      <td>0.0</td>\n    </tr>\n    <tr>\n      <th>3</th>\n      <td>349190625</td>\n      <td>ZAKOPANE</td>\n      <td>2020</td>\n      <td>1</td>\n      <td>4</td>\n      <td>7.6</td>\n      <td>3.6</td>\n      <td>0.8</td>\n      <td>5.4</td>\n      <td>83.6</td>\n      <td>917.5</td>\n      <td>0.0</td>\n      <td>8</td>\n      <td>1.9</td>\n      <td>6.5</td>\n    </tr>\n    <tr>\n      <th>4</th>\n      <td>349190625</td>\n      <td>ZAKOPANE</td>\n      <td>2020</td>\n      <td>1</td>\n      <td>5</td>\n      <td>7.9</td>\n      <td>2.8</td>\n      <td>-4.1</td>\n      <td>3.8</td>\n      <td>83.6</td>\n      <td>924.4</td>\n      <td>0.0</td>\n      <td>8</td>\n      <td>3.4</td>\n      <td>0.0</td>\n    </tr>\n    <tr>\n      <th>...</th>\n      <td>...</td>\n      <td>...</td>\n      <td>...</td>\n      <td>...</td>\n      <td>...</td>\n      <td>...</td>\n      <td>...</td>\n      <td>...</td>\n      <td>...</td>\n      <td>...</td>\n      <td>...</td>\n      <td>...</td>\n      <td>...</td>\n      <td>...</td>\n      <td>...</td>\n    </tr>\n    <tr>\n      <th>542</th>\n      <td>349190625</td>\n      <td>ZAKOPANE</td>\n      <td>2019</td>\n      <td>12</td>\n      <td>27</td>\n      <td>7.9</td>\n      <td>2.1</td>\n      <td>-2.0</td>\n      <td>4.8</td>\n      <td>91.3</td>\n      <td>920.5</td>\n      <td>0.0</td>\n      <td>8</td>\n      <td>4.6</td>\n      <td>6.5</td>\n    </tr>\n    <tr>\n      <th>543</th>\n      <td>349190625</td>\n      <td>ZAKOPANE</td>\n      <td>2019</td>\n      <td>12</td>\n      <td>28</td>\n      <td>8.0</td>\n      <td>2.6</td>\n      <td>-4.6</td>\n      <td>4.0</td>\n      <td>90.6</td>\n      <td>928.0</td>\n      <td>0.0</td>\n      <td>8</td>\n      <td>3.7</td>\n      <td>0.4</td>\n    </tr>\n    <tr>\n      <th>544</th>\n      <td>349190625</td>\n      <td>ZAKOPANE</td>\n      <td>2019</td>\n      <td>12</td>\n      <td>29</td>\n      <td>7.1</td>\n      <td>0.9</td>\n      <td>-7.3</td>\n      <td>3.2</td>\n      <td>88.3</td>\n      <td>933.2</td>\n      <td>0.0</td>\n      <td>8</td>\n      <td>1.1</td>\n      <td>0.0</td>\n    </tr>\n    <tr>\n      <th>545</th>\n      <td>349190625</td>\n      <td>ZAKOPANE</td>\n      <td>2019</td>\n      <td>12</td>\n      <td>30</td>\n      <td>6.0</td>\n      <td>1.3</td>\n      <td>-2.3</td>\n      <td>4.8</td>\n      <td>87.5</td>\n      <td>931.0</td>\n      <td>0.0</td>\n      <td>8</td>\n      <td>0.0</td>\n      <td>0.0</td>\n    </tr>\n    <tr>\n      <th>546</th>\n      <td>349190625</td>\n      <td>ZAKOPANE</td>\n      <td>2019</td>\n      <td>12</td>\n      <td>31</td>\n      <td>6.5</td>\n      <td>2.8</td>\n      <td>2.8</td>\n      <td>5.0</td>\n      <td>68.3</td>\n      <td>924.5</td>\n      <td>0.0</td>\n      <td>8</td>\n      <td>0.0</td>\n      <td>0.0</td>\n    </tr>\n  </tbody>\n</table>\n<p>547 rows × 15 columns</p>\n</div>"
     },
     "metadata": {},
     "execution_count": 5
    }
   ],
   "source": [
    "df"
   ]
  },
  {
   "cell_type": "code",
   "execution_count": 6,
   "metadata": {},
   "outputs": [],
   "source": [
    "def normalize_particular_columns(df, column_names):\n",
    "    for col_name in column_names:\n",
    "        df.iloc[:,col_name]=(df.iloc[:,col_name]-df.iloc[:,col_name].mean())/df.iloc[:,col_name].std()"
   ]
  },
  {
   "cell_type": "code",
   "execution_count": 7,
   "metadata": {},
   "outputs": [],
   "source": [
    "value = []\n",
    "data = df['Suma opadu dzień  [mm]']\n",
    "data = data.to_numpy()\n",
    "for row in data:\n",
    "    if row == 0:\n",
    "        value.append(0)\n",
    "    elif row > 0:\n",
    "        value.append(1)\n",
    "df['deszcz w dzień']= value\n",
    "\n",
    "value1 = []\n",
    "data1 = df['Suma opadu noc   [mm]']\n",
    "data1 = data1.to_numpy()\n",
    "for row1 in data1:\n",
    "    if row1 == 0:\n",
    "        value1.append(0)\n",
    "    elif row1 > 0:\n",
    "        value1.append(1)\n",
    "df['deszcz w nocy']= value"
   ]
  },
  {
   "cell_type": "code",
   "execution_count": 8,
   "metadata": {},
   "outputs": [
    {
     "output_type": "execute_result",
     "data": {
      "text/plain": "     Kod stacji Nazwa stacji   Rok  Miesiąc  Dzień  \\\n0     349190625     ZAKOPANE  2020        1      1   \n1     349190625     ZAKOPANE  2020        1      2   \n2     349190625     ZAKOPANE  2020        1      3   \n3     349190625     ZAKOPANE  2020        1      4   \n4     349190625     ZAKOPANE  2020        1      5   \n..          ...          ...   ...      ...    ...   \n542   349190625     ZAKOPANE  2019       12     27   \n543   349190625     ZAKOPANE  2019       12     28   \n544   349190625     ZAKOPANE  2019       12     29   \n545   349190625     ZAKOPANE  2019       12     30   \n546   349190625     ZAKOPANE  2019       12     31   \n\n     Średnie dobowe zachmurzenie ogólne [oktanty]  \\\n0                                             4.3   \n1                                             4.4   \n2                                             2.5   \n3                                             7.6   \n4                                             7.9   \n..                                            ...   \n542                                           7.9   \n543                                           8.0   \n544                                           7.1   \n545                                           6.0   \n546                                           6.5   \n\n     Średnia dobowa prędkość wiatru [m/s]  Średnia dobowa temperatura [°C]  \\\n0                                     2.0                             -1.7   \n1                                     1.3                             -1.5   \n2                                     1.4                             -1.1   \n3                                     3.6                              0.8   \n4                                     2.8                             -4.1   \n..                                    ...                              ...   \n542                                   2.1                             -2.0   \n543                                   2.6                             -4.6   \n544                                   0.9                             -7.3   \n545                                   1.3                             -2.3   \n546                                   2.8                              2.8   \n\n     Średnia dobowe ciśnienie pary wodnej [hPa]  \\\n0                                           4.0   \n1                                           3.1   \n2                                           3.8   \n3                                           5.4   \n4                                           3.8   \n..                                          ...   \n542                                         4.8   \n543                                         4.0   \n544                                         3.2   \n545                                         4.8   \n546                                         5.0   \n\n     Średnia dobowa wilgotność względna [%]  \\\n0                                      73.1   \n1                                      56.8   \n2                                      68.8   \n3                                      83.6   \n4                                      83.6   \n..                                      ...   \n542                                    91.3   \n543                                    90.6   \n544                                    88.3   \n545                                    87.5   \n546                                    68.3   \n\n     Średnia dobowe ciśnienie na poziomie stacji [hPa]  \\\n0                                                929.5   \n1                                                928.8   \n2                                                922.4   \n3                                                917.5   \n4                                                924.4   \n..                                                 ...   \n542                                              920.5   \n543                                              928.0   \n544                                              933.2   \n545                                              931.0   \n546                                              924.5   \n\n     Średnie dobowe ciśnienie na pozimie morza [hPa]  Status pomiaru PPPM  \\\n0                                                0.0                    8   \n1                                                0.0                    8   \n2                                                0.0                    8   \n3                                                0.0                    8   \n4                                                0.0                    8   \n..                                               ...                  ...   \n542                                              0.0                    8   \n543                                              0.0                    8   \n544                                              0.0                    8   \n545                                              0.0                    8   \n546                                              0.0                    8   \n\n     Suma opadu dzień  [mm]  Suma opadu noc   [mm]  deszcz w dzień  \\\n0                       0.0                    0.0               0   \n1                       0.0                    0.0               0   \n2                       0.0                    0.0               0   \n3                       1.9                    6.5               1   \n4                       3.4                    0.0               1   \n..                      ...                    ...             ...   \n542                     4.6                    6.5               1   \n543                     3.7                    0.4               1   \n544                     1.1                    0.0               1   \n545                     0.0                    0.0               0   \n546                     0.0                    0.0               0   \n\n     deszcz w nocy  \n0                0  \n1                0  \n2                0  \n3                1  \n4                1  \n..             ...  \n542              1  \n543              1  \n544              1  \n545              0  \n546              0  \n\n[547 rows x 17 columns]",
      "text/html": "<div>\n<style scoped>\n    .dataframe tbody tr th:only-of-type {\n        vertical-align: middle;\n    }\n\n    .dataframe tbody tr th {\n        vertical-align: top;\n    }\n\n    .dataframe thead th {\n        text-align: right;\n    }\n</style>\n<table border=\"1\" class=\"dataframe\">\n  <thead>\n    <tr style=\"text-align: right;\">\n      <th></th>\n      <th>Kod stacji</th>\n      <th>Nazwa stacji</th>\n      <th>Rok</th>\n      <th>Miesiąc</th>\n      <th>Dzień</th>\n      <th>Średnie dobowe zachmurzenie ogólne [oktanty]</th>\n      <th>Średnia dobowa prędkość wiatru [m/s]</th>\n      <th>Średnia dobowa temperatura [°C]</th>\n      <th>Średnia dobowe ciśnienie pary wodnej [hPa]</th>\n      <th>Średnia dobowa wilgotność względna [%]</th>\n      <th>Średnia dobowe ciśnienie na poziomie stacji [hPa]</th>\n      <th>Średnie dobowe ciśnienie na pozimie morza [hPa]</th>\n      <th>Status pomiaru PPPM</th>\n      <th>Suma opadu dzień  [mm]</th>\n      <th>Suma opadu noc   [mm]</th>\n      <th>deszcz w dzień</th>\n      <th>deszcz w nocy</th>\n    </tr>\n  </thead>\n  <tbody>\n    <tr>\n      <th>0</th>\n      <td>349190625</td>\n      <td>ZAKOPANE</td>\n      <td>2020</td>\n      <td>1</td>\n      <td>1</td>\n      <td>4.3</td>\n      <td>2.0</td>\n      <td>-1.7</td>\n      <td>4.0</td>\n      <td>73.1</td>\n      <td>929.5</td>\n      <td>0.0</td>\n      <td>8</td>\n      <td>0.0</td>\n      <td>0.0</td>\n      <td>0</td>\n      <td>0</td>\n    </tr>\n    <tr>\n      <th>1</th>\n      <td>349190625</td>\n      <td>ZAKOPANE</td>\n      <td>2020</td>\n      <td>1</td>\n      <td>2</td>\n      <td>4.4</td>\n      <td>1.3</td>\n      <td>-1.5</td>\n      <td>3.1</td>\n      <td>56.8</td>\n      <td>928.8</td>\n      <td>0.0</td>\n      <td>8</td>\n      <td>0.0</td>\n      <td>0.0</td>\n      <td>0</td>\n      <td>0</td>\n    </tr>\n    <tr>\n      <th>2</th>\n      <td>349190625</td>\n      <td>ZAKOPANE</td>\n      <td>2020</td>\n      <td>1</td>\n      <td>3</td>\n      <td>2.5</td>\n      <td>1.4</td>\n      <td>-1.1</td>\n      <td>3.8</td>\n      <td>68.8</td>\n      <td>922.4</td>\n      <td>0.0</td>\n      <td>8</td>\n      <td>0.0</td>\n      <td>0.0</td>\n      <td>0</td>\n      <td>0</td>\n    </tr>\n    <tr>\n      <th>3</th>\n      <td>349190625</td>\n      <td>ZAKOPANE</td>\n      <td>2020</td>\n      <td>1</td>\n      <td>4</td>\n      <td>7.6</td>\n      <td>3.6</td>\n      <td>0.8</td>\n      <td>5.4</td>\n      <td>83.6</td>\n      <td>917.5</td>\n      <td>0.0</td>\n      <td>8</td>\n      <td>1.9</td>\n      <td>6.5</td>\n      <td>1</td>\n      <td>1</td>\n    </tr>\n    <tr>\n      <th>4</th>\n      <td>349190625</td>\n      <td>ZAKOPANE</td>\n      <td>2020</td>\n      <td>1</td>\n      <td>5</td>\n      <td>7.9</td>\n      <td>2.8</td>\n      <td>-4.1</td>\n      <td>3.8</td>\n      <td>83.6</td>\n      <td>924.4</td>\n      <td>0.0</td>\n      <td>8</td>\n      <td>3.4</td>\n      <td>0.0</td>\n      <td>1</td>\n      <td>1</td>\n    </tr>\n    <tr>\n      <th>...</th>\n      <td>...</td>\n      <td>...</td>\n      <td>...</td>\n      <td>...</td>\n      <td>...</td>\n      <td>...</td>\n      <td>...</td>\n      <td>...</td>\n      <td>...</td>\n      <td>...</td>\n      <td>...</td>\n      <td>...</td>\n      <td>...</td>\n      <td>...</td>\n      <td>...</td>\n      <td>...</td>\n      <td>...</td>\n    </tr>\n    <tr>\n      <th>542</th>\n      <td>349190625</td>\n      <td>ZAKOPANE</td>\n      <td>2019</td>\n      <td>12</td>\n      <td>27</td>\n      <td>7.9</td>\n      <td>2.1</td>\n      <td>-2.0</td>\n      <td>4.8</td>\n      <td>91.3</td>\n      <td>920.5</td>\n      <td>0.0</td>\n      <td>8</td>\n      <td>4.6</td>\n      <td>6.5</td>\n      <td>1</td>\n      <td>1</td>\n    </tr>\n    <tr>\n      <th>543</th>\n      <td>349190625</td>\n      <td>ZAKOPANE</td>\n      <td>2019</td>\n      <td>12</td>\n      <td>28</td>\n      <td>8.0</td>\n      <td>2.6</td>\n      <td>-4.6</td>\n      <td>4.0</td>\n      <td>90.6</td>\n      <td>928.0</td>\n      <td>0.0</td>\n      <td>8</td>\n      <td>3.7</td>\n      <td>0.4</td>\n      <td>1</td>\n      <td>1</td>\n    </tr>\n    <tr>\n      <th>544</th>\n      <td>349190625</td>\n      <td>ZAKOPANE</td>\n      <td>2019</td>\n      <td>12</td>\n      <td>29</td>\n      <td>7.1</td>\n      <td>0.9</td>\n      <td>-7.3</td>\n      <td>3.2</td>\n      <td>88.3</td>\n      <td>933.2</td>\n      <td>0.0</td>\n      <td>8</td>\n      <td>1.1</td>\n      <td>0.0</td>\n      <td>1</td>\n      <td>1</td>\n    </tr>\n    <tr>\n      <th>545</th>\n      <td>349190625</td>\n      <td>ZAKOPANE</td>\n      <td>2019</td>\n      <td>12</td>\n      <td>30</td>\n      <td>6.0</td>\n      <td>1.3</td>\n      <td>-2.3</td>\n      <td>4.8</td>\n      <td>87.5</td>\n      <td>931.0</td>\n      <td>0.0</td>\n      <td>8</td>\n      <td>0.0</td>\n      <td>0.0</td>\n      <td>0</td>\n      <td>0</td>\n    </tr>\n    <tr>\n      <th>546</th>\n      <td>349190625</td>\n      <td>ZAKOPANE</td>\n      <td>2019</td>\n      <td>12</td>\n      <td>31</td>\n      <td>6.5</td>\n      <td>2.8</td>\n      <td>2.8</td>\n      <td>5.0</td>\n      <td>68.3</td>\n      <td>924.5</td>\n      <td>0.0</td>\n      <td>8</td>\n      <td>0.0</td>\n      <td>0.0</td>\n      <td>0</td>\n      <td>0</td>\n    </tr>\n  </tbody>\n</table>\n<p>547 rows × 17 columns</p>\n</div>"
     },
     "metadata": {},
     "execution_count": 8
    }
   ],
   "source": [
    "df"
   ]
  },
  {
   "cell_type": "code",
   "execution_count": 8,
   "metadata": {},
   "outputs": [],
   "source": [
    "df = df.drop(df.columns[11],axis = 1)\n",
    "df = df.drop(df.columns[11],axis = 1)"
   ]
  },
  {
   "cell_type": "code",
   "execution_count": 8,
   "metadata": {},
   "outputs": [
    {
     "output_type": "error",
     "ename": "KeyError",
     "evalue": "\"['Data'] not in index\"",
     "traceback": [
      "\u001b[0;31m---------------------------------------------------------------------------\u001b[0m",
      "\u001b[0;31mKeyError\u001b[0m                                  Traceback (most recent call last)",
      "\u001b[0;32m<ipython-input-8-32bacf6bd188>\u001b[0m in \u001b[0;36m<module>\u001b[0;34m\u001b[0m\n\u001b[1;32m     10\u001b[0m \u001b[0;31m#stworzenie zbioru danych z prewidywanymi parametrami\u001b[0m\u001b[0;34m\u001b[0m\u001b[0;34m\u001b[0m\u001b[0;34m\u001b[0m\u001b[0m\n\u001b[1;32m     11\u001b[0m \u001b[0mpredicted_data\u001b[0m \u001b[0;34m=\u001b[0m \u001b[0;34m[\u001b[0m\u001b[0;34m]\u001b[0m\u001b[0;34m\u001b[0m\u001b[0;34m\u001b[0m\u001b[0m\n\u001b[0;32m---> 12\u001b[0;31m \u001b[0mpredicted_data\u001b[0m\u001b[0;34m.\u001b[0m\u001b[0mappend\u001b[0m\u001b[0;34m(\u001b[0m\u001b[0mmake_predict\u001b[0m\u001b[0;34m(\u001b[0m\u001b[0;34m'Średnia dobowa temperatura [°C]'\u001b[0m\u001b[0;34m,\u001b[0m\u001b[0;36m7\u001b[0m\u001b[0;34m)\u001b[0m\u001b[0;34m)\u001b[0m\u001b[0;34m\u001b[0m\u001b[0;34m\u001b[0m\u001b[0m\n\u001b[0m\u001b[1;32m     13\u001b[0m \u001b[0mpredicted_data\u001b[0m\u001b[0;34m.\u001b[0m\u001b[0mappend\u001b[0m\u001b[0;34m(\u001b[0m\u001b[0mmake_predict\u001b[0m\u001b[0;34m(\u001b[0m\u001b[0;34m'Średnia dobowa prędkość wiatru [m/s]'\u001b[0m\u001b[0;34m,\u001b[0m\u001b[0;36m7\u001b[0m\u001b[0;34m)\u001b[0m\u001b[0;34m)\u001b[0m\u001b[0;34m\u001b[0m\u001b[0;34m\u001b[0m\u001b[0m\n\u001b[1;32m     14\u001b[0m \u001b[0mpredicted_data\u001b[0m\u001b[0;34m.\u001b[0m\u001b[0mappend\u001b[0m\u001b[0;34m(\u001b[0m\u001b[0mmake_predict\u001b[0m\u001b[0;34m(\u001b[0m\u001b[0;34m'Średnia dobowe ciśnienie pary wodnej [hPa]'\u001b[0m\u001b[0;34m,\u001b[0m\u001b[0;36m7\u001b[0m\u001b[0;34m)\u001b[0m\u001b[0;34m)\u001b[0m\u001b[0;34m\u001b[0m\u001b[0;34m\u001b[0m\u001b[0m\n",
      "\u001b[0;32m<ipython-input-8-32bacf6bd188>\u001b[0m in \u001b[0;36mmake_predict\u001b[0;34m(nazwa_kolumny, ilosc_dni)\u001b[0m\n\u001b[1;32m      1\u001b[0m \u001b[0;31m#przewidywanie przyszłych parametrów\u001b[0m\u001b[0;34m\u001b[0m\u001b[0;34m\u001b[0m\u001b[0;34m\u001b[0m\u001b[0m\n\u001b[1;32m      2\u001b[0m \u001b[0;32mdef\u001b[0m \u001b[0mmake_predict\u001b[0m\u001b[0;34m(\u001b[0m\u001b[0mnazwa_kolumny\u001b[0m\u001b[0;34m,\u001b[0m\u001b[0milosc_dni\u001b[0m\u001b[0;34m)\u001b[0m\u001b[0;34m:\u001b[0m\u001b[0;34m\u001b[0m\u001b[0;34m\u001b[0m\u001b[0m\n\u001b[0;32m----> 3\u001b[0;31m     \u001b[0mdf2\u001b[0m \u001b[0;34m=\u001b[0m \u001b[0mdf\u001b[0m\u001b[0;34m[\u001b[0m\u001b[0;34m[\u001b[0m\u001b[0;34m'Data'\u001b[0m\u001b[0;34m,\u001b[0m\u001b[0mnazwa_kolumny\u001b[0m\u001b[0;34m]\u001b[0m\u001b[0;34m]\u001b[0m\u001b[0;34m\u001b[0m\u001b[0;34m\u001b[0m\u001b[0m\n\u001b[0m\u001b[1;32m      4\u001b[0m     \u001b[0mdf2\u001b[0m\u001b[0;34m.\u001b[0m\u001b[0mindex\u001b[0m \u001b[0;34m=\u001b[0m \u001b[0mpd\u001b[0m\u001b[0;34m.\u001b[0m\u001b[0mDatetimeIndex\u001b[0m\u001b[0;34m(\u001b[0m\u001b[0mdf2\u001b[0m\u001b[0;34m[\u001b[0m\u001b[0;34m'Data'\u001b[0m\u001b[0;34m]\u001b[0m\u001b[0;34m)\u001b[0m\u001b[0;34m\u001b[0m\u001b[0;34m\u001b[0m\u001b[0m\n\u001b[1;32m      5\u001b[0m     \u001b[0mmodel\u001b[0m \u001b[0;34m=\u001b[0m \u001b[0mARMA\u001b[0m\u001b[0;34m(\u001b[0m\u001b[0mdf2\u001b[0m\u001b[0;34m[\u001b[0m\u001b[0mnazwa_kolumny\u001b[0m\u001b[0;34m]\u001b[0m\u001b[0;34m,\u001b[0m \u001b[0morder\u001b[0m\u001b[0;34m=\u001b[0m\u001b[0;34m(\u001b[0m\u001b[0;36m4\u001b[0m\u001b[0;34m,\u001b[0m \u001b[0;36m2\u001b[0m\u001b[0;34m)\u001b[0m\u001b[0;34m)\u001b[0m\u001b[0;34m\u001b[0m\u001b[0;34m\u001b[0m\u001b[0m\n",
      "\u001b[0;32m~/.local/lib/python3.6/site-packages/pandas/core/frame.py\u001b[0m in \u001b[0;36m__getitem__\u001b[0;34m(self, key)\u001b[0m\n\u001b[1;32m   2804\u001b[0m             \u001b[0;32mif\u001b[0m \u001b[0mis_iterator\u001b[0m\u001b[0;34m(\u001b[0m\u001b[0mkey\u001b[0m\u001b[0;34m)\u001b[0m\u001b[0;34m:\u001b[0m\u001b[0;34m\u001b[0m\u001b[0;34m\u001b[0m\u001b[0m\n\u001b[1;32m   2805\u001b[0m                 \u001b[0mkey\u001b[0m \u001b[0;34m=\u001b[0m \u001b[0mlist\u001b[0m\u001b[0;34m(\u001b[0m\u001b[0mkey\u001b[0m\u001b[0;34m)\u001b[0m\u001b[0;34m\u001b[0m\u001b[0;34m\u001b[0m\u001b[0m\n\u001b[0;32m-> 2806\u001b[0;31m             \u001b[0mindexer\u001b[0m \u001b[0;34m=\u001b[0m \u001b[0mself\u001b[0m\u001b[0;34m.\u001b[0m\u001b[0mloc\u001b[0m\u001b[0;34m.\u001b[0m\u001b[0m_get_listlike_indexer\u001b[0m\u001b[0;34m(\u001b[0m\u001b[0mkey\u001b[0m\u001b[0;34m,\u001b[0m \u001b[0maxis\u001b[0m\u001b[0;34m=\u001b[0m\u001b[0;36m1\u001b[0m\u001b[0;34m,\u001b[0m \u001b[0mraise_missing\u001b[0m\u001b[0;34m=\u001b[0m\u001b[0;32mTrue\u001b[0m\u001b[0;34m)\u001b[0m\u001b[0;34m[\u001b[0m\u001b[0;36m1\u001b[0m\u001b[0;34m]\u001b[0m\u001b[0;34m\u001b[0m\u001b[0;34m\u001b[0m\u001b[0m\n\u001b[0m\u001b[1;32m   2807\u001b[0m \u001b[0;34m\u001b[0m\u001b[0m\n\u001b[1;32m   2808\u001b[0m         \u001b[0;31m# take() does not accept boolean indexers\u001b[0m\u001b[0;34m\u001b[0m\u001b[0;34m\u001b[0m\u001b[0;34m\u001b[0m\u001b[0m\n",
      "\u001b[0;32m~/.local/lib/python3.6/site-packages/pandas/core/indexing.py\u001b[0m in \u001b[0;36m_get_listlike_indexer\u001b[0;34m(self, key, axis, raise_missing)\u001b[0m\n\u001b[1;32m   1550\u001b[0m \u001b[0;34m\u001b[0m\u001b[0m\n\u001b[1;32m   1551\u001b[0m         self._validate_read_indexer(\n\u001b[0;32m-> 1552\u001b[0;31m             \u001b[0mkeyarr\u001b[0m\u001b[0;34m,\u001b[0m \u001b[0mindexer\u001b[0m\u001b[0;34m,\u001b[0m \u001b[0mo\u001b[0m\u001b[0;34m.\u001b[0m\u001b[0m_get_axis_number\u001b[0m\u001b[0;34m(\u001b[0m\u001b[0maxis\u001b[0m\u001b[0;34m)\u001b[0m\u001b[0;34m,\u001b[0m \u001b[0mraise_missing\u001b[0m\u001b[0;34m=\u001b[0m\u001b[0mraise_missing\u001b[0m\u001b[0;34m\u001b[0m\u001b[0;34m\u001b[0m\u001b[0m\n\u001b[0m\u001b[1;32m   1553\u001b[0m         )\n\u001b[1;32m   1554\u001b[0m         \u001b[0;32mreturn\u001b[0m \u001b[0mkeyarr\u001b[0m\u001b[0;34m,\u001b[0m \u001b[0mindexer\u001b[0m\u001b[0;34m\u001b[0m\u001b[0;34m\u001b[0m\u001b[0m\n",
      "\u001b[0;32m~/.local/lib/python3.6/site-packages/pandas/core/indexing.py\u001b[0m in \u001b[0;36m_validate_read_indexer\u001b[0;34m(self, key, indexer, axis, raise_missing)\u001b[0m\n\u001b[1;32m   1643\u001b[0m             \u001b[0;32mif\u001b[0m \u001b[0;32mnot\u001b[0m \u001b[0;34m(\u001b[0m\u001b[0mself\u001b[0m\u001b[0;34m.\u001b[0m\u001b[0mname\u001b[0m \u001b[0;34m==\u001b[0m \u001b[0;34m\"loc\"\u001b[0m \u001b[0;32mand\u001b[0m \u001b[0;32mnot\u001b[0m \u001b[0mraise_missing\u001b[0m\u001b[0;34m)\u001b[0m\u001b[0;34m:\u001b[0m\u001b[0;34m\u001b[0m\u001b[0;34m\u001b[0m\u001b[0m\n\u001b[1;32m   1644\u001b[0m                 \u001b[0mnot_found\u001b[0m \u001b[0;34m=\u001b[0m \u001b[0mlist\u001b[0m\u001b[0;34m(\u001b[0m\u001b[0mset\u001b[0m\u001b[0;34m(\u001b[0m\u001b[0mkey\u001b[0m\u001b[0;34m)\u001b[0m \u001b[0;34m-\u001b[0m \u001b[0mset\u001b[0m\u001b[0;34m(\u001b[0m\u001b[0max\u001b[0m\u001b[0;34m)\u001b[0m\u001b[0;34m)\u001b[0m\u001b[0;34m\u001b[0m\u001b[0;34m\u001b[0m\u001b[0m\n\u001b[0;32m-> 1645\u001b[0;31m                 \u001b[0;32mraise\u001b[0m \u001b[0mKeyError\u001b[0m\u001b[0;34m(\u001b[0m\u001b[0;34mf\"{not_found} not in index\"\u001b[0m\u001b[0;34m)\u001b[0m\u001b[0;34m\u001b[0m\u001b[0;34m\u001b[0m\u001b[0m\n\u001b[0m\u001b[1;32m   1646\u001b[0m \u001b[0;34m\u001b[0m\u001b[0m\n\u001b[1;32m   1647\u001b[0m             \u001b[0;31m# we skip the warning on Categorical/Interval\u001b[0m\u001b[0;34m\u001b[0m\u001b[0;34m\u001b[0m\u001b[0;34m\u001b[0m\u001b[0m\n",
      "\u001b[0;31mKeyError\u001b[0m: \"['Data'] not in index\""
     ]
    }
   ],
   "source": [
    "\n"
   ]
  },
  {
   "cell_type": "code",
   "execution_count": 89,
   "metadata": {},
   "outputs": [],
   "source": [
    "columns_to_normalize = [[5],[6],[8],[9],[10]]\n",
    "normalize_particular_columns(df, columns_to_normalize)"
   ]
  },
  {
   "cell_type": "code",
   "execution_count": 90,
   "metadata": {},
   "outputs": [
    {
     "output_type": "execute_result",
     "data": {
      "text/plain": "     Kod stacji Nazwa stacji   Rok  Miesiąc  Dzień  \\\n0     349190625     ZAKOPANE  2020        1      1   \n1     349190625     ZAKOPANE  2020        1      2   \n2     349190625     ZAKOPANE  2020        1      3   \n3     349190625     ZAKOPANE  2020        1      4   \n4     349190625     ZAKOPANE  2020        1      5   \n..          ...          ...   ...      ...    ...   \n542   349190625     ZAKOPANE  2019       12     27   \n543   349190625     ZAKOPANE  2019       12     28   \n544   349190625     ZAKOPANE  2019       12     29   \n545   349190625     ZAKOPANE  2019       12     30   \n546   349190625     ZAKOPANE  2019       12     31   \n\n     Średnie dobowe zachmurzenie ogólne [oktanty]  \\\n0                                       -0.503961   \n1                                       -0.457023   \n2                                       -1.348845   \n3                                        1.044993   \n4                                        1.185807   \n..                                            ...   \n542                                      1.185807   \n543                                      1.232745   \n544                                      0.810303   \n545                                      0.293985   \n546                                      0.528675   \n\n     Średnia dobowa prędkość wiatru [m/s]  Średnia dobowa temperatura [°C]  \\\n0                                0.381053                             -1.7   \n1                               -0.472693                             -1.5   \n2                               -0.350729                             -1.1   \n3                                2.332472                              0.8   \n4                                1.356762                             -4.1   \n..                                    ...                              ...   \n542                              0.503017                             -2.0   \n543                              1.112835                             -4.6   \n544                             -0.960547                             -7.3   \n545                             -0.472693                             -2.3   \n546                              1.356762                              2.8   \n\n     Średnia dobowe ciśnienie pary wodnej [hPa]  \\\n0                                     -0.959836   \n1                                     -1.181264   \n2                                     -1.009042   \n3                                     -0.615393   \n4                                     -1.009042   \n..                                          ...   \n542                                   -0.763011   \n543                                   -0.959836   \n544                                   -1.156661   \n545                                   -0.763011   \n546                                   -0.713805   \n\n     Średnia dobowa wilgotność względna [%]  \\\n0                                 -0.113218   \n1                                 -1.372368   \n2                                 -0.445386   \n3                                  0.697891   \n4                                  0.697891   \n..                                      ...   \n542                                1.292705   \n543                                1.238631   \n544                                1.060959   \n545                                0.999160   \n546                               -0.484010   \n\n     Średnia dobowe ciśnienie na poziomie stacji [hPa]  \\\n0                                             1.609431   \n1                                             1.516841   \n2                                             0.670304   \n3                                             0.022174   \n4                                             0.934847   \n..                                                 ...   \n542                                           0.418988   \n543                                           1.411024   \n544                                           2.098835   \n545                                           1.807838   \n546                                           0.948074   \n\n     Suma opadu dzień  [mm]  Suma opadu noc   [mm]  deszcz w dzień  \\\n0                       0.0                    0.0               0   \n1                       0.0                    0.0               0   \n2                       0.0                    0.0               0   \n3                       1.9                    6.5               1   \n4                       3.4                    0.0               1   \n..                      ...                    ...             ...   \n542                     4.6                    6.5               1   \n543                     3.7                    0.4               1   \n544                     1.1                    0.0               1   \n545                     0.0                    0.0               0   \n546                     0.0                    0.0               0   \n\n     deszcz w nocy  \n0                0  \n1                0  \n2                0  \n3                1  \n4                1  \n..             ...  \n542              1  \n543              1  \n544              1  \n545              0  \n546              0  \n\n[547 rows x 15 columns]",
      "text/html": "<div>\n<style scoped>\n    .dataframe tbody tr th:only-of-type {\n        vertical-align: middle;\n    }\n\n    .dataframe tbody tr th {\n        vertical-align: top;\n    }\n\n    .dataframe thead th {\n        text-align: right;\n    }\n</style>\n<table border=\"1\" class=\"dataframe\">\n  <thead>\n    <tr style=\"text-align: right;\">\n      <th></th>\n      <th>Kod stacji</th>\n      <th>Nazwa stacji</th>\n      <th>Rok</th>\n      <th>Miesiąc</th>\n      <th>Dzień</th>\n      <th>Średnie dobowe zachmurzenie ogólne [oktanty]</th>\n      <th>Średnia dobowa prędkość wiatru [m/s]</th>\n      <th>Średnia dobowa temperatura [°C]</th>\n      <th>Średnia dobowe ciśnienie pary wodnej [hPa]</th>\n      <th>Średnia dobowa wilgotność względna [%]</th>\n      <th>Średnia dobowe ciśnienie na poziomie stacji [hPa]</th>\n      <th>Suma opadu dzień  [mm]</th>\n      <th>Suma opadu noc   [mm]</th>\n      <th>deszcz w dzień</th>\n      <th>deszcz w nocy</th>\n    </tr>\n  </thead>\n  <tbody>\n    <tr>\n      <th>0</th>\n      <td>349190625</td>\n      <td>ZAKOPANE</td>\n      <td>2020</td>\n      <td>1</td>\n      <td>1</td>\n      <td>-0.503961</td>\n      <td>0.381053</td>\n      <td>-1.7</td>\n      <td>-0.959836</td>\n      <td>-0.113218</td>\n      <td>1.609431</td>\n      <td>0.0</td>\n      <td>0.0</td>\n      <td>0</td>\n      <td>0</td>\n    </tr>\n    <tr>\n      <th>1</th>\n      <td>349190625</td>\n      <td>ZAKOPANE</td>\n      <td>2020</td>\n      <td>1</td>\n      <td>2</td>\n      <td>-0.457023</td>\n      <td>-0.472693</td>\n      <td>-1.5</td>\n      <td>-1.181264</td>\n      <td>-1.372368</td>\n      <td>1.516841</td>\n      <td>0.0</td>\n      <td>0.0</td>\n      <td>0</td>\n      <td>0</td>\n    </tr>\n    <tr>\n      <th>2</th>\n      <td>349190625</td>\n      <td>ZAKOPANE</td>\n      <td>2020</td>\n      <td>1</td>\n      <td>3</td>\n      <td>-1.348845</td>\n      <td>-0.350729</td>\n      <td>-1.1</td>\n      <td>-1.009042</td>\n      <td>-0.445386</td>\n      <td>0.670304</td>\n      <td>0.0</td>\n      <td>0.0</td>\n      <td>0</td>\n      <td>0</td>\n    </tr>\n    <tr>\n      <th>3</th>\n      <td>349190625</td>\n      <td>ZAKOPANE</td>\n      <td>2020</td>\n      <td>1</td>\n      <td>4</td>\n      <td>1.044993</td>\n      <td>2.332472</td>\n      <td>0.8</td>\n      <td>-0.615393</td>\n      <td>0.697891</td>\n      <td>0.022174</td>\n      <td>1.9</td>\n      <td>6.5</td>\n      <td>1</td>\n      <td>1</td>\n    </tr>\n    <tr>\n      <th>4</th>\n      <td>349190625</td>\n      <td>ZAKOPANE</td>\n      <td>2020</td>\n      <td>1</td>\n      <td>5</td>\n      <td>1.185807</td>\n      <td>1.356762</td>\n      <td>-4.1</td>\n      <td>-1.009042</td>\n      <td>0.697891</td>\n      <td>0.934847</td>\n      <td>3.4</td>\n      <td>0.0</td>\n      <td>1</td>\n      <td>1</td>\n    </tr>\n    <tr>\n      <th>...</th>\n      <td>...</td>\n      <td>...</td>\n      <td>...</td>\n      <td>...</td>\n      <td>...</td>\n      <td>...</td>\n      <td>...</td>\n      <td>...</td>\n      <td>...</td>\n      <td>...</td>\n      <td>...</td>\n      <td>...</td>\n      <td>...</td>\n      <td>...</td>\n      <td>...</td>\n    </tr>\n    <tr>\n      <th>542</th>\n      <td>349190625</td>\n      <td>ZAKOPANE</td>\n      <td>2019</td>\n      <td>12</td>\n      <td>27</td>\n      <td>1.185807</td>\n      <td>0.503017</td>\n      <td>-2.0</td>\n      <td>-0.763011</td>\n      <td>1.292705</td>\n      <td>0.418988</td>\n      <td>4.6</td>\n      <td>6.5</td>\n      <td>1</td>\n      <td>1</td>\n    </tr>\n    <tr>\n      <th>543</th>\n      <td>349190625</td>\n      <td>ZAKOPANE</td>\n      <td>2019</td>\n      <td>12</td>\n      <td>28</td>\n      <td>1.232745</td>\n      <td>1.112835</td>\n      <td>-4.6</td>\n      <td>-0.959836</td>\n      <td>1.238631</td>\n      <td>1.411024</td>\n      <td>3.7</td>\n      <td>0.4</td>\n      <td>1</td>\n      <td>1</td>\n    </tr>\n    <tr>\n      <th>544</th>\n      <td>349190625</td>\n      <td>ZAKOPANE</td>\n      <td>2019</td>\n      <td>12</td>\n      <td>29</td>\n      <td>0.810303</td>\n      <td>-0.960547</td>\n      <td>-7.3</td>\n      <td>-1.156661</td>\n      <td>1.060959</td>\n      <td>2.098835</td>\n      <td>1.1</td>\n      <td>0.0</td>\n      <td>1</td>\n      <td>1</td>\n    </tr>\n    <tr>\n      <th>545</th>\n      <td>349190625</td>\n      <td>ZAKOPANE</td>\n      <td>2019</td>\n      <td>12</td>\n      <td>30</td>\n      <td>0.293985</td>\n      <td>-0.472693</td>\n      <td>-2.3</td>\n      <td>-0.763011</td>\n      <td>0.999160</td>\n      <td>1.807838</td>\n      <td>0.0</td>\n      <td>0.0</td>\n      <td>0</td>\n      <td>0</td>\n    </tr>\n    <tr>\n      <th>546</th>\n      <td>349190625</td>\n      <td>ZAKOPANE</td>\n      <td>2019</td>\n      <td>12</td>\n      <td>31</td>\n      <td>0.528675</td>\n      <td>1.356762</td>\n      <td>2.8</td>\n      <td>-0.713805</td>\n      <td>-0.484010</td>\n      <td>0.948074</td>\n      <td>0.0</td>\n      <td>0.0</td>\n      <td>0</td>\n      <td>0</td>\n    </tr>\n  </tbody>\n</table>\n<p>547 rows × 15 columns</p>\n</div>"
     },
     "metadata": {},
     "execution_count": 90
    }
   ],
   "source": [
    "df"
   ]
  },
  {
   "cell_type": "code",
   "execution_count": 9,
   "metadata": {},
   "outputs": [
    {
     "output_type": "execute_result",
     "data": {
      "text/plain": "     Kod stacji Nazwa stacji       Data  \\\n0     349190625     ZAKOPANE 2020-01-01   \n1     349190625     ZAKOPANE 2020-01-02   \n2     349190625     ZAKOPANE 2020-01-03   \n3     349190625     ZAKOPANE 2020-01-04   \n4     349190625     ZAKOPANE 2020-01-05   \n..          ...          ...        ...   \n542   349190625     ZAKOPANE 2019-12-27   \n543   349190625     ZAKOPANE 2019-12-28   \n544   349190625     ZAKOPANE 2019-12-29   \n545   349190625     ZAKOPANE 2019-12-30   \n546   349190625     ZAKOPANE 2019-12-31   \n\n     Średnie dobowe zachmurzenie ogólne [oktanty]  \\\n0                                             4.3   \n1                                             4.4   \n2                                             2.5   \n3                                             7.6   \n4                                             7.9   \n..                                            ...   \n542                                           7.9   \n543                                           8.0   \n544                                           7.1   \n545                                           6.0   \n546                                           6.5   \n\n     Średnia dobowa prędkość wiatru [m/s]  Średnia dobowa temperatura [°C]  \\\n0                                     2.0                             -1.7   \n1                                     1.3                             -1.5   \n2                                     1.4                             -1.1   \n3                                     3.6                              0.8   \n4                                     2.8                             -4.1   \n..                                    ...                              ...   \n542                                   2.1                             -2.0   \n543                                   2.6                             -4.6   \n544                                   0.9                             -7.3   \n545                                   1.3                             -2.3   \n546                                   2.8                              2.8   \n\n     Średnia dobowe ciśnienie pary wodnej [hPa]  \\\n0                                           4.0   \n1                                           3.1   \n2                                           3.8   \n3                                           5.4   \n4                                           3.8   \n..                                          ...   \n542                                         4.8   \n543                                         4.0   \n544                                         3.2   \n545                                         4.8   \n546                                         5.0   \n\n     Średnia dobowa wilgotność względna [%]  \\\n0                                      73.1   \n1                                      56.8   \n2                                      68.8   \n3                                      83.6   \n4                                      83.6   \n..                                      ...   \n542                                    91.3   \n543                                    90.6   \n544                                    88.3   \n545                                    87.5   \n546                                    68.3   \n\n     Średnia dobowe ciśnienie na poziomie stacji [hPa]  \\\n0                                                929.5   \n1                                                928.8   \n2                                                922.4   \n3                                                917.5   \n4                                                924.4   \n..                                                 ...   \n542                                              920.5   \n543                                              928.0   \n544                                              933.2   \n545                                              931.0   \n546                                              924.5   \n\n     Suma opadu dzień  [mm]  Suma opadu noc   [mm]  deszcz w dzień  \\\n0                       0.0                    0.0               0   \n1                       0.0                    0.0               0   \n2                       0.0                    0.0               0   \n3                       1.9                    6.5               1   \n4                       3.4                    0.0               1   \n..                      ...                    ...             ...   \n542                     4.6                    6.5               1   \n543                     3.7                    0.4               1   \n544                     1.1                    0.0               1   \n545                     0.0                    0.0               0   \n546                     0.0                    0.0               0   \n\n     deszcz w nocy  \n0                0  \n1                0  \n2                0  \n3                1  \n4                1  \n..             ...  \n542              1  \n543              1  \n544              1  \n545              0  \n546              0  \n\n[547 rows x 13 columns]",
      "text/html": "<div>\n<style scoped>\n    .dataframe tbody tr th:only-of-type {\n        vertical-align: middle;\n    }\n\n    .dataframe tbody tr th {\n        vertical-align: top;\n    }\n\n    .dataframe thead th {\n        text-align: right;\n    }\n</style>\n<table border=\"1\" class=\"dataframe\">\n  <thead>\n    <tr style=\"text-align: right;\">\n      <th></th>\n      <th>Kod stacji</th>\n      <th>Nazwa stacji</th>\n      <th>Data</th>\n      <th>Średnie dobowe zachmurzenie ogólne [oktanty]</th>\n      <th>Średnia dobowa prędkość wiatru [m/s]</th>\n      <th>Średnia dobowa temperatura [°C]</th>\n      <th>Średnia dobowe ciśnienie pary wodnej [hPa]</th>\n      <th>Średnia dobowa wilgotność względna [%]</th>\n      <th>Średnia dobowe ciśnienie na poziomie stacji [hPa]</th>\n      <th>Suma opadu dzień  [mm]</th>\n      <th>Suma opadu noc   [mm]</th>\n      <th>deszcz w dzień</th>\n      <th>deszcz w nocy</th>\n    </tr>\n  </thead>\n  <tbody>\n    <tr>\n      <th>0</th>\n      <td>349190625</td>\n      <td>ZAKOPANE</td>\n      <td>2020-01-01</td>\n      <td>4.3</td>\n      <td>2.0</td>\n      <td>-1.7</td>\n      <td>4.0</td>\n      <td>73.1</td>\n      <td>929.5</td>\n      <td>0.0</td>\n      <td>0.0</td>\n      <td>0</td>\n      <td>0</td>\n    </tr>\n    <tr>\n      <th>1</th>\n      <td>349190625</td>\n      <td>ZAKOPANE</td>\n      <td>2020-01-02</td>\n      <td>4.4</td>\n      <td>1.3</td>\n      <td>-1.5</td>\n      <td>3.1</td>\n      <td>56.8</td>\n      <td>928.8</td>\n      <td>0.0</td>\n      <td>0.0</td>\n      <td>0</td>\n      <td>0</td>\n    </tr>\n    <tr>\n      <th>2</th>\n      <td>349190625</td>\n      <td>ZAKOPANE</td>\n      <td>2020-01-03</td>\n      <td>2.5</td>\n      <td>1.4</td>\n      <td>-1.1</td>\n      <td>3.8</td>\n      <td>68.8</td>\n      <td>922.4</td>\n      <td>0.0</td>\n      <td>0.0</td>\n      <td>0</td>\n      <td>0</td>\n    </tr>\n    <tr>\n      <th>3</th>\n      <td>349190625</td>\n      <td>ZAKOPANE</td>\n      <td>2020-01-04</td>\n      <td>7.6</td>\n      <td>3.6</td>\n      <td>0.8</td>\n      <td>5.4</td>\n      <td>83.6</td>\n      <td>917.5</td>\n      <td>1.9</td>\n      <td>6.5</td>\n      <td>1</td>\n      <td>1</td>\n    </tr>\n    <tr>\n      <th>4</th>\n      <td>349190625</td>\n      <td>ZAKOPANE</td>\n      <td>2020-01-05</td>\n      <td>7.9</td>\n      <td>2.8</td>\n      <td>-4.1</td>\n      <td>3.8</td>\n      <td>83.6</td>\n      <td>924.4</td>\n      <td>3.4</td>\n      <td>0.0</td>\n      <td>1</td>\n      <td>1</td>\n    </tr>\n    <tr>\n      <th>...</th>\n      <td>...</td>\n      <td>...</td>\n      <td>...</td>\n      <td>...</td>\n      <td>...</td>\n      <td>...</td>\n      <td>...</td>\n      <td>...</td>\n      <td>...</td>\n      <td>...</td>\n      <td>...</td>\n      <td>...</td>\n      <td>...</td>\n    </tr>\n    <tr>\n      <th>542</th>\n      <td>349190625</td>\n      <td>ZAKOPANE</td>\n      <td>2019-12-27</td>\n      <td>7.9</td>\n      <td>2.1</td>\n      <td>-2.0</td>\n      <td>4.8</td>\n      <td>91.3</td>\n      <td>920.5</td>\n      <td>4.6</td>\n      <td>6.5</td>\n      <td>1</td>\n      <td>1</td>\n    </tr>\n    <tr>\n      <th>543</th>\n      <td>349190625</td>\n      <td>ZAKOPANE</td>\n      <td>2019-12-28</td>\n      <td>8.0</td>\n      <td>2.6</td>\n      <td>-4.6</td>\n      <td>4.0</td>\n      <td>90.6</td>\n      <td>928.0</td>\n      <td>3.7</td>\n      <td>0.4</td>\n      <td>1</td>\n      <td>1</td>\n    </tr>\n    <tr>\n      <th>544</th>\n      <td>349190625</td>\n      <td>ZAKOPANE</td>\n      <td>2019-12-29</td>\n      <td>7.1</td>\n      <td>0.9</td>\n      <td>-7.3</td>\n      <td>3.2</td>\n      <td>88.3</td>\n      <td>933.2</td>\n      <td>1.1</td>\n      <td>0.0</td>\n      <td>1</td>\n      <td>1</td>\n    </tr>\n    <tr>\n      <th>545</th>\n      <td>349190625</td>\n      <td>ZAKOPANE</td>\n      <td>2019-12-30</td>\n      <td>6.0</td>\n      <td>1.3</td>\n      <td>-2.3</td>\n      <td>4.8</td>\n      <td>87.5</td>\n      <td>931.0</td>\n      <td>0.0</td>\n      <td>0.0</td>\n      <td>0</td>\n      <td>0</td>\n    </tr>\n    <tr>\n      <th>546</th>\n      <td>349190625</td>\n      <td>ZAKOPANE</td>\n      <td>2019-12-31</td>\n      <td>6.5</td>\n      <td>2.8</td>\n      <td>2.8</td>\n      <td>5.0</td>\n      <td>68.3</td>\n      <td>924.5</td>\n      <td>0.0</td>\n      <td>0.0</td>\n      <td>0</td>\n      <td>0</td>\n    </tr>\n  </tbody>\n</table>\n<p>547 rows × 13 columns</p>\n</div>"
     },
     "metadata": {},
     "execution_count": 9
    }
   ],
   "source": [
    "date = pd.to_datetime((df['Rok']*10000+df['Miesiąc']*100+df['Dzień']).apply(str),format='%Y%m%d')\n",
    "df.insert(loc=2, column='Data', value=date)\n",
    "for i in range(0,3):\n",
    "    df = df.drop(df.columns[3],axis = 1)\n",
    "df"
   ]
  },
  {
   "cell_type": "code",
   "execution_count": 10,
   "metadata": {},
   "outputs": [],
   "source": [
    "df.sort_values(by=['Data'], inplace=True)"
   ]
  },
  {
   "cell_type": "code",
   "execution_count": 12,
   "metadata": {},
   "outputs": [
    {
     "output_type": "execute_result",
     "data": {
      "text/plain": "     Kod stacji Nazwa stacji       Data  \\\n182   349190625     ZAKOPANE 2019-01-01   \n183   349190625     ZAKOPANE 2019-01-02   \n184   349190625     ZAKOPANE 2019-01-03   \n185   349190625     ZAKOPANE 2019-01-04   \n186   349190625     ZAKOPANE 2019-01-05   \n..          ...          ...        ...   \n177   349190625     ZAKOPANE 2020-06-26   \n178   349190625     ZAKOPANE 2020-06-27   \n179   349190625     ZAKOPANE 2020-06-28   \n180   349190625     ZAKOPANE 2020-06-29   \n181   349190625     ZAKOPANE 2020-06-30   \n\n     Średnie dobowe zachmurzenie ogólne [oktanty]  \\\n182                                           6.6   \n183                                           7.8   \n184                                           8.0   \n185                                           7.9   \n186                                           7.9   \n..                                            ...   \n177                                           6.4   \n178                                           5.9   \n179                                           3.6   \n180                                           4.9   \n181                                           2.8   \n\n     Średnia dobowa prędkość wiatru [m/s]  Średnia dobowa temperatura [°C]  \\\n182                                   2.8                             -1.0   \n183                                   3.3                             -3.7   \n184                                   1.6                             -7.5   \n185                                   1.5                             -8.0   \n186                                   1.6                             -3.4   \n..                                    ...                              ...   \n177                                   1.1                             17.7   \n178                                   2.3                             21.2   \n179                                   1.5                             19.6   \n180                                   1.5                             17.7   \n181                                   1.9                             17.0   \n\n     Średnia dobowe ciśnienie pary wodnej [hPa]  \\\n182                                         5.0   \n183                                         4.2   \n184                                         3.0   \n185                                         2.7   \n186                                         4.3   \n..                                          ...   \n177                                        14.4   \n178                                        14.1   \n179                                        15.8   \n180                                        14.8   \n181                                        11.5   \n\n     Średnia dobowa wilgotność względna [%]  \\\n182                                    84.9   \n183                                    89.8   \n184                                    85.5   \n185                                    81.3   \n186                                    90.5   \n..                                      ...   \n177                                    74.0   \n178                                    56.9   \n179                                    71.9   \n180                                    76.5   \n181                                    62.0   \n\n     Średnia dobowe ciśnienie na poziomie stacji [hPa]  \\\n182                                              918.4   \n183                                              911.3   \n184                                              919.1   \n185                                              922.1   \n186                                              912.7   \n..                                                 ...   \n177                                              921.9   \n178                                              918.7   \n179                                              919.0   \n180                                              915.3   \n181                                              915.9   \n\n     Suma opadu dzień  [mm]  Suma opadu noc   [mm]  deszcz w dzień  \\\n182                     0.3                    3.0               1   \n183                     8.2                    4.5               1   \n184                     6.5                    2.7               1   \n185                     0.1                    2.9               1   \n186                     8.0                    1.3               1   \n..                      ...                    ...             ...   \n177                     1.1                    1.2               1   \n178                     0.0                    1.3               0   \n179                     0.0                    0.0               0   \n180                     3.6                    0.3               1   \n181                     0.0                    0.0               0   \n\n     deszcz w nocy  \n182              1  \n183              1  \n184              1  \n185              1  \n186              1  \n..             ...  \n177              1  \n178              0  \n179              0  \n180              1  \n181              0  \n\n[547 rows x 13 columns]",
      "text/html": "<div>\n<style scoped>\n    .dataframe tbody tr th:only-of-type {\n        vertical-align: middle;\n    }\n\n    .dataframe tbody tr th {\n        vertical-align: top;\n    }\n\n    .dataframe thead th {\n        text-align: right;\n    }\n</style>\n<table border=\"1\" class=\"dataframe\">\n  <thead>\n    <tr style=\"text-align: right;\">\n      <th></th>\n      <th>Kod stacji</th>\n      <th>Nazwa stacji</th>\n      <th>Data</th>\n      <th>Średnie dobowe zachmurzenie ogólne [oktanty]</th>\n      <th>Średnia dobowa prędkość wiatru [m/s]</th>\n      <th>Średnia dobowa temperatura [°C]</th>\n      <th>Średnia dobowe ciśnienie pary wodnej [hPa]</th>\n      <th>Średnia dobowa wilgotność względna [%]</th>\n      <th>Średnia dobowe ciśnienie na poziomie stacji [hPa]</th>\n      <th>Suma opadu dzień  [mm]</th>\n      <th>Suma opadu noc   [mm]</th>\n      <th>deszcz w dzień</th>\n      <th>deszcz w nocy</th>\n    </tr>\n  </thead>\n  <tbody>\n    <tr>\n      <th>182</th>\n      <td>349190625</td>\n      <td>ZAKOPANE</td>\n      <td>2019-01-01</td>\n      <td>6.6</td>\n      <td>2.8</td>\n      <td>-1.0</td>\n      <td>5.0</td>\n      <td>84.9</td>\n      <td>918.4</td>\n      <td>0.3</td>\n      <td>3.0</td>\n      <td>1</td>\n      <td>1</td>\n    </tr>\n    <tr>\n      <th>183</th>\n      <td>349190625</td>\n      <td>ZAKOPANE</td>\n      <td>2019-01-02</td>\n      <td>7.8</td>\n      <td>3.3</td>\n      <td>-3.7</td>\n      <td>4.2</td>\n      <td>89.8</td>\n      <td>911.3</td>\n      <td>8.2</td>\n      <td>4.5</td>\n      <td>1</td>\n      <td>1</td>\n    </tr>\n    <tr>\n      <th>184</th>\n      <td>349190625</td>\n      <td>ZAKOPANE</td>\n      <td>2019-01-03</td>\n      <td>8.0</td>\n      <td>1.6</td>\n      <td>-7.5</td>\n      <td>3.0</td>\n      <td>85.5</td>\n      <td>919.1</td>\n      <td>6.5</td>\n      <td>2.7</td>\n      <td>1</td>\n      <td>1</td>\n    </tr>\n    <tr>\n      <th>185</th>\n      <td>349190625</td>\n      <td>ZAKOPANE</td>\n      <td>2019-01-04</td>\n      <td>7.9</td>\n      <td>1.5</td>\n      <td>-8.0</td>\n      <td>2.7</td>\n      <td>81.3</td>\n      <td>922.1</td>\n      <td>0.1</td>\n      <td>2.9</td>\n      <td>1</td>\n      <td>1</td>\n    </tr>\n    <tr>\n      <th>186</th>\n      <td>349190625</td>\n      <td>ZAKOPANE</td>\n      <td>2019-01-05</td>\n      <td>7.9</td>\n      <td>1.6</td>\n      <td>-3.4</td>\n      <td>4.3</td>\n      <td>90.5</td>\n      <td>912.7</td>\n      <td>8.0</td>\n      <td>1.3</td>\n      <td>1</td>\n      <td>1</td>\n    </tr>\n    <tr>\n      <th>...</th>\n      <td>...</td>\n      <td>...</td>\n      <td>...</td>\n      <td>...</td>\n      <td>...</td>\n      <td>...</td>\n      <td>...</td>\n      <td>...</td>\n      <td>...</td>\n      <td>...</td>\n      <td>...</td>\n      <td>...</td>\n      <td>...</td>\n    </tr>\n    <tr>\n      <th>177</th>\n      <td>349190625</td>\n      <td>ZAKOPANE</td>\n      <td>2020-06-26</td>\n      <td>6.4</td>\n      <td>1.1</td>\n      <td>17.7</td>\n      <td>14.4</td>\n      <td>74.0</td>\n      <td>921.9</td>\n      <td>1.1</td>\n      <td>1.2</td>\n      <td>1</td>\n      <td>1</td>\n    </tr>\n    <tr>\n      <th>178</th>\n      <td>349190625</td>\n      <td>ZAKOPANE</td>\n      <td>2020-06-27</td>\n      <td>5.9</td>\n      <td>2.3</td>\n      <td>21.2</td>\n      <td>14.1</td>\n      <td>56.9</td>\n      <td>918.7</td>\n      <td>0.0</td>\n      <td>1.3</td>\n      <td>0</td>\n      <td>0</td>\n    </tr>\n    <tr>\n      <th>179</th>\n      <td>349190625</td>\n      <td>ZAKOPANE</td>\n      <td>2020-06-28</td>\n      <td>3.6</td>\n      <td>1.5</td>\n      <td>19.6</td>\n      <td>15.8</td>\n      <td>71.9</td>\n      <td>919.0</td>\n      <td>0.0</td>\n      <td>0.0</td>\n      <td>0</td>\n      <td>0</td>\n    </tr>\n    <tr>\n      <th>180</th>\n      <td>349190625</td>\n      <td>ZAKOPANE</td>\n      <td>2020-06-29</td>\n      <td>4.9</td>\n      <td>1.5</td>\n      <td>17.7</td>\n      <td>14.8</td>\n      <td>76.5</td>\n      <td>915.3</td>\n      <td>3.6</td>\n      <td>0.3</td>\n      <td>1</td>\n      <td>1</td>\n    </tr>\n    <tr>\n      <th>181</th>\n      <td>349190625</td>\n      <td>ZAKOPANE</td>\n      <td>2020-06-30</td>\n      <td>2.8</td>\n      <td>1.9</td>\n      <td>17.0</td>\n      <td>11.5</td>\n      <td>62.0</td>\n      <td>915.9</td>\n      <td>0.0</td>\n      <td>0.0</td>\n      <td>0</td>\n      <td>0</td>\n    </tr>\n  </tbody>\n</table>\n<p>547 rows × 13 columns</p>\n</div>"
     },
     "metadata": {},
     "execution_count": 12
    }
   ],
   "source": [
    "df"
   ]
  },
  {
   "cell_type": "code",
   "execution_count": 94,
   "metadata": {},
   "outputs": [
    {
     "output_type": "execute_result",
     "data": {
      "text/plain": "' tutaj trzeba za pomocą regresji liniowej zrobić predykcje wszystkich parametrów z X  dla 7 dni naprzód'"
     },
     "metadata": {},
     "execution_count": 94
    }
   ],
   "source": [
    "''' tutaj trzeba za pomocą regresji liniowej zrobić predykcje wszystkich parametrów z X  dla 7 dni naprzód'''"
   ]
  },
  {
   "cell_type": "code",
   "execution_count": 24,
   "metadata": {
    "tags": []
   },
   "outputs": [
    {
     "output_type": "stream",
     "name": "stderr",
     "text": "/home/justyna/.local/lib/python3.6/site-packages/statsmodels/tsa/base/tsa_model.py:162: ValueWarning: No frequency information was provided, so inferred frequency D will be used.\n  % freq, ValueWarning)\n/home/justyna/.local/lib/python3.6/site-packages/statsmodels/tsa/base/tsa_model.py:162: ValueWarning: No frequency information was provided, so inferred frequency D will be used.\n  % freq, ValueWarning)\n/home/justyna/.local/lib/python3.6/site-packages/statsmodels/tsa/base/tsa_model.py:162: ValueWarning: No frequency information was provided, so inferred frequency D will be used.\n  % freq, ValueWarning)\n/home/justyna/.local/lib/python3.6/site-packages/statsmodels/tsa/base/tsa_model.py:162: ValueWarning: No frequency information was provided, so inferred frequency D will be used.\n  % freq, ValueWarning)\n/home/justyna/.local/lib/python3.6/site-packages/statsmodels/tsa/base/tsa_model.py:162: ValueWarning: No frequency information was provided, so inferred frequency D will be used.\n  % freq, ValueWarning)\n/home/justyna/.local/lib/python3.6/site-packages/statsmodels/tsa/base/tsa_model.py:162: ValueWarning: No frequency information was provided, so inferred frequency D will be used.\n  % freq, ValueWarning)\n"
    }
   ],
   "source": [
    "#przewidywanie przyszłych parametrów\n",
    "def make_predict(nazwa_kolumny,ilosc_dni):\n",
    "    df2 = df[['Data',nazwa_kolumny]]\n",
    "    df2.index = pd.DatetimeIndex(df2['Data'])\n",
    "    model = ARMA(df2[nazwa_kolumny], order=(4, 2))\n",
    "    model_fit = model.fit(disp=False)\n",
    "    forecast = model_fit.predict(len(df2),len(df2)+ilosc_dni)\n",
    "    return forecast[:][:]\n",
    "#stworzenie zbioru danych z prewidywanymi parametrami\n",
    "\n",
    "predicted_data = [] \n",
    "predicted_data.append(make_predict('Średnia dobowa temperatura [°C]',7))\n",
    "predicted_data.append(make_predict('Średnia dobowa prędkość wiatru [m/s]',7))\n",
    "predicted_data.append(make_predict('Średnia dobowe ciśnienie pary wodnej [hPa]',7))\n",
    "predicted_data.append(make_predict('Średnia dobowa wilgotność względna [%]',7))\n",
    "predicted_data.append(make_predict('Średnia dobowe ciśnienie na poziomie stacji [hPa]',7))\n",
    "predicted_data.append(make_predict('Średnie dobowe zachmurzenie ogólne [oktanty]',7))\n"
   ]
  },
  {
   "cell_type": "code",
   "execution_count": 45,
   "metadata": {},
   "outputs": [
    {
     "output_type": "execute_result",
     "data": {
      "text/plain": "            Średnia dobowa temperatura [°C]  \\\n2020-07-01                        16.381982   \n2020-07-02                        16.098026   \n2020-07-03                        15.965405   \n2020-07-04                        15.908057   \n2020-07-05                        15.862933   \n2020-07-06                        15.817764   \n2020-07-07                        15.768069   \n2020-07-08                        15.716255   \n\n            Średnia dobowa prędkość wiatru [m/s]  \\\n2020-07-01                              1.733466   \n2020-07-02                              1.624096   \n2020-07-03                              1.607147   \n2020-07-04                              1.594437   \n2020-07-05                              1.606690   \n2020-07-06                              1.600912   \n2020-07-07                              1.612861   \n2020-07-08                              1.607452   \n\n            Średnia dobowe ciśnienie pary wodnej [hPa]  \\\n2020-07-01                                   11.765728   \n2020-07-02                                   12.436363   \n2020-07-03                                   12.838715   \n2020-07-04                                   12.796541   \n2020-07-05                                   12.728558   \n2020-07-06                                   12.596480   \n2020-07-07                                   12.552748   \n2020-07-08                                   12.474299   \n\n            Średnia dobowa wilgotność względna [%]  \\\n2020-07-01                               68.368932   \n2020-07-02                               71.960053   \n2020-07-03                               74.172067   \n2020-07-04                               74.859341   \n2020-07-05                               75.578739   \n2020-07-06                               75.530379   \n2020-07-07                               75.883211   \n2020-07-08                               75.658576   \n\n            Średnia dobowe ciśnienie na poziomie stacji [hPa]  \\\n2020-07-01                                         917.199447   \n2020-07-02                                         917.384983   \n2020-07-03                                         916.979462   \n2020-07-04                                         917.309049   \n2020-07-05                                         917.441084   \n2020-07-06                                         917.219930   \n2020-07-07                                         917.309629   \n2020-07-08                                         917.407327   \n\n            Średnie dobowe zachmurzenie ogólne [oktanty]  \n2020-07-01                                      4.296043  \n2020-07-02                                      5.094572  \n2020-07-03                                      5.197882  \n2020-07-04                                      5.407628  \n2020-07-05                                      5.347960  \n2020-07-06                                      5.439302  \n2020-07-07                                      5.378913  \n2020-07-08                                      5.432833  ",
      "text/html": "<div>\n<style scoped>\n    .dataframe tbody tr th:only-of-type {\n        vertical-align: middle;\n    }\n\n    .dataframe tbody tr th {\n        vertical-align: top;\n    }\n\n    .dataframe thead th {\n        text-align: right;\n    }\n</style>\n<table border=\"1\" class=\"dataframe\">\n  <thead>\n    <tr style=\"text-align: right;\">\n      <th></th>\n      <th>Średnia dobowa temperatura [°C]</th>\n      <th>Średnia dobowa prędkość wiatru [m/s]</th>\n      <th>Średnia dobowe ciśnienie pary wodnej [hPa]</th>\n      <th>Średnia dobowa wilgotność względna [%]</th>\n      <th>Średnia dobowe ciśnienie na poziomie stacji [hPa]</th>\n      <th>Średnie dobowe zachmurzenie ogólne [oktanty]</th>\n    </tr>\n  </thead>\n  <tbody>\n    <tr>\n      <th>2020-07-01</th>\n      <td>16.381982</td>\n      <td>1.733466</td>\n      <td>11.765728</td>\n      <td>68.368932</td>\n      <td>917.199447</td>\n      <td>4.296043</td>\n    </tr>\n    <tr>\n      <th>2020-07-02</th>\n      <td>16.098026</td>\n      <td>1.624096</td>\n      <td>12.436363</td>\n      <td>71.960053</td>\n      <td>917.384983</td>\n      <td>5.094572</td>\n    </tr>\n    <tr>\n      <th>2020-07-03</th>\n      <td>15.965405</td>\n      <td>1.607147</td>\n      <td>12.838715</td>\n      <td>74.172067</td>\n      <td>916.979462</td>\n      <td>5.197882</td>\n    </tr>\n    <tr>\n      <th>2020-07-04</th>\n      <td>15.908057</td>\n      <td>1.594437</td>\n      <td>12.796541</td>\n      <td>74.859341</td>\n      <td>917.309049</td>\n      <td>5.407628</td>\n    </tr>\n    <tr>\n      <th>2020-07-05</th>\n      <td>15.862933</td>\n      <td>1.606690</td>\n      <td>12.728558</td>\n      <td>75.578739</td>\n      <td>917.441084</td>\n      <td>5.347960</td>\n    </tr>\n    <tr>\n      <th>2020-07-06</th>\n      <td>15.817764</td>\n      <td>1.600912</td>\n      <td>12.596480</td>\n      <td>75.530379</td>\n      <td>917.219930</td>\n      <td>5.439302</td>\n    </tr>\n    <tr>\n      <th>2020-07-07</th>\n      <td>15.768069</td>\n      <td>1.612861</td>\n      <td>12.552748</td>\n      <td>75.883211</td>\n      <td>917.309629</td>\n      <td>5.378913</td>\n    </tr>\n    <tr>\n      <th>2020-07-08</th>\n      <td>15.716255</td>\n      <td>1.607452</td>\n      <td>12.474299</td>\n      <td>75.658576</td>\n      <td>917.407327</td>\n      <td>5.432833</td>\n    </tr>\n  </tbody>\n</table>\n</div>"
     },
     "metadata": {},
     "execution_count": 45
    }
   ],
   "source": [
    "df1 = pd.DataFrame(predicted_data, index=['Średnia dobowa temperatura [°C]','Średnia dobowa prędkość wiatru [m/s]','Średnia dobowe ciśnienie pary wodnej [hPa]','Średnia dobowa wilgotność względna [%]','Średnia dobowe ciśnienie na poziomie stacji [hPa]','Średnie dobowe zachmurzenie ogólne [oktanty]'])\n",
    "df1 = df1.T\n",
    "df1"
   ]
  },
  {
   "cell_type": "code",
   "execution_count": 95,
   "metadata": {},
   "outputs": [
    {
     "output_type": "execute_result",
     "data": {
      "text/plain": "'plan jest taki: szeregi czasowe na każdy parametr , zwracam prognozę na 7 dni w postaci dataframe, następnie są\\xa0to moje dane testowe pod wyuczone klasyfikatory przewidujące deszcz, czyli ostatecznie dostaje temp przewidzianą i label 1 lub 0 na ... % skuteczności algortmu czyli jeśli accuracy jest równo 0,77 to 77% ze będzie padać lub nie ( w dzień lub w nocy)'"
     },
     "metadata": {},
     "execution_count": 95
    }
   ],
   "source": [
    "'''plan jest taki: szeregi czasowe na każdy parametr , zwracam prognozę na 7 dni w postaci dataframe, następnie są to moje dane testowe pod wyuczone klasyfikatory przewidujące deszcz, czyli ostatecznie dostaje temp przewidzianą i label 1 lub 0 na ... % skuteczności algortmu czyli jeśli accuracy jest równo 0,77 to 77% ze będzie padać lub nie ( w dzień lub w nocy)'''"
   ]
  },
  {
   "cell_type": "code",
   "execution_count": 90,
   "metadata": {},
   "outputs": [],
   "source": [
    "X = df[[df.columns[5],df.columns[6],df.columns[7],df.columns[8],df.columns[9],df.columns[10]]]\n",
    "y = df[[df.columns[13]]]"
   ]
  },
  {
   "cell_type": "code",
   "execution_count": 91,
   "metadata": {},
   "outputs": [],
   "source": [
    "Xtrain, Xtest, ytrain, ytest  = train_test_split(X,y,test_size=0.2,random_state=75)"
   ]
  },
  {
   "cell_type": "markdown",
   "metadata": {},
   "source": [
    "Model SVN "
   ]
  },
  {
   "cell_type": "code",
   "execution_count": 66,
   "metadata": {},
   "outputs": [
    {
     "output_type": "execute_result",
     "data": {
      "text/plain": "SVC(C=1.0, break_ties=False, cache_size=200, class_weight=None, coef0=0.0,\n    decision_function_shape='ovr', degree=3, gamma='scale', kernel='linear',\n    max_iter=-1, probability=False, random_state=None, shrinking=True,\n    tol=0.001, verbose=False)"
     },
     "metadata": {},
     "execution_count": 66
    }
   ],
   "source": [
    "clf= svm.SVC(kernel='linear', C=1.0)\n",
    "clf.fit(Xtrain,ytrain)"
   ]
  },
  {
   "cell_type": "code",
   "execution_count": 67,
   "metadata": {},
   "outputs": [],
   "source": [
    "ypred = clf.predict(Xtest)\n",
    "clf_score = clf.score(Xtest,ytest)"
   ]
  },
  {
   "cell_type": "code",
   "execution_count": 68,
   "metadata": {},
   "outputs": [
    {
     "output_type": "execute_result",
     "data": {
      "text/plain": "0.7727272727272727"
     },
     "metadata": {},
     "execution_count": 68
    }
   ],
   "source": [
    "clf_score"
   ]
  },
  {
   "cell_type": "code",
   "execution_count": 69,
   "metadata": {},
   "outputs": [
    {
     "output_type": "execute_result",
     "data": {
      "text/plain": "array([[55, 14],\n       [11, 30]])"
     },
     "metadata": {},
     "execution_count": 69
    }
   ],
   "source": [
    "confusion_matrix(ytest,ypred)"
   ]
  },
  {
   "cell_type": "markdown",
   "metadata": {},
   "source": [
    "Model logistic regresion"
   ]
  },
  {
   "cell_type": "code",
   "execution_count": 70,
   "metadata": {},
   "outputs": [],
   "source": [
    "logistic_regression= LogisticRegression()\n",
    "logistic_regression.fit(Xtrain,ytrain)\n",
    "y_pred_r=logistic_regression.predict(Xtest)\n",
    "    \n",
    "accur = accuracy_score(ytest, y_pred_r)"
   ]
  },
  {
   "cell_type": "code",
   "execution_count": 71,
   "metadata": {},
   "outputs": [
    {
     "output_type": "execute_result",
     "data": {
      "text/plain": "0.7636363636363637"
     },
     "metadata": {},
     "execution_count": 71
    }
   ],
   "source": [
    "accur"
   ]
  },
  {
   "cell_type": "code",
   "execution_count": 72,
   "metadata": {},
   "outputs": [
    {
     "output_type": "execute_result",
     "data": {
      "text/plain": "array([[56, 13],\n       [13, 28]])"
     },
     "metadata": {},
     "execution_count": 72
    }
   ],
   "source": [
    "confusion_matrix(ytest,y_pred_r)"
   ]
  },
  {
   "cell_type": "markdown",
   "metadata": {},
   "source": [
    "Model KNN"
   ]
  },
  {
   "cell_type": "code",
   "execution_count": 73,
   "metadata": {},
   "outputs": [],
   "source": [
    "knn = KNeighborsClassifier()"
   ]
  },
  {
   "cell_type": "code",
   "execution_count": 74,
   "metadata": {},
   "outputs": [],
   "source": [
    "knn.fit(Xtrain, ytrain)\n",
    "y_pred_knn = knn.predict(Xtest)\n",
    "accurKNN = accuracy_score(ytest, y_pred_knn)"
   ]
  },
  {
   "cell_type": "code",
   "execution_count": 75,
   "metadata": {},
   "outputs": [
    {
     "output_type": "execute_result",
     "data": {
      "text/plain": "0.8090909090909091"
     },
     "metadata": {},
     "execution_count": 75
    }
   ],
   "source": [
    "accurKNN"
   ]
  },
  {
   "cell_type": "code",
   "execution_count": 76,
   "metadata": {},
   "outputs": [
    {
     "output_type": "execute_result",
     "data": {
      "text/plain": "array([[59, 10],\n       [11, 30]])"
     },
     "metadata": {},
     "execution_count": 76
    }
   ],
   "source": [
    "confusion_matrix(ytest,y_pred_knn)"
   ]
  },
  {
   "cell_type": "code",
   "execution_count": null,
   "metadata": {},
   "outputs": [],
   "source": []
  },
  {
   "cell_type": "code",
   "execution_count": null,
   "metadata": {},
   "outputs": [],
   "source": []
  },
  {
   "cell_type": "code",
   "execution_count": null,
   "metadata": {},
   "outputs": [],
   "source": []
  }
 ],
 "metadata": {
  "kernelspec": {
   "display_name": "Python 3",
   "language": "python",
   "name": "python3"
  },
  "language_info": {
   "codemirror_mode": {
    "name": "ipython",
    "version": 3
   },
   "file_extension": ".py",
   "mimetype": "text/x-python",
   "name": "python",
   "nbconvert_exporter": "python",
   "pygments_lexer": "ipython3",
   "version": "3.6.9-final"
  }
 },
 "nbformat": 4,
 "nbformat_minor": 2
}