{
 "cells": [
  {
   "cell_type": "code",
   "execution_count": 1,
   "metadata": {},
   "outputs": [],
   "source": [
    "import pandas as pd\n",
    "import numpy as np\n",
    "import sklearn\n",
    "from sklearn.metrics import accuracy_score\n",
    "from sklearn.model_selection import train_test_split\n",
    "from sklearn import svm\n",
    "from sklearn.svm import SVC\n",
    "from sklearn.model_selection import train_test_split\n",
    "from sklearn.metrics import confusion_matrix\n",
    "from sklearn.linear_model import LogisticRegression\n",
    "from sklearn.neighbors import KNeighborsClassifier"
   ]
  },
  {
   "cell_type": "code",
   "execution_count": 2,
   "metadata": {},
   "outputs": [],
   "source": [
    "from weather_api import *"
   ]
  },
  {
   "cell_type": "code",
   "execution_count": 3,
   "metadata": {},
   "outputs": [],
   "source": [
    "df = get_data(\"zakopane\")"
   ]
  },
  {
   "cell_type": "code",
   "execution_count": 11,
   "metadata": {},
   "outputs": [
    {
     "output_type": "execute_result",
     "data": {
      "text/plain": "   Kod stacji Nazwa stacji   Rok  Miesiąc  Dzień  \\\n0   349190625     ZAKOPANE  2020        1      1   \n1   349190625     ZAKOPANE  2020        1      2   \n2   349190625     ZAKOPANE  2020        1      3   \n3   349190625     ZAKOPANE  2020        1      4   \n4   349190625     ZAKOPANE  2020        1      5   \n\n   Średnie dobowe zachmurzenie ogólne [oktanty]  \\\n0                                           4.3   \n1                                           4.4   \n2                                           2.5   \n3                                           7.6   \n4                                           7.9   \n\n   Średnia dobowa prędkość wiatru [m/s]  Średnia dobowa temperatura [°C]  \\\n0                                   2.0                             -1.7   \n1                                   1.3                             -1.5   \n2                                   1.4                             -1.1   \n3                                   3.6                              0.8   \n4                                   2.8                             -4.1   \n\n   Średnia dobowe ciśnienie pary wodnej [hPa]  \\\n0                                         4.0   \n1                                         3.1   \n2                                         3.8   \n3                                         5.4   \n4                                         3.8   \n\n   Średnia dobowa wilgotność względna [%]  \\\n0                                    73.1   \n1                                    56.8   \n2                                    68.8   \n3                                    83.6   \n4                                    83.6   \n\n   Średnia dobowe ciśnienie na poziomie stacji [hPa]  \\\n0                                              929.5   \n1                                              928.8   \n2                                              922.4   \n3                                              917.5   \n4                                              924.4   \n\n   Średnie dobowe ciśnienie na pozimie morza [hPa]  Status pomiaru PPPM  \\\n0                                              0.0                    8   \n1                                              0.0                    8   \n2                                              0.0                    8   \n3                                              0.0                    8   \n4                                              0.0                    8   \n\n   Suma opadu dzień  [mm]  Suma opadu noc   [mm]  \n0                     0.0                    0.0  \n1                     0.0                    0.0  \n2                     0.0                    0.0  \n3                     1.9                    6.5  \n4                     3.4                    0.0  ",
      "text/html": "<div>\n<style scoped>\n    .dataframe tbody tr th:only-of-type {\n        vertical-align: middle;\n    }\n\n    .dataframe tbody tr th {\n        vertical-align: top;\n    }\n\n    .dataframe thead th {\n        text-align: right;\n    }\n</style>\n<table border=\"1\" class=\"dataframe\">\n  <thead>\n    <tr style=\"text-align: right;\">\n      <th></th>\n      <th>Kod stacji</th>\n      <th>Nazwa stacji</th>\n      <th>Rok</th>\n      <th>Miesiąc</th>\n      <th>Dzień</th>\n      <th>Średnie dobowe zachmurzenie ogólne [oktanty]</th>\n      <th>Średnia dobowa prędkość wiatru [m/s]</th>\n      <th>Średnia dobowa temperatura [°C]</th>\n      <th>Średnia dobowe ciśnienie pary wodnej [hPa]</th>\n      <th>Średnia dobowa wilgotność względna [%]</th>\n      <th>Średnia dobowe ciśnienie na poziomie stacji [hPa]</th>\n      <th>Średnie dobowe ciśnienie na pozimie morza [hPa]</th>\n      <th>Status pomiaru PPPM</th>\n      <th>Suma opadu dzień  [mm]</th>\n      <th>Suma opadu noc   [mm]</th>\n    </tr>\n  </thead>\n  <tbody>\n    <tr>\n      <th>0</th>\n      <td>349190625</td>\n      <td>ZAKOPANE</td>\n      <td>2020</td>\n      <td>1</td>\n      <td>1</td>\n      <td>4.3</td>\n      <td>2.0</td>\n      <td>-1.7</td>\n      <td>4.0</td>\n      <td>73.1</td>\n      <td>929.5</td>\n      <td>0.0</td>\n      <td>8</td>\n      <td>0.0</td>\n      <td>0.0</td>\n    </tr>\n    <tr>\n      <th>1</th>\n      <td>349190625</td>\n      <td>ZAKOPANE</td>\n      <td>2020</td>\n      <td>1</td>\n      <td>2</td>\n      <td>4.4</td>\n      <td>1.3</td>\n      <td>-1.5</td>\n      <td>3.1</td>\n      <td>56.8</td>\n      <td>928.8</td>\n      <td>0.0</td>\n      <td>8</td>\n      <td>0.0</td>\n      <td>0.0</td>\n    </tr>\n    <tr>\n      <th>2</th>\n      <td>349190625</td>\n      <td>ZAKOPANE</td>\n      <td>2020</td>\n      <td>1</td>\n      <td>3</td>\n      <td>2.5</td>\n      <td>1.4</td>\n      <td>-1.1</td>\n      <td>3.8</td>\n      <td>68.8</td>\n      <td>922.4</td>\n      <td>0.0</td>\n      <td>8</td>\n      <td>0.0</td>\n      <td>0.0</td>\n    </tr>\n    <tr>\n      <th>3</th>\n      <td>349190625</td>\n      <td>ZAKOPANE</td>\n      <td>2020</td>\n      <td>1</td>\n      <td>4</td>\n      <td>7.6</td>\n      <td>3.6</td>\n      <td>0.8</td>\n      <td>5.4</td>\n      <td>83.6</td>\n      <td>917.5</td>\n      <td>0.0</td>\n      <td>8</td>\n      <td>1.9</td>\n      <td>6.5</td>\n    </tr>\n    <tr>\n      <th>4</th>\n      <td>349190625</td>\n      <td>ZAKOPANE</td>\n      <td>2020</td>\n      <td>1</td>\n      <td>5</td>\n      <td>7.9</td>\n      <td>2.8</td>\n      <td>-4.1</td>\n      <td>3.8</td>\n      <td>83.6</td>\n      <td>924.4</td>\n      <td>0.0</td>\n      <td>8</td>\n      <td>3.4</td>\n      <td>0.0</td>\n    </tr>\n  </tbody>\n</table>\n</div>"
     },
     "metadata": {},
     "execution_count": 11
    }
   ],
   "source": [
    "df.head()"
   ]
  },
  {
   "cell_type": "code",
   "execution_count": 16,
   "metadata": {},
   "outputs": [],
   "source": [
    "def normalize_particular_columns(df, column_names):\n",
    "    for col_name in column_names:\n",
    "        df.iloc[:,col_name]=(df.iloc[:,col_name]-df.iloc[:,col_name].mean())/df.iloc[:,col_name].std()"
   ]
  },
  {
   "cell_type": "code",
   "execution_count": 13,
   "metadata": {},
   "outputs": [],
   "source": [
    "value = []\n",
    "data = df.iloc[:,[14]]\n",
    "data = data.to_numpy()\n",
    "for row in data:\n",
    "    if row == 0:\n",
    "        value.append(0)\n",
    "    elif row > 0:\n",
    "        value.append(1)\n",
    "df['deszcz w dzień']= value\n",
    "\n",
    "value1 = []\n",
    "data1 = df.iloc[:,[15]]\n",
    "data1 = data1.to_numpy()\n",
    "for row1 in data1:\n",
    "    if row1 == 0:\n",
    "        value1.append(0)\n",
    "    elif row1 > 0:\n",
    "        value1.append(1)\n",
    "df['deszcz w nocy']= value"
   ]
  },
  {
   "cell_type": "code",
   "execution_count": 14,
   "metadata": {},
   "outputs": [
    {
     "output_type": "execute_result",
     "data": {
      "text/plain": "     Kod stacji Nazwa stacji   Rok  Miesiąc  Dzień  \\\n0     349190625     ZAKOPANE  2020        1      1   \n1     349190625     ZAKOPANE  2020        1      2   \n2     349190625     ZAKOPANE  2020        1      3   \n3     349190625     ZAKOPANE  2020        1      4   \n4     349190625     ZAKOPANE  2020        1      5   \n..          ...          ...   ...      ...    ...   \n542   349190625     ZAKOPANE  2019       12     27   \n543   349190625     ZAKOPANE  2019       12     28   \n544   349190625     ZAKOPANE  2019       12     29   \n545   349190625     ZAKOPANE  2019       12     30   \n546   349190625     ZAKOPANE  2019       12     31   \n\n     Średnie dobowe zachmurzenie ogólne [oktanty]  \\\n0                                             4.3   \n1                                             4.4   \n2                                             2.5   \n3                                             7.6   \n4                                             7.9   \n..                                            ...   \n542                                           7.9   \n543                                           8.0   \n544                                           7.1   \n545                                           6.0   \n546                                           6.5   \n\n     Średnia dobowa prędkość wiatru [m/s]  Średnia dobowa temperatura [°C]  \\\n0                                     2.0                             -1.7   \n1                                     1.3                             -1.5   \n2                                     1.4                             -1.1   \n3                                     3.6                              0.8   \n4                                     2.8                             -4.1   \n..                                    ...                              ...   \n542                                   2.1                             -2.0   \n543                                   2.6                             -4.6   \n544                                   0.9                             -7.3   \n545                                   1.3                             -2.3   \n546                                   2.8                              2.8   \n\n     Średnia dobowe ciśnienie pary wodnej [hPa]  \\\n0                                           4.0   \n1                                           3.1   \n2                                           3.8   \n3                                           5.4   \n4                                           3.8   \n..                                          ...   \n542                                         4.8   \n543                                         4.0   \n544                                         3.2   \n545                                         4.8   \n546                                         5.0   \n\n     Średnia dobowa wilgotność względna [%]  \\\n0                                      73.1   \n1                                      56.8   \n2                                      68.8   \n3                                      83.6   \n4                                      83.6   \n..                                      ...   \n542                                    91.3   \n543                                    90.6   \n544                                    88.3   \n545                                    87.5   \n546                                    68.3   \n\n     Średnia dobowe ciśnienie na poziomie stacji [hPa]  \\\n0                                                929.5   \n1                                                928.8   \n2                                                922.4   \n3                                                917.5   \n4                                                924.4   \n..                                                 ...   \n542                                              920.5   \n543                                              928.0   \n544                                              933.2   \n545                                              931.0   \n546                                              924.5   \n\n     Średnie dobowe ciśnienie na pozimie morza [hPa]  Status pomiaru PPPM  \\\n0                                                0.0                    8   \n1                                                0.0                    8   \n2                                                0.0                    8   \n3                                                0.0                    8   \n4                                                0.0                    8   \n..                                               ...                  ...   \n542                                              0.0                    8   \n543                                              0.0                    8   \n544                                              0.0                    8   \n545                                              0.0                    8   \n546                                              0.0                    8   \n\n     Suma opadu dzień  [mm]  Suma opadu noc   [mm]  deszcz w dzień  \\\n0                       0.0                    0.0               0   \n1                       0.0                    0.0               0   \n2                       0.0                    0.0               0   \n3                       1.9                    6.5               1   \n4                       3.4                    0.0               0   \n..                      ...                    ...             ...   \n542                     4.6                    6.5               1   \n543                     3.7                    0.4               1   \n544                     1.1                    0.0               0   \n545                     0.0                    0.0               0   \n546                     0.0                    0.0               0   \n\n     deszcz w nocy  \n0                0  \n1                0  \n2                0  \n3                1  \n4                0  \n..             ...  \n542              1  \n543              1  \n544              0  \n545              0  \n546              0  \n\n[547 rows x 17 columns]",
      "text/html": "<div>\n<style scoped>\n    .dataframe tbody tr th:only-of-type {\n        vertical-align: middle;\n    }\n\n    .dataframe tbody tr th {\n        vertical-align: top;\n    }\n\n    .dataframe thead th {\n        text-align: right;\n    }\n</style>\n<table border=\"1\" class=\"dataframe\">\n  <thead>\n    <tr style=\"text-align: right;\">\n      <th></th>\n      <th>Kod stacji</th>\n      <th>Nazwa stacji</th>\n      <th>Rok</th>\n      <th>Miesiąc</th>\n      <th>Dzień</th>\n      <th>Średnie dobowe zachmurzenie ogólne [oktanty]</th>\n      <th>Średnia dobowa prędkość wiatru [m/s]</th>\n      <th>Średnia dobowa temperatura [°C]</th>\n      <th>Średnia dobowe ciśnienie pary wodnej [hPa]</th>\n      <th>Średnia dobowa wilgotność względna [%]</th>\n      <th>Średnia dobowe ciśnienie na poziomie stacji [hPa]</th>\n      <th>Średnie dobowe ciśnienie na pozimie morza [hPa]</th>\n      <th>Status pomiaru PPPM</th>\n      <th>Suma opadu dzień  [mm]</th>\n      <th>Suma opadu noc   [mm]</th>\n      <th>deszcz w dzień</th>\n      <th>deszcz w nocy</th>\n    </tr>\n  </thead>\n  <tbody>\n    <tr>\n      <th>0</th>\n      <td>349190625</td>\n      <td>ZAKOPANE</td>\n      <td>2020</td>\n      <td>1</td>\n      <td>1</td>\n      <td>4.3</td>\n      <td>2.0</td>\n      <td>-1.7</td>\n      <td>4.0</td>\n      <td>73.1</td>\n      <td>929.5</td>\n      <td>0.0</td>\n      <td>8</td>\n      <td>0.0</td>\n      <td>0.0</td>\n      <td>0</td>\n      <td>0</td>\n    </tr>\n    <tr>\n      <th>1</th>\n      <td>349190625</td>\n      <td>ZAKOPANE</td>\n      <td>2020</td>\n      <td>1</td>\n      <td>2</td>\n      <td>4.4</td>\n      <td>1.3</td>\n      <td>-1.5</td>\n      <td>3.1</td>\n      <td>56.8</td>\n      <td>928.8</td>\n      <td>0.0</td>\n      <td>8</td>\n      <td>0.0</td>\n      <td>0.0</td>\n      <td>0</td>\n      <td>0</td>\n    </tr>\n    <tr>\n      <th>2</th>\n      <td>349190625</td>\n      <td>ZAKOPANE</td>\n      <td>2020</td>\n      <td>1</td>\n      <td>3</td>\n      <td>2.5</td>\n      <td>1.4</td>\n      <td>-1.1</td>\n      <td>3.8</td>\n      <td>68.8</td>\n      <td>922.4</td>\n      <td>0.0</td>\n      <td>8</td>\n      <td>0.0</td>\n      <td>0.0</td>\n      <td>0</td>\n      <td>0</td>\n    </tr>\n    <tr>\n      <th>3</th>\n      <td>349190625</td>\n      <td>ZAKOPANE</td>\n      <td>2020</td>\n      <td>1</td>\n      <td>4</td>\n      <td>7.6</td>\n      <td>3.6</td>\n      <td>0.8</td>\n      <td>5.4</td>\n      <td>83.6</td>\n      <td>917.5</td>\n      <td>0.0</td>\n      <td>8</td>\n      <td>1.9</td>\n      <td>6.5</td>\n      <td>1</td>\n      <td>1</td>\n    </tr>\n    <tr>\n      <th>4</th>\n      <td>349190625</td>\n      <td>ZAKOPANE</td>\n      <td>2020</td>\n      <td>1</td>\n      <td>5</td>\n      <td>7.9</td>\n      <td>2.8</td>\n      <td>-4.1</td>\n      <td>3.8</td>\n      <td>83.6</td>\n      <td>924.4</td>\n      <td>0.0</td>\n      <td>8</td>\n      <td>3.4</td>\n      <td>0.0</td>\n      <td>0</td>\n      <td>0</td>\n    </tr>\n    <tr>\n      <th>...</th>\n      <td>...</td>\n      <td>...</td>\n      <td>...</td>\n      <td>...</td>\n      <td>...</td>\n      <td>...</td>\n      <td>...</td>\n      <td>...</td>\n      <td>...</td>\n      <td>...</td>\n      <td>...</td>\n      <td>...</td>\n      <td>...</td>\n      <td>...</td>\n      <td>...</td>\n      <td>...</td>\n      <td>...</td>\n    </tr>\n    <tr>\n      <th>542</th>\n      <td>349190625</td>\n      <td>ZAKOPANE</td>\n      <td>2019</td>\n      <td>12</td>\n      <td>27</td>\n      <td>7.9</td>\n      <td>2.1</td>\n      <td>-2.0</td>\n      <td>4.8</td>\n      <td>91.3</td>\n      <td>920.5</td>\n      <td>0.0</td>\n      <td>8</td>\n      <td>4.6</td>\n      <td>6.5</td>\n      <td>1</td>\n      <td>1</td>\n    </tr>\n    <tr>\n      <th>543</th>\n      <td>349190625</td>\n      <td>ZAKOPANE</td>\n      <td>2019</td>\n      <td>12</td>\n      <td>28</td>\n      <td>8.0</td>\n      <td>2.6</td>\n      <td>-4.6</td>\n      <td>4.0</td>\n      <td>90.6</td>\n      <td>928.0</td>\n      <td>0.0</td>\n      <td>8</td>\n      <td>3.7</td>\n      <td>0.4</td>\n      <td>1</td>\n      <td>1</td>\n    </tr>\n    <tr>\n      <th>544</th>\n      <td>349190625</td>\n      <td>ZAKOPANE</td>\n      <td>2019</td>\n      <td>12</td>\n      <td>29</td>\n      <td>7.1</td>\n      <td>0.9</td>\n      <td>-7.3</td>\n      <td>3.2</td>\n      <td>88.3</td>\n      <td>933.2</td>\n      <td>0.0</td>\n      <td>8</td>\n      <td>1.1</td>\n      <td>0.0</td>\n      <td>0</td>\n      <td>0</td>\n    </tr>\n    <tr>\n      <th>545</th>\n      <td>349190625</td>\n      <td>ZAKOPANE</td>\n      <td>2019</td>\n      <td>12</td>\n      <td>30</td>\n      <td>6.0</td>\n      <td>1.3</td>\n      <td>-2.3</td>\n      <td>4.8</td>\n      <td>87.5</td>\n      <td>931.0</td>\n      <td>0.0</td>\n      <td>8</td>\n      <td>0.0</td>\n      <td>0.0</td>\n      <td>0</td>\n      <td>0</td>\n    </tr>\n    <tr>\n      <th>546</th>\n      <td>349190625</td>\n      <td>ZAKOPANE</td>\n      <td>2019</td>\n      <td>12</td>\n      <td>31</td>\n      <td>6.5</td>\n      <td>2.8</td>\n      <td>2.8</td>\n      <td>5.0</td>\n      <td>68.3</td>\n      <td>924.5</td>\n      <td>0.0</td>\n      <td>8</td>\n      <td>0.0</td>\n      <td>0.0</td>\n      <td>0</td>\n      <td>0</td>\n    </tr>\n  </tbody>\n</table>\n<p>547 rows × 17 columns</p>\n</div>"
     },
     "metadata": {},
     "execution_count": 14
    }
   ],
   "source": [
    "df"
   ]
  },
  {
   "cell_type": "code",
   "execution_count": 18,
   "metadata": {},
   "outputs": [],
   "source": [
    "columns_to_normalize = [[6],[7],[9],[10]]\n",
    "normalize_particular_columns(df, columns_to_normalize)"
   ]
  },
  {
   "cell_type": "code",
   "execution_count": null,
   "metadata": {},
   "outputs": [],
   "source": [
    "df = result.drop(result.columns[11],axis = 1)\n",
    "result.head()"
   ]
  },
  {
   "cell_type": "code",
   "execution_count": null,
   "metadata": {},
   "outputs": [],
   "source": [
    "X = result[[result.columns[5],result.columns[6],result.columns[7],result.columns[8],result.columns[9],result.columns[10]]]\n",
    "y = result[[result.columns[14]]]"
   ]
  },
  {
   "cell_type": "code",
   "execution_count": null,
   "metadata": {},
   "outputs": [],
   "source": [
    "Xtrain, Xtest, ytrain, ytest  = train_test_split(X,y,test_size=0.2,random_state=75)"
   ]
  },
  {
   "cell_type": "markdown",
   "metadata": {},
   "source": [
    "Model SVN "
   ]
  },
  {
   "cell_type": "code",
   "execution_count": null,
   "metadata": {},
   "outputs": [],
   "source": [
    "clf= svm.SVC(kernel='linear', C=1.0)\n",
    "clf.fit(Xtrain,ytrain)"
   ]
  },
  {
   "cell_type": "code",
   "execution_count": null,
   "metadata": {},
   "outputs": [],
   "source": [
    "ypred = clf.predict(Xtest)\n",
    "clf_score = clf.score(Xtest,ytest)"
   ]
  },
  {
   "cell_type": "code",
   "execution_count": null,
   "metadata": {},
   "outputs": [],
   "source": [
    "clf_score"
   ]
  },
  {
   "cell_type": "code",
   "execution_count": null,
   "metadata": {},
   "outputs": [],
   "source": [
    "confusion_matrix(ytest,ypred)"
   ]
  },
  {
   "cell_type": "markdown",
   "metadata": {},
   "source": [
    "Model logistic regresion"
   ]
  },
  {
   "cell_type": "code",
   "execution_count": null,
   "metadata": {},
   "outputs": [],
   "source": [
    "logistic_regression= LogisticRegression()\n",
    "logistic_regression.fit(Xtrain,ytrain)\n",
    "y_pred_r=logistic_regression.predict(Xtest)\n",
    "    \n",
    "accur = accuracy_score(ytest, y_pred_r)"
   ]
  },
  {
   "cell_type": "code",
   "execution_count": null,
   "metadata": {},
   "outputs": [],
   "source": [
    "accur"
   ]
  },
  {
   "cell_type": "code",
   "execution_count": null,
   "metadata": {},
   "outputs": [],
   "source": [
    "confusion_matrix(ytest,y_pred_r)"
   ]
  },
  {
   "cell_type": "markdown",
   "metadata": {},
   "source": [
    "Model KNN"
   ]
  },
  {
   "cell_type": "code",
   "execution_count": null,
   "metadata": {},
   "outputs": [],
   "source": [
    "knn = KNeighborsClassifier()"
   ]
  },
  {
   "cell_type": "code",
   "execution_count": null,
   "metadata": {},
   "outputs": [],
   "source": [
    "knn.fit(Xtrain, ytrain)\n",
    "y_pred_knn = knn.predict(Xtest)\n",
    "accurKNN = accuracy_score(ytest, y_pred_knn)"
   ]
  },
  {
   "cell_type": "code",
   "execution_count": null,
   "metadata": {},
   "outputs": [],
   "source": [
    "accurKNN"
   ]
  },
  {
   "cell_type": "code",
   "execution_count": null,
   "metadata": {},
   "outputs": [],
   "source": [
    "confusion_matrix(ytest,y_pred_knn)"
   ]
  },
  {
   "cell_type": "code",
   "execution_count": null,
   "metadata": {},
   "outputs": [],
   "source": []
  }
 ],
 "metadata": {
  "kernelspec": {
   "display_name": "Python 3",
   "language": "python",
   "name": "python3"
  },
  "language_info": {
   "codemirror_mode": {
    "name": "ipython",
    "version": 3
   },
   "file_extension": ".py",
   "mimetype": "text/x-python",
   "name": "python",
   "nbconvert_exporter": "python",
   "pygments_lexer": "ipython3",
   "version": "3.6.9"
  }
 },
 "nbformat": 4,
 "nbformat_minor": 2
}