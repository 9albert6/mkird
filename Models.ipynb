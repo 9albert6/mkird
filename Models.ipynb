{
 "cells": [
  {
   "cell_type": "code",
   "execution_count": 1,
   "metadata": {},
   "outputs": [],
   "source": [
    "import pandas as pd\n",
    "import numpy as np\n",
    "import sklearn\n",
    "from sklearn.metrics import accuracy_score\n",
    "from sklearn.model_selection import train_test_split\n",
    "from sklearn import svm\n",
    "from sklearn.svm import SVC\n",
    "from sklearn.model_selection import train_test_split\n",
    "from sklearn.metrics import confusion_matrix\n",
    "from sklearn.linear_model import LogisticRegression\n",
    "from sklearn.neighbors import KNeighborsClassifier\n",
    "import matplotlib.pyplot as plt\n",
    "from statsmodels.tsa.arima_model import ARMA\n",
    "\n"
   ]
  },
  {
   "cell_type": "code",
   "execution_count": 2,
   "metadata": {},
   "outputs": [],
   "source": [
    "from weather_api import *"
   ]
  },
  {
   "cell_type": "code",
   "execution_count": 3,
   "metadata": {},
   "outputs": [],
   "source": [
    "df = get_data(\"zakopane\")"
   ]
  },
  {
   "cell_type": "code",
   "execution_count": 4,
   "metadata": {},
   "outputs": [
    {
     "output_type": "execute_result",
     "data": {
      "text/plain": "     Kod stacji Nazwa stacji   Rok  Miesiąc  Dzień  \\\n0     349190625     ZAKOPANE  2020        1      1   \n1     349190625     ZAKOPANE  2020        1      2   \n2     349190625     ZAKOPANE  2020        1      3   \n3     349190625     ZAKOPANE  2020        1      4   \n4     349190625     ZAKOPANE  2020        1      5   \n..          ...          ...   ...      ...    ...   \n542   349190625     ZAKOPANE  2019       12     27   \n543   349190625     ZAKOPANE  2019       12     28   \n544   349190625     ZAKOPANE  2019       12     29   \n545   349190625     ZAKOPANE  2019       12     30   \n546   349190625     ZAKOPANE  2019       12     31   \n\n     Średnie dobowe zachmurzenie ogólne [oktanty]  \\\n0                                             4.3   \n1                                             4.4   \n2                                             2.5   \n3                                             7.6   \n4                                             7.9   \n..                                            ...   \n542                                           7.9   \n543                                           8.0   \n544                                           7.1   \n545                                           6.0   \n546                                           6.5   \n\n     Średnia dobowa prędkość wiatru [m/s]  Średnia dobowa temperatura [°C]  \\\n0                                     2.0                             -1.7   \n1                                     1.3                             -1.5   \n2                                     1.4                             -1.1   \n3                                     3.6                              0.8   \n4                                     2.8                             -4.1   \n..                                    ...                              ...   \n542                                   2.1                             -2.0   \n543                                   2.6                             -4.6   \n544                                   0.9                             -7.3   \n545                                   1.3                             -2.3   \n546                                   2.8                              2.8   \n\n     Średnia dobowe ciśnienie pary wodnej [hPa]  \\\n0                                           4.0   \n1                                           3.1   \n2                                           3.8   \n3                                           5.4   \n4                                           3.8   \n..                                          ...   \n542                                         4.8   \n543                                         4.0   \n544                                         3.2   \n545                                         4.8   \n546                                         5.0   \n\n     Średnia dobowa wilgotność względna [%]  \\\n0                                      73.1   \n1                                      56.8   \n2                                      68.8   \n3                                      83.6   \n4                                      83.6   \n..                                      ...   \n542                                    91.3   \n543                                    90.6   \n544                                    88.3   \n545                                    87.5   \n546                                    68.3   \n\n     Średnia dobowe ciśnienie na poziomie stacji [hPa]  \\\n0                                                929.5   \n1                                                928.8   \n2                                                922.4   \n3                                                917.5   \n4                                                924.4   \n..                                                 ...   \n542                                              920.5   \n543                                              928.0   \n544                                              933.2   \n545                                              931.0   \n546                                              924.5   \n\n     Średnie dobowe ciśnienie na pozimie morza [hPa]  Status pomiaru PPPM  \\\n0                                                0.0                    8   \n1                                                0.0                    8   \n2                                                0.0                    8   \n3                                                0.0                    8   \n4                                                0.0                    8   \n..                                               ...                  ...   \n542                                              0.0                    8   \n543                                              0.0                    8   \n544                                              0.0                    8   \n545                                              0.0                    8   \n546                                              0.0                    8   \n\n     Suma opadu dzień  [mm]  Suma opadu noc   [mm]  \n0                       0.0                    0.0  \n1                       0.0                    0.0  \n2                       0.0                    0.0  \n3                       1.9                    6.5  \n4                       3.4                    0.0  \n..                      ...                    ...  \n542                     4.6                    6.5  \n543                     3.7                    0.4  \n544                     1.1                    0.0  \n545                     0.0                    0.0  \n546                     0.0                    0.0  \n\n[547 rows x 15 columns]",
      "text/html": "<div>\n<style scoped>\n    .dataframe tbody tr th:only-of-type {\n        vertical-align: middle;\n    }\n\n    .dataframe tbody tr th {\n        vertical-align: top;\n    }\n\n    .dataframe thead th {\n        text-align: right;\n    }\n</style>\n<table border=\"1\" class=\"dataframe\">\n  <thead>\n    <tr style=\"text-align: right;\">\n      <th></th>\n      <th>Kod stacji</th>\n      <th>Nazwa stacji</th>\n      <th>Rok</th>\n      <th>Miesiąc</th>\n      <th>Dzień</th>\n      <th>Średnie dobowe zachmurzenie ogólne [oktanty]</th>\n      <th>Średnia dobowa prędkość wiatru [m/s]</th>\n      <th>Średnia dobowa temperatura [°C]</th>\n      <th>Średnia dobowe ciśnienie pary wodnej [hPa]</th>\n      <th>Średnia dobowa wilgotność względna [%]</th>\n      <th>Średnia dobowe ciśnienie na poziomie stacji [hPa]</th>\n      <th>Średnie dobowe ciśnienie na pozimie morza [hPa]</th>\n      <th>Status pomiaru PPPM</th>\n      <th>Suma opadu dzień  [mm]</th>\n      <th>Suma opadu noc   [mm]</th>\n    </tr>\n  </thead>\n  <tbody>\n    <tr>\n      <th>0</th>\n      <td>349190625</td>\n      <td>ZAKOPANE</td>\n      <td>2020</td>\n      <td>1</td>\n      <td>1</td>\n      <td>4.3</td>\n      <td>2.0</td>\n      <td>-1.7</td>\n      <td>4.0</td>\n      <td>73.1</td>\n      <td>929.5</td>\n      <td>0.0</td>\n      <td>8</td>\n      <td>0.0</td>\n      <td>0.0</td>\n    </tr>\n    <tr>\n      <th>1</th>\n      <td>349190625</td>\n      <td>ZAKOPANE</td>\n      <td>2020</td>\n      <td>1</td>\n      <td>2</td>\n      <td>4.4</td>\n      <td>1.3</td>\n      <td>-1.5</td>\n      <td>3.1</td>\n      <td>56.8</td>\n      <td>928.8</td>\n      <td>0.0</td>\n      <td>8</td>\n      <td>0.0</td>\n      <td>0.0</td>\n    </tr>\n    <tr>\n      <th>2</th>\n      <td>349190625</td>\n      <td>ZAKOPANE</td>\n      <td>2020</td>\n      <td>1</td>\n      <td>3</td>\n      <td>2.5</td>\n      <td>1.4</td>\n      <td>-1.1</td>\n      <td>3.8</td>\n      <td>68.8</td>\n      <td>922.4</td>\n      <td>0.0</td>\n      <td>8</td>\n      <td>0.0</td>\n      <td>0.0</td>\n    </tr>\n    <tr>\n      <th>3</th>\n      <td>349190625</td>\n      <td>ZAKOPANE</td>\n      <td>2020</td>\n      <td>1</td>\n      <td>4</td>\n      <td>7.6</td>\n      <td>3.6</td>\n      <td>0.8</td>\n      <td>5.4</td>\n      <td>83.6</td>\n      <td>917.5</td>\n      <td>0.0</td>\n      <td>8</td>\n      <td>1.9</td>\n      <td>6.5</td>\n    </tr>\n    <tr>\n      <th>4</th>\n      <td>349190625</td>\n      <td>ZAKOPANE</td>\n      <td>2020</td>\n      <td>1</td>\n      <td>5</td>\n      <td>7.9</td>\n      <td>2.8</td>\n      <td>-4.1</td>\n      <td>3.8</td>\n      <td>83.6</td>\n      <td>924.4</td>\n      <td>0.0</td>\n      <td>8</td>\n      <td>3.4</td>\n      <td>0.0</td>\n    </tr>\n    <tr>\n      <th>...</th>\n      <td>...</td>\n      <td>...</td>\n      <td>...</td>\n      <td>...</td>\n      <td>...</td>\n      <td>...</td>\n      <td>...</td>\n      <td>...</td>\n      <td>...</td>\n      <td>...</td>\n      <td>...</td>\n      <td>...</td>\n      <td>...</td>\n      <td>...</td>\n      <td>...</td>\n    </tr>\n    <tr>\n      <th>542</th>\n      <td>349190625</td>\n      <td>ZAKOPANE</td>\n      <td>2019</td>\n      <td>12</td>\n      <td>27</td>\n      <td>7.9</td>\n      <td>2.1</td>\n      <td>-2.0</td>\n      <td>4.8</td>\n      <td>91.3</td>\n      <td>920.5</td>\n      <td>0.0</td>\n      <td>8</td>\n      <td>4.6</td>\n      <td>6.5</td>\n    </tr>\n    <tr>\n      <th>543</th>\n      <td>349190625</td>\n      <td>ZAKOPANE</td>\n      <td>2019</td>\n      <td>12</td>\n      <td>28</td>\n      <td>8.0</td>\n      <td>2.6</td>\n      <td>-4.6</td>\n      <td>4.0</td>\n      <td>90.6</td>\n      <td>928.0</td>\n      <td>0.0</td>\n      <td>8</td>\n      <td>3.7</td>\n      <td>0.4</td>\n    </tr>\n    <tr>\n      <th>544</th>\n      <td>349190625</td>\n      <td>ZAKOPANE</td>\n      <td>2019</td>\n      <td>12</td>\n      <td>29</td>\n      <td>7.1</td>\n      <td>0.9</td>\n      <td>-7.3</td>\n      <td>3.2</td>\n      <td>88.3</td>\n      <td>933.2</td>\n      <td>0.0</td>\n      <td>8</td>\n      <td>1.1</td>\n      <td>0.0</td>\n    </tr>\n    <tr>\n      <th>545</th>\n      <td>349190625</td>\n      <td>ZAKOPANE</td>\n      <td>2019</td>\n      <td>12</td>\n      <td>30</td>\n      <td>6.0</td>\n      <td>1.3</td>\n      <td>-2.3</td>\n      <td>4.8</td>\n      <td>87.5</td>\n      <td>931.0</td>\n      <td>0.0</td>\n      <td>8</td>\n      <td>0.0</td>\n      <td>0.0</td>\n    </tr>\n    <tr>\n      <th>546</th>\n      <td>349190625</td>\n      <td>ZAKOPANE</td>\n      <td>2019</td>\n      <td>12</td>\n      <td>31</td>\n      <td>6.5</td>\n      <td>2.8</td>\n      <td>2.8</td>\n      <td>5.0</td>\n      <td>68.3</td>\n      <td>924.5</td>\n      <td>0.0</td>\n      <td>8</td>\n      <td>0.0</td>\n      <td>0.0</td>\n    </tr>\n  </tbody>\n</table>\n<p>547 rows × 15 columns</p>\n</div>"
     },
     "metadata": {},
     "execution_count": 4
    }
   ],
   "source": [
    "df"
   ]
  },
  {
   "cell_type": "code",
   "execution_count": 5,
   "metadata": {},
   "outputs": [],
   "source": [
    "def normalize_particular_columns(df, column_names):\n",
    "    for col_name in column_names:\n",
    "        df.iloc[:,col_name]=(df.iloc[:,col_name]-df.iloc[:,col_name].mean())/df.iloc[:,col_name].std()"
   ]
  },
  {
   "cell_type": "code",
   "execution_count": 6,
   "metadata": {},
   "outputs": [],
   "source": [
    "value = []\n",
    "data = df['Suma opadu dzień  [mm]']\n",
    "data = data.to_numpy()\n",
    "for row in data:\n",
    "    if row == 0:\n",
    "        value.append(0)\n",
    "    elif row > 0:\n",
    "        value.append(1)\n",
    "df['deszcz w dzień']= value\n",
    "\n",
    "value1 = []\n",
    "data1 = df['Suma opadu noc   [mm]']\n",
    "data1 = data1.to_numpy()\n",
    "for row1 in data1:\n",
    "    if row1 == 0:\n",
    "        value1.append(0)\n",
    "    elif row1 > 0:\n",
    "        value1.append(1)\n",
    "df['deszcz w nocy']= value"
   ]
  },
  {
   "cell_type": "code",
   "execution_count": 8,
   "metadata": {},
   "outputs": [
    {
     "output_type": "execute_result",
     "data": {
      "text/plain": "     Kod stacji Nazwa stacji   Rok  Miesiąc  Dzień  \\\n0     349190625     ZAKOPANE  2020        1      1   \n1     349190625     ZAKOPANE  2020        1      2   \n2     349190625     ZAKOPANE  2020        1      3   \n3     349190625     ZAKOPANE  2020        1      4   \n4     349190625     ZAKOPANE  2020        1      5   \n..          ...          ...   ...      ...    ...   \n542   349190625     ZAKOPANE  2019       12     27   \n543   349190625     ZAKOPANE  2019       12     28   \n544   349190625     ZAKOPANE  2019       12     29   \n545   349190625     ZAKOPANE  2019       12     30   \n546   349190625     ZAKOPANE  2019       12     31   \n\n     Średnie dobowe zachmurzenie ogólne [oktanty]  \\\n0                                             4.3   \n1                                             4.4   \n2                                             2.5   \n3                                             7.6   \n4                                             7.9   \n..                                            ...   \n542                                           7.9   \n543                                           8.0   \n544                                           7.1   \n545                                           6.0   \n546                                           6.5   \n\n     Średnia dobowa prędkość wiatru [m/s]  Średnia dobowa temperatura [°C]  \\\n0                                     2.0                             -1.7   \n1                                     1.3                             -1.5   \n2                                     1.4                             -1.1   \n3                                     3.6                              0.8   \n4                                     2.8                             -4.1   \n..                                    ...                              ...   \n542                                   2.1                             -2.0   \n543                                   2.6                             -4.6   \n544                                   0.9                             -7.3   \n545                                   1.3                             -2.3   \n546                                   2.8                              2.8   \n\n     Średnia dobowe ciśnienie pary wodnej [hPa]  \\\n0                                           4.0   \n1                                           3.1   \n2                                           3.8   \n3                                           5.4   \n4                                           3.8   \n..                                          ...   \n542                                         4.8   \n543                                         4.0   \n544                                         3.2   \n545                                         4.8   \n546                                         5.0   \n\n     Średnia dobowa wilgotność względna [%]  \\\n0                                      73.1   \n1                                      56.8   \n2                                      68.8   \n3                                      83.6   \n4                                      83.6   \n..                                      ...   \n542                                    91.3   \n543                                    90.6   \n544                                    88.3   \n545                                    87.5   \n546                                    68.3   \n\n     Średnia dobowe ciśnienie na poziomie stacji [hPa]  \\\n0                                                929.5   \n1                                                928.8   \n2                                                922.4   \n3                                                917.5   \n4                                                924.4   \n..                                                 ...   \n542                                              920.5   \n543                                              928.0   \n544                                              933.2   \n545                                              931.0   \n546                                              924.5   \n\n     Średnie dobowe ciśnienie na pozimie morza [hPa]  Status pomiaru PPPM  \\\n0                                                0.0                    8   \n1                                                0.0                    8   \n2                                                0.0                    8   \n3                                                0.0                    8   \n4                                                0.0                    8   \n..                                               ...                  ...   \n542                                              0.0                    8   \n543                                              0.0                    8   \n544                                              0.0                    8   \n545                                              0.0                    8   \n546                                              0.0                    8   \n\n     Suma opadu dzień  [mm]  Suma opadu noc   [mm]  deszcz w dzień  \\\n0                       0.0                    0.0               0   \n1                       0.0                    0.0               0   \n2                       0.0                    0.0               0   \n3                       1.9                    6.5               1   \n4                       3.4                    0.0               1   \n..                      ...                    ...             ...   \n542                     4.6                    6.5               1   \n543                     3.7                    0.4               1   \n544                     1.1                    0.0               1   \n545                     0.0                    0.0               0   \n546                     0.0                    0.0               0   \n\n     deszcz w nocy  \n0                0  \n1                0  \n2                0  \n3                1  \n4                1  \n..             ...  \n542              1  \n543              1  \n544              1  \n545              0  \n546              0  \n\n[547 rows x 17 columns]",
      "text/html": "<div>\n<style scoped>\n    .dataframe tbody tr th:only-of-type {\n        vertical-align: middle;\n    }\n\n    .dataframe tbody tr th {\n        vertical-align: top;\n    }\n\n    .dataframe thead th {\n        text-align: right;\n    }\n</style>\n<table border=\"1\" class=\"dataframe\">\n  <thead>\n    <tr style=\"text-align: right;\">\n      <th></th>\n      <th>Kod stacji</th>\n      <th>Nazwa stacji</th>\n      <th>Rok</th>\n      <th>Miesiąc</th>\n      <th>Dzień</th>\n      <th>Średnie dobowe zachmurzenie ogólne [oktanty]</th>\n      <th>Średnia dobowa prędkość wiatru [m/s]</th>\n      <th>Średnia dobowa temperatura [°C]</th>\n      <th>Średnia dobowe ciśnienie pary wodnej [hPa]</th>\n      <th>Średnia dobowa wilgotność względna [%]</th>\n      <th>Średnia dobowe ciśnienie na poziomie stacji [hPa]</th>\n      <th>Średnie dobowe ciśnienie na pozimie morza [hPa]</th>\n      <th>Status pomiaru PPPM</th>\n      <th>Suma opadu dzień  [mm]</th>\n      <th>Suma opadu noc   [mm]</th>\n      <th>deszcz w dzień</th>\n      <th>deszcz w nocy</th>\n    </tr>\n  </thead>\n  <tbody>\n    <tr>\n      <th>0</th>\n      <td>349190625</td>\n      <td>ZAKOPANE</td>\n      <td>2020</td>\n      <td>1</td>\n      <td>1</td>\n      <td>4.3</td>\n      <td>2.0</td>\n      <td>-1.7</td>\n      <td>4.0</td>\n      <td>73.1</td>\n      <td>929.5</td>\n      <td>0.0</td>\n      <td>8</td>\n      <td>0.0</td>\n      <td>0.0</td>\n      <td>0</td>\n      <td>0</td>\n    </tr>\n    <tr>\n      <th>1</th>\n      <td>349190625</td>\n      <td>ZAKOPANE</td>\n      <td>2020</td>\n      <td>1</td>\n      <td>2</td>\n      <td>4.4</td>\n      <td>1.3</td>\n      <td>-1.5</td>\n      <td>3.1</td>\n      <td>56.8</td>\n      <td>928.8</td>\n      <td>0.0</td>\n      <td>8</td>\n      <td>0.0</td>\n      <td>0.0</td>\n      <td>0</td>\n      <td>0</td>\n    </tr>\n    <tr>\n      <th>2</th>\n      <td>349190625</td>\n      <td>ZAKOPANE</td>\n      <td>2020</td>\n      <td>1</td>\n      <td>3</td>\n      <td>2.5</td>\n      <td>1.4</td>\n      <td>-1.1</td>\n      <td>3.8</td>\n      <td>68.8</td>\n      <td>922.4</td>\n      <td>0.0</td>\n      <td>8</td>\n      <td>0.0</td>\n      <td>0.0</td>\n      <td>0</td>\n      <td>0</td>\n    </tr>\n    <tr>\n      <th>3</th>\n      <td>349190625</td>\n      <td>ZAKOPANE</td>\n      <td>2020</td>\n      <td>1</td>\n      <td>4</td>\n      <td>7.6</td>\n      <td>3.6</td>\n      <td>0.8</td>\n      <td>5.4</td>\n      <td>83.6</td>\n      <td>917.5</td>\n      <td>0.0</td>\n      <td>8</td>\n      <td>1.9</td>\n      <td>6.5</td>\n      <td>1</td>\n      <td>1</td>\n    </tr>\n    <tr>\n      <th>4</th>\n      <td>349190625</td>\n      <td>ZAKOPANE</td>\n      <td>2020</td>\n      <td>1</td>\n      <td>5</td>\n      <td>7.9</td>\n      <td>2.8</td>\n      <td>-4.1</td>\n      <td>3.8</td>\n      <td>83.6</td>\n      <td>924.4</td>\n      <td>0.0</td>\n      <td>8</td>\n      <td>3.4</td>\n      <td>0.0</td>\n      <td>1</td>\n      <td>1</td>\n    </tr>\n    <tr>\n      <th>...</th>\n      <td>...</td>\n      <td>...</td>\n      <td>...</td>\n      <td>...</td>\n      <td>...</td>\n      <td>...</td>\n      <td>...</td>\n      <td>...</td>\n      <td>...</td>\n      <td>...</td>\n      <td>...</td>\n      <td>...</td>\n      <td>...</td>\n      <td>...</td>\n      <td>...</td>\n      <td>...</td>\n      <td>...</td>\n    </tr>\n    <tr>\n      <th>542</th>\n      <td>349190625</td>\n      <td>ZAKOPANE</td>\n      <td>2019</td>\n      <td>12</td>\n      <td>27</td>\n      <td>7.9</td>\n      <td>2.1</td>\n      <td>-2.0</td>\n      <td>4.8</td>\n      <td>91.3</td>\n      <td>920.5</td>\n      <td>0.0</td>\n      <td>8</td>\n      <td>4.6</td>\n      <td>6.5</td>\n      <td>1</td>\n      <td>1</td>\n    </tr>\n    <tr>\n      <th>543</th>\n      <td>349190625</td>\n      <td>ZAKOPANE</td>\n      <td>2019</td>\n      <td>12</td>\n      <td>28</td>\n      <td>8.0</td>\n      <td>2.6</td>\n      <td>-4.6</td>\n      <td>4.0</td>\n      <td>90.6</td>\n      <td>928.0</td>\n      <td>0.0</td>\n      <td>8</td>\n      <td>3.7</td>\n      <td>0.4</td>\n      <td>1</td>\n      <td>1</td>\n    </tr>\n    <tr>\n      <th>544</th>\n      <td>349190625</td>\n      <td>ZAKOPANE</td>\n      <td>2019</td>\n      <td>12</td>\n      <td>29</td>\n      <td>7.1</td>\n      <td>0.9</td>\n      <td>-7.3</td>\n      <td>3.2</td>\n      <td>88.3</td>\n      <td>933.2</td>\n      <td>0.0</td>\n      <td>8</td>\n      <td>1.1</td>\n      <td>0.0</td>\n      <td>1</td>\n      <td>1</td>\n    </tr>\n    <tr>\n      <th>545</th>\n      <td>349190625</td>\n      <td>ZAKOPANE</td>\n      <td>2019</td>\n      <td>12</td>\n      <td>30</td>\n      <td>6.0</td>\n      <td>1.3</td>\n      <td>-2.3</td>\n      <td>4.8</td>\n      <td>87.5</td>\n      <td>931.0</td>\n      <td>0.0</td>\n      <td>8</td>\n      <td>0.0</td>\n      <td>0.0</td>\n      <td>0</td>\n      <td>0</td>\n    </tr>\n    <tr>\n      <th>546</th>\n      <td>349190625</td>\n      <td>ZAKOPANE</td>\n      <td>2019</td>\n      <td>12</td>\n      <td>31</td>\n      <td>6.5</td>\n      <td>2.8</td>\n      <td>2.8</td>\n      <td>5.0</td>\n      <td>68.3</td>\n      <td>924.5</td>\n      <td>0.0</td>\n      <td>8</td>\n      <td>0.0</td>\n      <td>0.0</td>\n      <td>0</td>\n      <td>0</td>\n    </tr>\n  </tbody>\n</table>\n<p>547 rows × 17 columns</p>\n</div>"
     },
     "metadata": {},
     "execution_count": 8
    }
   ],
   "source": [
    "df"
   ]
  },
  {
   "cell_type": "code",
   "execution_count": 7,
   "metadata": {},
   "outputs": [],
   "source": [
    "df = df.drop(df.columns[11],axis = 1)\n",
    "df = df.drop(df.columns[11],axis = 1)"
   ]
  },
  {
   "cell_type": "code",
   "execution_count": 14,
   "metadata": {},
   "outputs": [],
   "source": [
    "columns_to_normalize = [[5],[6],[8],[9],[10]]\n",
    "normalize_particular_columns(df, columns_to_normalize)"
   ]
  },
  {
   "cell_type": "code",
   "execution_count": 8,
   "metadata": {},
   "outputs": [
    {
     "output_type": "execute_result",
     "data": {
      "text/plain": "     Kod stacji Nazwa stacji   Rok  Miesiąc  Dzień  \\\n0     349190625     ZAKOPANE  2020        1      1   \n1     349190625     ZAKOPANE  2020        1      2   \n2     349190625     ZAKOPANE  2020        1      3   \n3     349190625     ZAKOPANE  2020        1      4   \n4     349190625     ZAKOPANE  2020        1      5   \n..          ...          ...   ...      ...    ...   \n542   349190625     ZAKOPANE  2019       12     27   \n543   349190625     ZAKOPANE  2019       12     28   \n544   349190625     ZAKOPANE  2019       12     29   \n545   349190625     ZAKOPANE  2019       12     30   \n546   349190625     ZAKOPANE  2019       12     31   \n\n     Średnie dobowe zachmurzenie ogólne [oktanty]  \\\n0                                             4.3   \n1                                             4.4   \n2                                             2.5   \n3                                             7.6   \n4                                             7.9   \n..                                            ...   \n542                                           7.9   \n543                                           8.0   \n544                                           7.1   \n545                                           6.0   \n546                                           6.5   \n\n     Średnia dobowa prędkość wiatru [m/s]  Średnia dobowa temperatura [°C]  \\\n0                                     2.0                             -1.7   \n1                                     1.3                             -1.5   \n2                                     1.4                             -1.1   \n3                                     3.6                              0.8   \n4                                     2.8                             -4.1   \n..                                    ...                              ...   \n542                                   2.1                             -2.0   \n543                                   2.6                             -4.6   \n544                                   0.9                             -7.3   \n545                                   1.3                             -2.3   \n546                                   2.8                              2.8   \n\n     Średnia dobowe ciśnienie pary wodnej [hPa]  \\\n0                                           4.0   \n1                                           3.1   \n2                                           3.8   \n3                                           5.4   \n4                                           3.8   \n..                                          ...   \n542                                         4.8   \n543                                         4.0   \n544                                         3.2   \n545                                         4.8   \n546                                         5.0   \n\n     Średnia dobowa wilgotność względna [%]  \\\n0                                      73.1   \n1                                      56.8   \n2                                      68.8   \n3                                      83.6   \n4                                      83.6   \n..                                      ...   \n542                                    91.3   \n543                                    90.6   \n544                                    88.3   \n545                                    87.5   \n546                                    68.3   \n\n     Średnia dobowe ciśnienie na poziomie stacji [hPa]  \\\n0                                                929.5   \n1                                                928.8   \n2                                                922.4   \n3                                                917.5   \n4                                                924.4   \n..                                                 ...   \n542                                              920.5   \n543                                              928.0   \n544                                              933.2   \n545                                              931.0   \n546                                              924.5   \n\n     Suma opadu dzień  [mm]  Suma opadu noc   [mm]  deszcz w dzień  \\\n0                       0.0                    0.0               0   \n1                       0.0                    0.0               0   \n2                       0.0                    0.0               0   \n3                       1.9                    6.5               1   \n4                       3.4                    0.0               1   \n..                      ...                    ...             ...   \n542                     4.6                    6.5               1   \n543                     3.7                    0.4               1   \n544                     1.1                    0.0               1   \n545                     0.0                    0.0               0   \n546                     0.0                    0.0               0   \n\n     deszcz w nocy  \n0                0  \n1                0  \n2                0  \n3                1  \n4                1  \n..             ...  \n542              1  \n543              1  \n544              1  \n545              0  \n546              0  \n\n[547 rows x 15 columns]",
      "text/html": "<div>\n<style scoped>\n    .dataframe tbody tr th:only-of-type {\n        vertical-align: middle;\n    }\n\n    .dataframe tbody tr th {\n        vertical-align: top;\n    }\n\n    .dataframe thead th {\n        text-align: right;\n    }\n</style>\n<table border=\"1\" class=\"dataframe\">\n  <thead>\n    <tr style=\"text-align: right;\">\n      <th></th>\n      <th>Kod stacji</th>\n      <th>Nazwa stacji</th>\n      <th>Rok</th>\n      <th>Miesiąc</th>\n      <th>Dzień</th>\n      <th>Średnie dobowe zachmurzenie ogólne [oktanty]</th>\n      <th>Średnia dobowa prędkość wiatru [m/s]</th>\n      <th>Średnia dobowa temperatura [°C]</th>\n      <th>Średnia dobowe ciśnienie pary wodnej [hPa]</th>\n      <th>Średnia dobowa wilgotność względna [%]</th>\n      <th>Średnia dobowe ciśnienie na poziomie stacji [hPa]</th>\n      <th>Suma opadu dzień  [mm]</th>\n      <th>Suma opadu noc   [mm]</th>\n      <th>deszcz w dzień</th>\n      <th>deszcz w nocy</th>\n    </tr>\n  </thead>\n  <tbody>\n    <tr>\n      <th>0</th>\n      <td>349190625</td>\n      <td>ZAKOPANE</td>\n      <td>2020</td>\n      <td>1</td>\n      <td>1</td>\n      <td>4.3</td>\n      <td>2.0</td>\n      <td>-1.7</td>\n      <td>4.0</td>\n      <td>73.1</td>\n      <td>929.5</td>\n      <td>0.0</td>\n      <td>0.0</td>\n      <td>0</td>\n      <td>0</td>\n    </tr>\n    <tr>\n      <th>1</th>\n      <td>349190625</td>\n      <td>ZAKOPANE</td>\n      <td>2020</td>\n      <td>1</td>\n      <td>2</td>\n      <td>4.4</td>\n      <td>1.3</td>\n      <td>-1.5</td>\n      <td>3.1</td>\n      <td>56.8</td>\n      <td>928.8</td>\n      <td>0.0</td>\n      <td>0.0</td>\n      <td>0</td>\n      <td>0</td>\n    </tr>\n    <tr>\n      <th>2</th>\n      <td>349190625</td>\n      <td>ZAKOPANE</td>\n      <td>2020</td>\n      <td>1</td>\n      <td>3</td>\n      <td>2.5</td>\n      <td>1.4</td>\n      <td>-1.1</td>\n      <td>3.8</td>\n      <td>68.8</td>\n      <td>922.4</td>\n      <td>0.0</td>\n      <td>0.0</td>\n      <td>0</td>\n      <td>0</td>\n    </tr>\n    <tr>\n      <th>3</th>\n      <td>349190625</td>\n      <td>ZAKOPANE</td>\n      <td>2020</td>\n      <td>1</td>\n      <td>4</td>\n      <td>7.6</td>\n      <td>3.6</td>\n      <td>0.8</td>\n      <td>5.4</td>\n      <td>83.6</td>\n      <td>917.5</td>\n      <td>1.9</td>\n      <td>6.5</td>\n      <td>1</td>\n      <td>1</td>\n    </tr>\n    <tr>\n      <th>4</th>\n      <td>349190625</td>\n      <td>ZAKOPANE</td>\n      <td>2020</td>\n      <td>1</td>\n      <td>5</td>\n      <td>7.9</td>\n      <td>2.8</td>\n      <td>-4.1</td>\n      <td>3.8</td>\n      <td>83.6</td>\n      <td>924.4</td>\n      <td>3.4</td>\n      <td>0.0</td>\n      <td>1</td>\n      <td>1</td>\n    </tr>\n    <tr>\n      <th>...</th>\n      <td>...</td>\n      <td>...</td>\n      <td>...</td>\n      <td>...</td>\n      <td>...</td>\n      <td>...</td>\n      <td>...</td>\n      <td>...</td>\n      <td>...</td>\n      <td>...</td>\n      <td>...</td>\n      <td>...</td>\n      <td>...</td>\n      <td>...</td>\n      <td>...</td>\n    </tr>\n    <tr>\n      <th>542</th>\n      <td>349190625</td>\n      <td>ZAKOPANE</td>\n      <td>2019</td>\n      <td>12</td>\n      <td>27</td>\n      <td>7.9</td>\n      <td>2.1</td>\n      <td>-2.0</td>\n      <td>4.8</td>\n      <td>91.3</td>\n      <td>920.5</td>\n      <td>4.6</td>\n      <td>6.5</td>\n      <td>1</td>\n      <td>1</td>\n    </tr>\n    <tr>\n      <th>543</th>\n      <td>349190625</td>\n      <td>ZAKOPANE</td>\n      <td>2019</td>\n      <td>12</td>\n      <td>28</td>\n      <td>8.0</td>\n      <td>2.6</td>\n      <td>-4.6</td>\n      <td>4.0</td>\n      <td>90.6</td>\n      <td>928.0</td>\n      <td>3.7</td>\n      <td>0.4</td>\n      <td>1</td>\n      <td>1</td>\n    </tr>\n    <tr>\n      <th>544</th>\n      <td>349190625</td>\n      <td>ZAKOPANE</td>\n      <td>2019</td>\n      <td>12</td>\n      <td>29</td>\n      <td>7.1</td>\n      <td>0.9</td>\n      <td>-7.3</td>\n      <td>3.2</td>\n      <td>88.3</td>\n      <td>933.2</td>\n      <td>1.1</td>\n      <td>0.0</td>\n      <td>1</td>\n      <td>1</td>\n    </tr>\n    <tr>\n      <th>545</th>\n      <td>349190625</td>\n      <td>ZAKOPANE</td>\n      <td>2019</td>\n      <td>12</td>\n      <td>30</td>\n      <td>6.0</td>\n      <td>1.3</td>\n      <td>-2.3</td>\n      <td>4.8</td>\n      <td>87.5</td>\n      <td>931.0</td>\n      <td>0.0</td>\n      <td>0.0</td>\n      <td>0</td>\n      <td>0</td>\n    </tr>\n    <tr>\n      <th>546</th>\n      <td>349190625</td>\n      <td>ZAKOPANE</td>\n      <td>2019</td>\n      <td>12</td>\n      <td>31</td>\n      <td>6.5</td>\n      <td>2.8</td>\n      <td>2.8</td>\n      <td>5.0</td>\n      <td>68.3</td>\n      <td>924.5</td>\n      <td>0.0</td>\n      <td>0.0</td>\n      <td>0</td>\n      <td>0</td>\n    </tr>\n  </tbody>\n</table>\n<p>547 rows × 15 columns</p>\n</div>"
     },
     "metadata": {},
     "execution_count": 8
    }
   ],
   "source": [
    "df"
   ]
  },
  {
   "cell_type": "code",
   "execution_count": 9,
   "metadata": {},
   "outputs": [
    {
     "output_type": "execute_result",
     "data": {
      "text/plain": "     Kod stacji Nazwa stacji       Data  \\\n0     349190625     ZAKOPANE 2020-01-01   \n1     349190625     ZAKOPANE 2020-01-02   \n2     349190625     ZAKOPANE 2020-01-03   \n3     349190625     ZAKOPANE 2020-01-04   \n4     349190625     ZAKOPANE 2020-01-05   \n..          ...          ...        ...   \n542   349190625     ZAKOPANE 2019-12-27   \n543   349190625     ZAKOPANE 2019-12-28   \n544   349190625     ZAKOPANE 2019-12-29   \n545   349190625     ZAKOPANE 2019-12-30   \n546   349190625     ZAKOPANE 2019-12-31   \n\n     Średnie dobowe zachmurzenie ogólne [oktanty]  \\\n0                                             4.3   \n1                                             4.4   \n2                                             2.5   \n3                                             7.6   \n4                                             7.9   \n..                                            ...   \n542                                           7.9   \n543                                           8.0   \n544                                           7.1   \n545                                           6.0   \n546                                           6.5   \n\n     Średnia dobowa prędkość wiatru [m/s]  Średnia dobowa temperatura [°C]  \\\n0                                     2.0                             -1.7   \n1                                     1.3                             -1.5   \n2                                     1.4                             -1.1   \n3                                     3.6                              0.8   \n4                                     2.8                             -4.1   \n..                                    ...                              ...   \n542                                   2.1                             -2.0   \n543                                   2.6                             -4.6   \n544                                   0.9                             -7.3   \n545                                   1.3                             -2.3   \n546                                   2.8                              2.8   \n\n     Średnia dobowe ciśnienie pary wodnej [hPa]  \\\n0                                           4.0   \n1                                           3.1   \n2                                           3.8   \n3                                           5.4   \n4                                           3.8   \n..                                          ...   \n542                                         4.8   \n543                                         4.0   \n544                                         3.2   \n545                                         4.8   \n546                                         5.0   \n\n     Średnia dobowa wilgotność względna [%]  \\\n0                                      73.1   \n1                                      56.8   \n2                                      68.8   \n3                                      83.6   \n4                                      83.6   \n..                                      ...   \n542                                    91.3   \n543                                    90.6   \n544                                    88.3   \n545                                    87.5   \n546                                    68.3   \n\n     Średnia dobowe ciśnienie na poziomie stacji [hPa]  \\\n0                                                929.5   \n1                                                928.8   \n2                                                922.4   \n3                                                917.5   \n4                                                924.4   \n..                                                 ...   \n542                                              920.5   \n543                                              928.0   \n544                                              933.2   \n545                                              931.0   \n546                                              924.5   \n\n     Suma opadu dzień  [mm]  Suma opadu noc   [mm]  deszcz w dzień  \\\n0                       0.0                    0.0               0   \n1                       0.0                    0.0               0   \n2                       0.0                    0.0               0   \n3                       1.9                    6.5               1   \n4                       3.4                    0.0               1   \n..                      ...                    ...             ...   \n542                     4.6                    6.5               1   \n543                     3.7                    0.4               1   \n544                     1.1                    0.0               1   \n545                     0.0                    0.0               0   \n546                     0.0                    0.0               0   \n\n     deszcz w nocy  \n0                0  \n1                0  \n2                0  \n3                1  \n4                1  \n..             ...  \n542              1  \n543              1  \n544              1  \n545              0  \n546              0  \n\n[547 rows x 13 columns]",
      "text/html": "<div>\n<style scoped>\n    .dataframe tbody tr th:only-of-type {\n        vertical-align: middle;\n    }\n\n    .dataframe tbody tr th {\n        vertical-align: top;\n    }\n\n    .dataframe thead th {\n        text-align: right;\n    }\n</style>\n<table border=\"1\" class=\"dataframe\">\n  <thead>\n    <tr style=\"text-align: right;\">\n      <th></th>\n      <th>Kod stacji</th>\n      <th>Nazwa stacji</th>\n      <th>Data</th>\n      <th>Średnie dobowe zachmurzenie ogólne [oktanty]</th>\n      <th>Średnia dobowa prędkość wiatru [m/s]</th>\n      <th>Średnia dobowa temperatura [°C]</th>\n      <th>Średnia dobowe ciśnienie pary wodnej [hPa]</th>\n      <th>Średnia dobowa wilgotność względna [%]</th>\n      <th>Średnia dobowe ciśnienie na poziomie stacji [hPa]</th>\n      <th>Suma opadu dzień  [mm]</th>\n      <th>Suma opadu noc   [mm]</th>\n      <th>deszcz w dzień</th>\n      <th>deszcz w nocy</th>\n    </tr>\n  </thead>\n  <tbody>\n    <tr>\n      <th>0</th>\n      <td>349190625</td>\n      <td>ZAKOPANE</td>\n      <td>2020-01-01</td>\n      <td>4.3</td>\n      <td>2.0</td>\n      <td>-1.7</td>\n      <td>4.0</td>\n      <td>73.1</td>\n      <td>929.5</td>\n      <td>0.0</td>\n      <td>0.0</td>\n      <td>0</td>\n      <td>0</td>\n    </tr>\n    <tr>\n      <th>1</th>\n      <td>349190625</td>\n      <td>ZAKOPANE</td>\n      <td>2020-01-02</td>\n      <td>4.4</td>\n      <td>1.3</td>\n      <td>-1.5</td>\n      <td>3.1</td>\n      <td>56.8</td>\n      <td>928.8</td>\n      <td>0.0</td>\n      <td>0.0</td>\n      <td>0</td>\n      <td>0</td>\n    </tr>\n    <tr>\n      <th>2</th>\n      <td>349190625</td>\n      <td>ZAKOPANE</td>\n      <td>2020-01-03</td>\n      <td>2.5</td>\n      <td>1.4</td>\n      <td>-1.1</td>\n      <td>3.8</td>\n      <td>68.8</td>\n      <td>922.4</td>\n      <td>0.0</td>\n      <td>0.0</td>\n      <td>0</td>\n      <td>0</td>\n    </tr>\n    <tr>\n      <th>3</th>\n      <td>349190625</td>\n      <td>ZAKOPANE</td>\n      <td>2020-01-04</td>\n      <td>7.6</td>\n      <td>3.6</td>\n      <td>0.8</td>\n      <td>5.4</td>\n      <td>83.6</td>\n      <td>917.5</td>\n      <td>1.9</td>\n      <td>6.5</td>\n      <td>1</td>\n      <td>1</td>\n    </tr>\n    <tr>\n      <th>4</th>\n      <td>349190625</td>\n      <td>ZAKOPANE</td>\n      <td>2020-01-05</td>\n      <td>7.9</td>\n      <td>2.8</td>\n      <td>-4.1</td>\n      <td>3.8</td>\n      <td>83.6</td>\n      <td>924.4</td>\n      <td>3.4</td>\n      <td>0.0</td>\n      <td>1</td>\n      <td>1</td>\n    </tr>\n    <tr>\n      <th>...</th>\n      <td>...</td>\n      <td>...</td>\n      <td>...</td>\n      <td>...</td>\n      <td>...</td>\n      <td>...</td>\n      <td>...</td>\n      <td>...</td>\n      <td>...</td>\n      <td>...</td>\n      <td>...</td>\n      <td>...</td>\n      <td>...</td>\n    </tr>\n    <tr>\n      <th>542</th>\n      <td>349190625</td>\n      <td>ZAKOPANE</td>\n      <td>2019-12-27</td>\n      <td>7.9</td>\n      <td>2.1</td>\n      <td>-2.0</td>\n      <td>4.8</td>\n      <td>91.3</td>\n      <td>920.5</td>\n      <td>4.6</td>\n      <td>6.5</td>\n      <td>1</td>\n      <td>1</td>\n    </tr>\n    <tr>\n      <th>543</th>\n      <td>349190625</td>\n      <td>ZAKOPANE</td>\n      <td>2019-12-28</td>\n      <td>8.0</td>\n      <td>2.6</td>\n      <td>-4.6</td>\n      <td>4.0</td>\n      <td>90.6</td>\n      <td>928.0</td>\n      <td>3.7</td>\n      <td>0.4</td>\n      <td>1</td>\n      <td>1</td>\n    </tr>\n    <tr>\n      <th>544</th>\n      <td>349190625</td>\n      <td>ZAKOPANE</td>\n      <td>2019-12-29</td>\n      <td>7.1</td>\n      <td>0.9</td>\n      <td>-7.3</td>\n      <td>3.2</td>\n      <td>88.3</td>\n      <td>933.2</td>\n      <td>1.1</td>\n      <td>0.0</td>\n      <td>1</td>\n      <td>1</td>\n    </tr>\n    <tr>\n      <th>545</th>\n      <td>349190625</td>\n      <td>ZAKOPANE</td>\n      <td>2019-12-30</td>\n      <td>6.0</td>\n      <td>1.3</td>\n      <td>-2.3</td>\n      <td>4.8</td>\n      <td>87.5</td>\n      <td>931.0</td>\n      <td>0.0</td>\n      <td>0.0</td>\n      <td>0</td>\n      <td>0</td>\n    </tr>\n    <tr>\n      <th>546</th>\n      <td>349190625</td>\n      <td>ZAKOPANE</td>\n      <td>2019-12-31</td>\n      <td>6.5</td>\n      <td>2.8</td>\n      <td>2.8</td>\n      <td>5.0</td>\n      <td>68.3</td>\n      <td>924.5</td>\n      <td>0.0</td>\n      <td>0.0</td>\n      <td>0</td>\n      <td>0</td>\n    </tr>\n  </tbody>\n</table>\n<p>547 rows × 13 columns</p>\n</div>"
     },
     "metadata": {},
     "execution_count": 9
    }
   ],
   "source": [
    "date = pd.to_datetime((df['Rok']*10000+df['Miesiąc']*100+df['Dzień']).apply(str),format='%Y%m%d')\n",
    "df.insert(loc=2, column='Data', value=date)\n",
    "for i in range(0,3):\n",
    "    df = df.drop(df.columns[3],axis = 1)\n",
    "df"
   ]
  },
  {
   "cell_type": "code",
   "execution_count": 10,
   "metadata": {},
   "outputs": [],
   "source": [
    "df.sort_values(by=['Data'], inplace=True)"
   ]
  },
  {
   "cell_type": "code",
   "execution_count": 11,
   "metadata": {},
   "outputs": [
    {
     "output_type": "execute_result",
     "data": {
      "text/plain": "     Kod stacji Nazwa stacji       Data  \\\n182   349190625     ZAKOPANE 2019-01-01   \n183   349190625     ZAKOPANE 2019-01-02   \n184   349190625     ZAKOPANE 2019-01-03   \n185   349190625     ZAKOPANE 2019-01-04   \n186   349190625     ZAKOPANE 2019-01-05   \n..          ...          ...        ...   \n177   349190625     ZAKOPANE 2020-06-26   \n178   349190625     ZAKOPANE 2020-06-27   \n179   349190625     ZAKOPANE 2020-06-28   \n180   349190625     ZAKOPANE 2020-06-29   \n181   349190625     ZAKOPANE 2020-06-30   \n\n     Średnie dobowe zachmurzenie ogólne [oktanty]  \\\n182                                           6.6   \n183                                           7.8   \n184                                           8.0   \n185                                           7.9   \n186                                           7.9   \n..                                            ...   \n177                                           6.4   \n178                                           5.9   \n179                                           3.6   \n180                                           4.9   \n181                                           2.8   \n\n     Średnia dobowa prędkość wiatru [m/s]  Średnia dobowa temperatura [°C]  \\\n182                                   2.8                             -1.0   \n183                                   3.3                             -3.7   \n184                                   1.6                             -7.5   \n185                                   1.5                             -8.0   \n186                                   1.6                             -3.4   \n..                                    ...                              ...   \n177                                   1.1                             17.7   \n178                                   2.3                             21.2   \n179                                   1.5                             19.6   \n180                                   1.5                             17.7   \n181                                   1.9                             17.0   \n\n     Średnia dobowe ciśnienie pary wodnej [hPa]  \\\n182                                         5.0   \n183                                         4.2   \n184                                         3.0   \n185                                         2.7   \n186                                         4.3   \n..                                          ...   \n177                                        14.4   \n178                                        14.1   \n179                                        15.8   \n180                                        14.8   \n181                                        11.5   \n\n     Średnia dobowa wilgotność względna [%]  \\\n182                                    84.9   \n183                                    89.8   \n184                                    85.5   \n185                                    81.3   \n186                                    90.5   \n..                                      ...   \n177                                    74.0   \n178                                    56.9   \n179                                    71.9   \n180                                    76.5   \n181                                    62.0   \n\n     Średnia dobowe ciśnienie na poziomie stacji [hPa]  \\\n182                                              918.4   \n183                                              911.3   \n184                                              919.1   \n185                                              922.1   \n186                                              912.7   \n..                                                 ...   \n177                                              921.9   \n178                                              918.7   \n179                                              919.0   \n180                                              915.3   \n181                                              915.9   \n\n     Suma opadu dzień  [mm]  Suma opadu noc   [mm]  deszcz w dzień  \\\n182                     0.3                    3.0               1   \n183                     8.2                    4.5               1   \n184                     6.5                    2.7               1   \n185                     0.1                    2.9               1   \n186                     8.0                    1.3               1   \n..                      ...                    ...             ...   \n177                     1.1                    1.2               1   \n178                     0.0                    1.3               0   \n179                     0.0                    0.0               0   \n180                     3.6                    0.3               1   \n181                     0.0                    0.0               0   \n\n     deszcz w nocy  \n182              1  \n183              1  \n184              1  \n185              1  \n186              1  \n..             ...  \n177              1  \n178              0  \n179              0  \n180              1  \n181              0  \n\n[547 rows x 13 columns]",
      "text/html": "<div>\n<style scoped>\n    .dataframe tbody tr th:only-of-type {\n        vertical-align: middle;\n    }\n\n    .dataframe tbody tr th {\n        vertical-align: top;\n    }\n\n    .dataframe thead th {\n        text-align: right;\n    }\n</style>\n<table border=\"1\" class=\"dataframe\">\n  <thead>\n    <tr style=\"text-align: right;\">\n      <th></th>\n      <th>Kod stacji</th>\n      <th>Nazwa stacji</th>\n      <th>Data</th>\n      <th>Średnie dobowe zachmurzenie ogólne [oktanty]</th>\n      <th>Średnia dobowa prędkość wiatru [m/s]</th>\n      <th>Średnia dobowa temperatura [°C]</th>\n      <th>Średnia dobowe ciśnienie pary wodnej [hPa]</th>\n      <th>Średnia dobowa wilgotność względna [%]</th>\n      <th>Średnia dobowe ciśnienie na poziomie stacji [hPa]</th>\n      <th>Suma opadu dzień  [mm]</th>\n      <th>Suma opadu noc   [mm]</th>\n      <th>deszcz w dzień</th>\n      <th>deszcz w nocy</th>\n    </tr>\n  </thead>\n  <tbody>\n    <tr>\n      <th>182</th>\n      <td>349190625</td>\n      <td>ZAKOPANE</td>\n      <td>2019-01-01</td>\n      <td>6.6</td>\n      <td>2.8</td>\n      <td>-1.0</td>\n      <td>5.0</td>\n      <td>84.9</td>\n      <td>918.4</td>\n      <td>0.3</td>\n      <td>3.0</td>\n      <td>1</td>\n      <td>1</td>\n    </tr>\n    <tr>\n      <th>183</th>\n      <td>349190625</td>\n      <td>ZAKOPANE</td>\n      <td>2019-01-02</td>\n      <td>7.8</td>\n      <td>3.3</td>\n      <td>-3.7</td>\n      <td>4.2</td>\n      <td>89.8</td>\n      <td>911.3</td>\n      <td>8.2</td>\n      <td>4.5</td>\n      <td>1</td>\n      <td>1</td>\n    </tr>\n    <tr>\n      <th>184</th>\n      <td>349190625</td>\n      <td>ZAKOPANE</td>\n      <td>2019-01-03</td>\n      <td>8.0</td>\n      <td>1.6</td>\n      <td>-7.5</td>\n      <td>3.0</td>\n      <td>85.5</td>\n      <td>919.1</td>\n      <td>6.5</td>\n      <td>2.7</td>\n      <td>1</td>\n      <td>1</td>\n    </tr>\n    <tr>\n      <th>185</th>\n      <td>349190625</td>\n      <td>ZAKOPANE</td>\n      <td>2019-01-04</td>\n      <td>7.9</td>\n      <td>1.5</td>\n      <td>-8.0</td>\n      <td>2.7</td>\n      <td>81.3</td>\n      <td>922.1</td>\n      <td>0.1</td>\n      <td>2.9</td>\n      <td>1</td>\n      <td>1</td>\n    </tr>\n    <tr>\n      <th>186</th>\n      <td>349190625</td>\n      <td>ZAKOPANE</td>\n      <td>2019-01-05</td>\n      <td>7.9</td>\n      <td>1.6</td>\n      <td>-3.4</td>\n      <td>4.3</td>\n      <td>90.5</td>\n      <td>912.7</td>\n      <td>8.0</td>\n      <td>1.3</td>\n      <td>1</td>\n      <td>1</td>\n    </tr>\n    <tr>\n      <th>...</th>\n      <td>...</td>\n      <td>...</td>\n      <td>...</td>\n      <td>...</td>\n      <td>...</td>\n      <td>...</td>\n      <td>...</td>\n      <td>...</td>\n      <td>...</td>\n      <td>...</td>\n      <td>...</td>\n      <td>...</td>\n      <td>...</td>\n    </tr>\n    <tr>\n      <th>177</th>\n      <td>349190625</td>\n      <td>ZAKOPANE</td>\n      <td>2020-06-26</td>\n      <td>6.4</td>\n      <td>1.1</td>\n      <td>17.7</td>\n      <td>14.4</td>\n      <td>74.0</td>\n      <td>921.9</td>\n      <td>1.1</td>\n      <td>1.2</td>\n      <td>1</td>\n      <td>1</td>\n    </tr>\n    <tr>\n      <th>178</th>\n      <td>349190625</td>\n      <td>ZAKOPANE</td>\n      <td>2020-06-27</td>\n      <td>5.9</td>\n      <td>2.3</td>\n      <td>21.2</td>\n      <td>14.1</td>\n      <td>56.9</td>\n      <td>918.7</td>\n      <td>0.0</td>\n      <td>1.3</td>\n      <td>0</td>\n      <td>0</td>\n    </tr>\n    <tr>\n      <th>179</th>\n      <td>349190625</td>\n      <td>ZAKOPANE</td>\n      <td>2020-06-28</td>\n      <td>3.6</td>\n      <td>1.5</td>\n      <td>19.6</td>\n      <td>15.8</td>\n      <td>71.9</td>\n      <td>919.0</td>\n      <td>0.0</td>\n      <td>0.0</td>\n      <td>0</td>\n      <td>0</td>\n    </tr>\n    <tr>\n      <th>180</th>\n      <td>349190625</td>\n      <td>ZAKOPANE</td>\n      <td>2020-06-29</td>\n      <td>4.9</td>\n      <td>1.5</td>\n      <td>17.7</td>\n      <td>14.8</td>\n      <td>76.5</td>\n      <td>915.3</td>\n      <td>3.6</td>\n      <td>0.3</td>\n      <td>1</td>\n      <td>1</td>\n    </tr>\n    <tr>\n      <th>181</th>\n      <td>349190625</td>\n      <td>ZAKOPANE</td>\n      <td>2020-06-30</td>\n      <td>2.8</td>\n      <td>1.9</td>\n      <td>17.0</td>\n      <td>11.5</td>\n      <td>62.0</td>\n      <td>915.9</td>\n      <td>0.0</td>\n      <td>0.0</td>\n      <td>0</td>\n      <td>0</td>\n    </tr>\n  </tbody>\n</table>\n<p>547 rows × 13 columns</p>\n</div>"
     },
     "metadata": {},
     "execution_count": 11
    }
   ],
   "source": [
    "df"
   ]
  },
  {
   "cell_type": "code",
   "execution_count": 94,
   "metadata": {},
   "outputs": [
    {
     "output_type": "execute_result",
     "data": {
      "text/plain": "' tutaj trzeba za pomocą regresji liniowej zrobić predykcje wszystkich parametrów z X  dla 7 dni naprzód'"
     },
     "metadata": {},
     "execution_count": 94
    }
   ],
   "source": [
    "''' tutaj trzeba za pomocą regresji liniowej zrobić predykcje wszystkich parametrów z X  dla 7 dni naprzód'''"
   ]
  },
  {
   "cell_type": "code",
   "execution_count": 12,
   "metadata": {
    "tags": []
   },
   "outputs": [
    {
     "output_type": "stream",
     "name": "stderr",
     "text": "/home/justyna/.local/lib/python3.6/site-packages/statsmodels/tsa/base/tsa_model.py:162: ValueWarning: No frequency information was provided, so inferred frequency D will be used.\n  % freq, ValueWarning)\n/home/justyna/.local/lib/python3.6/site-packages/statsmodels/tsa/base/tsa_model.py:162: ValueWarning: No frequency information was provided, so inferred frequency D will be used.\n  % freq, ValueWarning)\n/home/justyna/.local/lib/python3.6/site-packages/statsmodels/tsa/base/tsa_model.py:162: ValueWarning: No frequency information was provided, so inferred frequency D will be used.\n  % freq, ValueWarning)\n/home/justyna/.local/lib/python3.6/site-packages/statsmodels/tsa/base/tsa_model.py:162: ValueWarning: No frequency information was provided, so inferred frequency D will be used.\n  % freq, ValueWarning)\n/home/justyna/.local/lib/python3.6/site-packages/statsmodels/tsa/base/tsa_model.py:162: ValueWarning: No frequency information was provided, so inferred frequency D will be used.\n  % freq, ValueWarning)\n/home/justyna/.local/lib/python3.6/site-packages/statsmodels/tsa/base/tsa_model.py:162: ValueWarning: No frequency information was provided, so inferred frequency D will be used.\n  % freq, ValueWarning)\n"
    }
   ],
   "source": [
    "#przewidywanie przyszłych parametrów\n",
    "def make_predict(nazwa_kolumny,ilosc_dni):\n",
    "    df2 = df[['Data',nazwa_kolumny]]\n",
    "    df2.index = pd.DatetimeIndex(df2['Data'])\n",
    "    model = ARMA(df2[nazwa_kolumny], order=(4, 2))\n",
    "    model_fit = model.fit(disp=False)\n",
    "    forecast = model_fit.predict(len(df2),len(df2)+ilosc_dni)\n",
    "    return forecast[:][:]\n",
    "#stworzenie zbioru danych z prewidywanymi parametrami\n",
    "\n",
    "predicted_data = [] \n",
    "predicted_data.append(make_predict('Średnie dobowe zachmurzenie ogólne [oktanty]',7))\n",
    "predicted_data.append(make_predict('Średnia dobowa prędkość wiatru [m/s]',7))\n",
    "predicted_data.append(make_predict('Średnia dobowa temperatura [°C]',7))\n",
    "predicted_data.append(make_predict('Średnia dobowe ciśnienie pary wodnej [hPa]',7))\n",
    "predicted_data.append(make_predict('Średnia dobowa wilgotność względna [%]',7))\n",
    "predicted_data.append(make_predict('Średnia dobowe ciśnienie na poziomie stacji [hPa]',7))\n",
    "\n"
   ]
  },
  {
   "cell_type": "code",
   "execution_count": 13,
   "metadata": {},
   "outputs": [
    {
     "output_type": "execute_result",
     "data": {
      "text/plain": "            Średnie dobowe zachmurzenie ogólne [oktanty]  \\\n2020-07-01                                      4.296043   \n2020-07-02                                      5.094572   \n2020-07-03                                      5.197882   \n2020-07-04                                      5.407628   \n2020-07-05                                      5.347960   \n2020-07-06                                      5.439302   \n2020-07-07                                      5.378913   \n2020-07-08                                      5.432833   \n\n            Średnia dobowa prędkość wiatru [m/s]  \\\n2020-07-01                              1.733466   \n2020-07-02                              1.624096   \n2020-07-03                              1.607147   \n2020-07-04                              1.594437   \n2020-07-05                              1.606690   \n2020-07-06                              1.600912   \n2020-07-07                              1.612861   \n2020-07-08                              1.607452   \n\n            Średnia dobowa temperatura [°C]  \\\n2020-07-01                        16.381982   \n2020-07-02                        16.098026   \n2020-07-03                        15.965405   \n2020-07-04                        15.908057   \n2020-07-05                        15.862933   \n2020-07-06                        15.817764   \n2020-07-07                        15.768069   \n2020-07-08                        15.716255   \n\n            Średnia dobowe ciśnienie pary wodnej [hPa]  \\\n2020-07-01                                   11.765728   \n2020-07-02                                   12.436363   \n2020-07-03                                   12.838715   \n2020-07-04                                   12.796541   \n2020-07-05                                   12.728558   \n2020-07-06                                   12.596480   \n2020-07-07                                   12.552748   \n2020-07-08                                   12.474299   \n\n            Średnia dobowa wilgotność względna [%]  \\\n2020-07-01                               68.368932   \n2020-07-02                               71.960053   \n2020-07-03                               74.172067   \n2020-07-04                               74.859341   \n2020-07-05                               75.578739   \n2020-07-06                               75.530379   \n2020-07-07                               75.883211   \n2020-07-08                               75.658576   \n\n            Średnia dobowe ciśnienie na poziomie stacji [hPa]  \n2020-07-01                                         917.199447  \n2020-07-02                                         917.384983  \n2020-07-03                                         916.979462  \n2020-07-04                                         917.309049  \n2020-07-05                                         917.441084  \n2020-07-06                                         917.219930  \n2020-07-07                                         917.309629  \n2020-07-08                                         917.407327  ",
      "text/html": "<div>\n<style scoped>\n    .dataframe tbody tr th:only-of-type {\n        vertical-align: middle;\n    }\n\n    .dataframe tbody tr th {\n        vertical-align: top;\n    }\n\n    .dataframe thead th {\n        text-align: right;\n    }\n</style>\n<table border=\"1\" class=\"dataframe\">\n  <thead>\n    <tr style=\"text-align: right;\">\n      <th></th>\n      <th>Średnie dobowe zachmurzenie ogólne [oktanty]</th>\n      <th>Średnia dobowa prędkość wiatru [m/s]</th>\n      <th>Średnia dobowa temperatura [°C]</th>\n      <th>Średnia dobowe ciśnienie pary wodnej [hPa]</th>\n      <th>Średnia dobowa wilgotność względna [%]</th>\n      <th>Średnia dobowe ciśnienie na poziomie stacji [hPa]</th>\n    </tr>\n  </thead>\n  <tbody>\n    <tr>\n      <th>2020-07-01</th>\n      <td>4.296043</td>\n      <td>1.733466</td>\n      <td>16.381982</td>\n      <td>11.765728</td>\n      <td>68.368932</td>\n      <td>917.199447</td>\n    </tr>\n    <tr>\n      <th>2020-07-02</th>\n      <td>5.094572</td>\n      <td>1.624096</td>\n      <td>16.098026</td>\n      <td>12.436363</td>\n      <td>71.960053</td>\n      <td>917.384983</td>\n    </tr>\n    <tr>\n      <th>2020-07-03</th>\n      <td>5.197882</td>\n      <td>1.607147</td>\n      <td>15.965405</td>\n      <td>12.838715</td>\n      <td>74.172067</td>\n      <td>916.979462</td>\n    </tr>\n    <tr>\n      <th>2020-07-04</th>\n      <td>5.407628</td>\n      <td>1.594437</td>\n      <td>15.908057</td>\n      <td>12.796541</td>\n      <td>74.859341</td>\n      <td>917.309049</td>\n    </tr>\n    <tr>\n      <th>2020-07-05</th>\n      <td>5.347960</td>\n      <td>1.606690</td>\n      <td>15.862933</td>\n      <td>12.728558</td>\n      <td>75.578739</td>\n      <td>917.441084</td>\n    </tr>\n    <tr>\n      <th>2020-07-06</th>\n      <td>5.439302</td>\n      <td>1.600912</td>\n      <td>15.817764</td>\n      <td>12.596480</td>\n      <td>75.530379</td>\n      <td>917.219930</td>\n    </tr>\n    <tr>\n      <th>2020-07-07</th>\n      <td>5.378913</td>\n      <td>1.612861</td>\n      <td>15.768069</td>\n      <td>12.552748</td>\n      <td>75.883211</td>\n      <td>917.309629</td>\n    </tr>\n    <tr>\n      <th>2020-07-08</th>\n      <td>5.432833</td>\n      <td>1.607452</td>\n      <td>15.716255</td>\n      <td>12.474299</td>\n      <td>75.658576</td>\n      <td>917.407327</td>\n    </tr>\n  </tbody>\n</table>\n</div>"
     },
     "metadata": {},
     "execution_count": 13
    }
   ],
   "source": [
    "df1 = pd.DataFrame(predicted_data, index=['Średnie dobowe zachmurzenie ogólne [oktanty]','Średnia dobowa prędkość wiatru [m/s]','Średnia dobowa temperatura [°C]','Średnia dobowe ciśnienie pary wodnej [hPa]','Średnia dobowa wilgotność względna [%]','Średnia dobowe ciśnienie na poziomie stacji [hPa]'])\n",
    "df1 = df1.T\n",
    "df1"
   ]
  },
  {
   "cell_type": "code",
   "execution_count": 61,
   "metadata": {},
   "outputs": [
    {
     "output_type": "execute_result",
     "data": {
      "text/plain": "     Kod stacji Nazwa stacji       Data  \\\n182   349190625     ZAKOPANE 2019-01-01   \n183   349190625     ZAKOPANE 2019-01-02   \n184   349190625     ZAKOPANE 2019-01-03   \n185   349190625     ZAKOPANE 2019-01-04   \n186   349190625     ZAKOPANE 2019-01-05   \n..          ...          ...        ...   \n177   349190625     ZAKOPANE 2020-06-26   \n178   349190625     ZAKOPANE 2020-06-27   \n179   349190625     ZAKOPANE 2020-06-28   \n180   349190625     ZAKOPANE 2020-06-29   \n181   349190625     ZAKOPANE 2020-06-30   \n\n     Średnie dobowe zachmurzenie ogólne [oktanty]  \\\n182                                           6.6   \n183                                           7.8   \n184                                           8.0   \n185                                           7.9   \n186                                           7.9   \n..                                            ...   \n177                                           6.4   \n178                                           5.9   \n179                                           3.6   \n180                                           4.9   \n181                                           2.8   \n\n     Średnia dobowa prędkość wiatru [m/s]  Średnia dobowa temperatura [°C]  \\\n182                                   2.8                        -1.022401   \n183                                   3.3                        -1.382342   \n184                                   1.6                        -1.888924   \n185                                   1.5                        -1.955579   \n186                                   1.6                        -1.342348   \n..                                    ...                              ...   \n177                                   1.1                         1.470517   \n178                                   2.3                         1.937106   \n179                                   1.5                         1.723808   \n180                                   1.5                         1.470517   \n181                                   1.9                         1.377199   \n\n     Średnia dobowe ciśnienie pary wodnej [hPa]  \\\n182                                   -0.713805   \n183                                   -0.910630   \n184                                   -1.205867   \n185                                   -1.279676   \n186                                   -0.886027   \n..                                          ...   \n177                                    1.598887   \n178                                    1.525078   \n179                                    1.943331   \n180                                    1.697299   \n181                                    0.885397   \n\n     Średnia dobowa wilgotność względna [%]  \\\n182                                    84.9   \n183                                    89.8   \n184                                    85.5   \n185                                    81.3   \n186                                    90.5   \n..                                      ...   \n177                                    74.0   \n178                                    56.9   \n179                                    71.9   \n180                                    76.5   \n181                                    62.0   \n\n     Średnia dobowe ciśnienie na poziomie stacji [hPa]  \\\n182                                           0.141218   \n183                                          -0.797909   \n184                                           0.233808   \n185                                           0.630623   \n186                                          -0.612729   \n..                                                 ...   \n177                                           0.604168   \n178                                           0.180900   \n179                                           0.220581   \n180                                          -0.268823   \n181                                          -0.189460   \n\n     Suma opadu dzień  [mm]  Suma opadu noc   [mm]  deszcz w dzień  \\\n182               -0.336833               0.420469               1   \n183                1.614841               0.811443               1   \n184                1.194860               0.342275               1   \n185               -0.386243               0.394404               1   \n186                1.565431              -0.022634               1   \n..                      ...                    ...             ...   \n177               -0.139196              -0.048699               1   \n178               -0.410948              -0.022634               0   \n179               -0.410948              -0.361478               0   \n180                0.478423              -0.283283               1   \n181               -0.410948              -0.361478               0   \n\n     deszcz w nocy  \n182              1  \n183              1  \n184              1  \n185              1  \n186              1  \n..             ...  \n177              1  \n178              0  \n179              0  \n180              1  \n181              0  \n\n[547 rows x 13 columns]",
      "text/html": "<div>\n<style scoped>\n    .dataframe tbody tr th:only-of-type {\n        vertical-align: middle;\n    }\n\n    .dataframe tbody tr th {\n        vertical-align: top;\n    }\n\n    .dataframe thead th {\n        text-align: right;\n    }\n</style>\n<table border=\"1\" class=\"dataframe\">\n  <thead>\n    <tr style=\"text-align: right;\">\n      <th></th>\n      <th>Kod stacji</th>\n      <th>Nazwa stacji</th>\n      <th>Data</th>\n      <th>Średnie dobowe zachmurzenie ogólne [oktanty]</th>\n      <th>Średnia dobowa prędkość wiatru [m/s]</th>\n      <th>Średnia dobowa temperatura [°C]</th>\n      <th>Średnia dobowe ciśnienie pary wodnej [hPa]</th>\n      <th>Średnia dobowa wilgotność względna [%]</th>\n      <th>Średnia dobowe ciśnienie na poziomie stacji [hPa]</th>\n      <th>Suma opadu dzień  [mm]</th>\n      <th>Suma opadu noc   [mm]</th>\n      <th>deszcz w dzień</th>\n      <th>deszcz w nocy</th>\n    </tr>\n  </thead>\n  <tbody>\n    <tr>\n      <th>182</th>\n      <td>349190625</td>\n      <td>ZAKOPANE</td>\n      <td>2019-01-01</td>\n      <td>6.6</td>\n      <td>2.8</td>\n      <td>-1.022401</td>\n      <td>-0.713805</td>\n      <td>84.9</td>\n      <td>0.141218</td>\n      <td>-0.336833</td>\n      <td>0.420469</td>\n      <td>1</td>\n      <td>1</td>\n    </tr>\n    <tr>\n      <th>183</th>\n      <td>349190625</td>\n      <td>ZAKOPANE</td>\n      <td>2019-01-02</td>\n      <td>7.8</td>\n      <td>3.3</td>\n      <td>-1.382342</td>\n      <td>-0.910630</td>\n      <td>89.8</td>\n      <td>-0.797909</td>\n      <td>1.614841</td>\n      <td>0.811443</td>\n      <td>1</td>\n      <td>1</td>\n    </tr>\n    <tr>\n      <th>184</th>\n      <td>349190625</td>\n      <td>ZAKOPANE</td>\n      <td>2019-01-03</td>\n      <td>8.0</td>\n      <td>1.6</td>\n      <td>-1.888924</td>\n      <td>-1.205867</td>\n      <td>85.5</td>\n      <td>0.233808</td>\n      <td>1.194860</td>\n      <td>0.342275</td>\n      <td>1</td>\n      <td>1</td>\n    </tr>\n    <tr>\n      <th>185</th>\n      <td>349190625</td>\n      <td>ZAKOPANE</td>\n      <td>2019-01-04</td>\n      <td>7.9</td>\n      <td>1.5</td>\n      <td>-1.955579</td>\n      <td>-1.279676</td>\n      <td>81.3</td>\n      <td>0.630623</td>\n      <td>-0.386243</td>\n      <td>0.394404</td>\n      <td>1</td>\n      <td>1</td>\n    </tr>\n    <tr>\n      <th>186</th>\n      <td>349190625</td>\n      <td>ZAKOPANE</td>\n      <td>2019-01-05</td>\n      <td>7.9</td>\n      <td>1.6</td>\n      <td>-1.342348</td>\n      <td>-0.886027</td>\n      <td>90.5</td>\n      <td>-0.612729</td>\n      <td>1.565431</td>\n      <td>-0.022634</td>\n      <td>1</td>\n      <td>1</td>\n    </tr>\n    <tr>\n      <th>...</th>\n      <td>...</td>\n      <td>...</td>\n      <td>...</td>\n      <td>...</td>\n      <td>...</td>\n      <td>...</td>\n      <td>...</td>\n      <td>...</td>\n      <td>...</td>\n      <td>...</td>\n      <td>...</td>\n      <td>...</td>\n      <td>...</td>\n    </tr>\n    <tr>\n      <th>177</th>\n      <td>349190625</td>\n      <td>ZAKOPANE</td>\n      <td>2020-06-26</td>\n      <td>6.4</td>\n      <td>1.1</td>\n      <td>1.470517</td>\n      <td>1.598887</td>\n      <td>74.0</td>\n      <td>0.604168</td>\n      <td>-0.139196</td>\n      <td>-0.048699</td>\n      <td>1</td>\n      <td>1</td>\n    </tr>\n    <tr>\n      <th>178</th>\n      <td>349190625</td>\n      <td>ZAKOPANE</td>\n      <td>2020-06-27</td>\n      <td>5.9</td>\n      <td>2.3</td>\n      <td>1.937106</td>\n      <td>1.525078</td>\n      <td>56.9</td>\n      <td>0.180900</td>\n      <td>-0.410948</td>\n      <td>-0.022634</td>\n      <td>0</td>\n      <td>0</td>\n    </tr>\n    <tr>\n      <th>179</th>\n      <td>349190625</td>\n      <td>ZAKOPANE</td>\n      <td>2020-06-28</td>\n      <td>3.6</td>\n      <td>1.5</td>\n      <td>1.723808</td>\n      <td>1.943331</td>\n      <td>71.9</td>\n      <td>0.220581</td>\n      <td>-0.410948</td>\n      <td>-0.361478</td>\n      <td>0</td>\n      <td>0</td>\n    </tr>\n    <tr>\n      <th>180</th>\n      <td>349190625</td>\n      <td>ZAKOPANE</td>\n      <td>2020-06-29</td>\n      <td>4.9</td>\n      <td>1.5</td>\n      <td>1.470517</td>\n      <td>1.697299</td>\n      <td>76.5</td>\n      <td>-0.268823</td>\n      <td>0.478423</td>\n      <td>-0.283283</td>\n      <td>1</td>\n      <td>1</td>\n    </tr>\n    <tr>\n      <th>181</th>\n      <td>349190625</td>\n      <td>ZAKOPANE</td>\n      <td>2020-06-30</td>\n      <td>2.8</td>\n      <td>1.9</td>\n      <td>1.377199</td>\n      <td>0.885397</td>\n      <td>62.0</td>\n      <td>-0.189460</td>\n      <td>-0.410948</td>\n      <td>-0.361478</td>\n      <td>0</td>\n      <td>0</td>\n    </tr>\n  </tbody>\n</table>\n<p>547 rows × 13 columns</p>\n</div>"
     },
     "metadata": {},
     "execution_count": 61
    }
   ],
   "source": [
    "df"
   ]
  },
  {
   "cell_type": "code",
   "execution_count": 95,
   "metadata": {},
   "outputs": [
    {
     "output_type": "execute_result",
     "data": {
      "text/plain": "'plan jest taki: szeregi czasowe na każdy parametr , zwracam prognozę na 7 dni w postaci dataframe, następnie są\\xa0to moje dane testowe pod wyuczone klasyfikatory przewidujące deszcz, czyli ostatecznie dostaje temp przewidzianą i label 1 lub 0 na ... % skuteczności algortmu czyli jeśli accuracy jest równo 0,77 to 77% ze będzie padać lub nie ( w dzień lub w nocy)'"
     },
     "metadata": {},
     "execution_count": 95
    }
   ],
   "source": [
    "'''plan jest taki: szeregi czasowe na każdy parametr , zwracam prognozę na 7 dni w postaci dataframe, następnie są to moje dane testowe pod wyuczone klasyfikatory przewidujące deszcz, czyli ostatecznie dostaje temp przewidzianą i label 1 lub 0 na ... % skuteczności algortmu czyli jeśli accuracy jest równo 0,77 to 77% ze będzie padać lub nie ( w dzień lub w nocy)'''"
   ]
  },
  {
   "cell_type": "code",
   "execution_count": 15,
   "metadata": {},
   "outputs": [],
   "source": [
    "columns_to_normalize = [[5],[0],[1],[2],[3],[4]]\n",
    "normalize_particular_columns(df1, columns_to_normalize)"
   ]
  },
  {
   "cell_type": "code",
   "execution_count": 67,
   "metadata": {},
   "outputs": [
    {
     "output_type": "execute_result",
     "data": {
      "text/plain": "            Średnie dobowe zachmurzenie ogólne [oktanty]  \\\n2020-07-01                                     -2.347301   \n2020-07-02                                     -0.272369   \n2020-07-03                                     -0.003923   \n2020-07-04                                      0.541092   \n2020-07-05                                      0.386046   \n2020-07-06                                      0.623394   \n2020-07-07                                      0.466478   \n2020-07-08                                      0.606584   \n\n            Średnia dobowa prędkość wiatru [m/s]  \\\n2020-07-01                              2.429781   \n2020-07-02                              0.015747   \n2020-07-03                             -0.358362   \n2020-07-04                             -0.638883   \n2020-07-05                             -0.368436   \n2020-07-06                             -0.495985   \n2020-07-07                             -0.232232   \n2020-07-08                             -0.351629   \n\n            Średnia dobowa temperatura [°C]  \\\n2020-07-01                         2.060067   \n2020-07-02                         0.737120   \n2020-07-03                         0.119243   \n2020-07-04                        -0.147943   \n2020-07-05                        -0.358173   \n2020-07-06                        -0.568619   \n2020-07-07                        -0.800147   \n2020-07-08                        -1.041548   \n\n            Średnia dobowe ciśnienie pary wodnej [hPa]  \\\n2020-07-01                                   -2.233170   \n2020-07-02                                   -0.257262   \n2020-07-03                                    0.928199   \n2020-07-04                                    0.803940   \n2020-07-05                                    0.603640   \n2020-07-06                                    0.214497   \n2020-07-07                                    0.085646   \n2020-07-08                                   -0.145490   \n\n            Średnia dobowa wilgotność względna [%]  \\\n2020-07-01                               -2.156106   \n2020-07-02                               -0.781430   \n2020-07-03                                0.065326   \n2020-07-04                                0.328414   \n2020-07-05                                0.603799   \n2020-07-06                                0.585286   \n2020-07-07                                0.720350   \n2020-07-08                                0.634360   \n\n            Średnia dobowe ciśnienie na poziomie stacji [hPa]  \n2020-07-01                                          -0.549943  \n2020-07-02                                           0.695644  \n2020-07-03                                          -2.026833  \n2020-07-04                                           0.185871  \n2020-07-05                                           1.072283  \n2020-07-06                                          -0.412442  \n2020-07-07                                           0.189767  \n2020-07-08                                           0.845653  ",
      "text/html": "<div>\n<style scoped>\n    .dataframe tbody tr th:only-of-type {\n        vertical-align: middle;\n    }\n\n    .dataframe tbody tr th {\n        vertical-align: top;\n    }\n\n    .dataframe thead th {\n        text-align: right;\n    }\n</style>\n<table border=\"1\" class=\"dataframe\">\n  <thead>\n    <tr style=\"text-align: right;\">\n      <th></th>\n      <th>Średnie dobowe zachmurzenie ogólne [oktanty]</th>\n      <th>Średnia dobowa prędkość wiatru [m/s]</th>\n      <th>Średnia dobowa temperatura [°C]</th>\n      <th>Średnia dobowe ciśnienie pary wodnej [hPa]</th>\n      <th>Średnia dobowa wilgotność względna [%]</th>\n      <th>Średnia dobowe ciśnienie na poziomie stacji [hPa]</th>\n    </tr>\n  </thead>\n  <tbody>\n    <tr>\n      <th>2020-07-01</th>\n      <td>-2.347301</td>\n      <td>2.429781</td>\n      <td>2.060067</td>\n      <td>-2.233170</td>\n      <td>-2.156106</td>\n      <td>-0.549943</td>\n    </tr>\n    <tr>\n      <th>2020-07-02</th>\n      <td>-0.272369</td>\n      <td>0.015747</td>\n      <td>0.737120</td>\n      <td>-0.257262</td>\n      <td>-0.781430</td>\n      <td>0.695644</td>\n    </tr>\n    <tr>\n      <th>2020-07-03</th>\n      <td>-0.003923</td>\n      <td>-0.358362</td>\n      <td>0.119243</td>\n      <td>0.928199</td>\n      <td>0.065326</td>\n      <td>-2.026833</td>\n    </tr>\n    <tr>\n      <th>2020-07-04</th>\n      <td>0.541092</td>\n      <td>-0.638883</td>\n      <td>-0.147943</td>\n      <td>0.803940</td>\n      <td>0.328414</td>\n      <td>0.185871</td>\n    </tr>\n    <tr>\n      <th>2020-07-05</th>\n      <td>0.386046</td>\n      <td>-0.368436</td>\n      <td>-0.358173</td>\n      <td>0.603640</td>\n      <td>0.603799</td>\n      <td>1.072283</td>\n    </tr>\n    <tr>\n      <th>2020-07-06</th>\n      <td>0.623394</td>\n      <td>-0.495985</td>\n      <td>-0.568619</td>\n      <td>0.214497</td>\n      <td>0.585286</td>\n      <td>-0.412442</td>\n    </tr>\n    <tr>\n      <th>2020-07-07</th>\n      <td>0.466478</td>\n      <td>-0.232232</td>\n      <td>-0.800147</td>\n      <td>0.085646</td>\n      <td>0.720350</td>\n      <td>0.189767</td>\n    </tr>\n    <tr>\n      <th>2020-07-08</th>\n      <td>0.606584</td>\n      <td>-0.351629</td>\n      <td>-1.041548</td>\n      <td>-0.145490</td>\n      <td>0.634360</td>\n      <td>0.845653</td>\n    </tr>\n  </tbody>\n</table>\n</div>"
     },
     "metadata": {},
     "execution_count": 67
    }
   ],
   "source": [
    "df1"
   ]
  },
  {
   "cell_type": "code",
   "execution_count": 59,
   "metadata": {},
   "outputs": [
    {
     "output_type": "execute_result",
     "data": {
      "text/plain": "     Kod stacji Nazwa stacji       Data  \\\n182   349190625     ZAKOPANE 2019-01-01   \n183   349190625     ZAKOPANE 2019-01-02   \n184   349190625     ZAKOPANE 2019-01-03   \n185   349190625     ZAKOPANE 2019-01-04   \n186   349190625     ZAKOPANE 2019-01-05   \n..          ...          ...        ...   \n177   349190625     ZAKOPANE 2020-06-26   \n178   349190625     ZAKOPANE 2020-06-27   \n179   349190625     ZAKOPANE 2020-06-28   \n180   349190625     ZAKOPANE 2020-06-29   \n181   349190625     ZAKOPANE 2020-06-30   \n\n     Średnie dobowe zachmurzenie ogólne [oktanty]  \\\n182                                           6.6   \n183                                           7.8   \n184                                           8.0   \n185                                           7.9   \n186                                           7.9   \n..                                            ...   \n177                                           6.4   \n178                                           5.9   \n179                                           3.6   \n180                                           4.9   \n181                                           2.8   \n\n     Średnia dobowa prędkość wiatru [m/s]  Średnia dobowa temperatura [°C]  \\\n182                                   2.8                        -1.022401   \n183                                   3.3                        -1.382342   \n184                                   1.6                        -1.888924   \n185                                   1.5                        -1.955579   \n186                                   1.6                        -1.342348   \n..                                    ...                              ...   \n177                                   1.1                         1.470517   \n178                                   2.3                         1.937106   \n179                                   1.5                         1.723808   \n180                                   1.5                         1.470517   \n181                                   1.9                         1.377199   \n\n     Średnia dobowe ciśnienie pary wodnej [hPa]  \\\n182                                   -0.713805   \n183                                   -0.910630   \n184                                   -1.205867   \n185                                   -1.279676   \n186                                   -0.886027   \n..                                          ...   \n177                                    1.598887   \n178                                    1.525078   \n179                                    1.943331   \n180                                    1.697299   \n181                                    0.885397   \n\n     Średnia dobowa wilgotność względna [%]  \\\n182                                    84.9   \n183                                    89.8   \n184                                    85.5   \n185                                    81.3   \n186                                    90.5   \n..                                      ...   \n177                                    74.0   \n178                                    56.9   \n179                                    71.9   \n180                                    76.5   \n181                                    62.0   \n\n     Średnia dobowe ciśnienie na poziomie stacji [hPa]  \\\n182                                           0.141218   \n183                                          -0.797909   \n184                                           0.233808   \n185                                           0.630623   \n186                                          -0.612729   \n..                                                 ...   \n177                                           0.604168   \n178                                           0.180900   \n179                                           0.220581   \n180                                          -0.268823   \n181                                          -0.189460   \n\n     Suma opadu dzień  [mm]  Suma opadu noc   [mm]  deszcz w dzień  \\\n182               -0.336833               0.420469               1   \n183                1.614841               0.811443               1   \n184                1.194860               0.342275               1   \n185               -0.386243               0.394404               1   \n186                1.565431              -0.022634               1   \n..                      ...                    ...             ...   \n177               -0.139196              -0.048699               1   \n178               -0.410948              -0.022634               0   \n179               -0.410948              -0.361478               0   \n180                0.478423              -0.283283               1   \n181               -0.410948              -0.361478               0   \n\n     deszcz w nocy  \n182              1  \n183              1  \n184              1  \n185              1  \n186              1  \n..             ...  \n177              1  \n178              0  \n179              0  \n180              1  \n181              0  \n\n[547 rows x 13 columns]",
      "text/html": "<div>\n<style scoped>\n    .dataframe tbody tr th:only-of-type {\n        vertical-align: middle;\n    }\n\n    .dataframe tbody tr th {\n        vertical-align: top;\n    }\n\n    .dataframe thead th {\n        text-align: right;\n    }\n</style>\n<table border=\"1\" class=\"dataframe\">\n  <thead>\n    <tr style=\"text-align: right;\">\n      <th></th>\n      <th>Kod stacji</th>\n      <th>Nazwa stacji</th>\n      <th>Data</th>\n      <th>Średnie dobowe zachmurzenie ogólne [oktanty]</th>\n      <th>Średnia dobowa prędkość wiatru [m/s]</th>\n      <th>Średnia dobowa temperatura [°C]</th>\n      <th>Średnia dobowe ciśnienie pary wodnej [hPa]</th>\n      <th>Średnia dobowa wilgotność względna [%]</th>\n      <th>Średnia dobowe ciśnienie na poziomie stacji [hPa]</th>\n      <th>Suma opadu dzień  [mm]</th>\n      <th>Suma opadu noc   [mm]</th>\n      <th>deszcz w dzień</th>\n      <th>deszcz w nocy</th>\n    </tr>\n  </thead>\n  <tbody>\n    <tr>\n      <th>182</th>\n      <td>349190625</td>\n      <td>ZAKOPANE</td>\n      <td>2019-01-01</td>\n      <td>6.6</td>\n      <td>2.8</td>\n      <td>-1.022401</td>\n      <td>-0.713805</td>\n      <td>84.9</td>\n      <td>0.141218</td>\n      <td>-0.336833</td>\n      <td>0.420469</td>\n      <td>1</td>\n      <td>1</td>\n    </tr>\n    <tr>\n      <th>183</th>\n      <td>349190625</td>\n      <td>ZAKOPANE</td>\n      <td>2019-01-02</td>\n      <td>7.8</td>\n      <td>3.3</td>\n      <td>-1.382342</td>\n      <td>-0.910630</td>\n      <td>89.8</td>\n      <td>-0.797909</td>\n      <td>1.614841</td>\n      <td>0.811443</td>\n      <td>1</td>\n      <td>1</td>\n    </tr>\n    <tr>\n      <th>184</th>\n      <td>349190625</td>\n      <td>ZAKOPANE</td>\n      <td>2019-01-03</td>\n      <td>8.0</td>\n      <td>1.6</td>\n      <td>-1.888924</td>\n      <td>-1.205867</td>\n      <td>85.5</td>\n      <td>0.233808</td>\n      <td>1.194860</td>\n      <td>0.342275</td>\n      <td>1</td>\n      <td>1</td>\n    </tr>\n    <tr>\n      <th>185</th>\n      <td>349190625</td>\n      <td>ZAKOPANE</td>\n      <td>2019-01-04</td>\n      <td>7.9</td>\n      <td>1.5</td>\n      <td>-1.955579</td>\n      <td>-1.279676</td>\n      <td>81.3</td>\n      <td>0.630623</td>\n      <td>-0.386243</td>\n      <td>0.394404</td>\n      <td>1</td>\n      <td>1</td>\n    </tr>\n    <tr>\n      <th>186</th>\n      <td>349190625</td>\n      <td>ZAKOPANE</td>\n      <td>2019-01-05</td>\n      <td>7.9</td>\n      <td>1.6</td>\n      <td>-1.342348</td>\n      <td>-0.886027</td>\n      <td>90.5</td>\n      <td>-0.612729</td>\n      <td>1.565431</td>\n      <td>-0.022634</td>\n      <td>1</td>\n      <td>1</td>\n    </tr>\n    <tr>\n      <th>...</th>\n      <td>...</td>\n      <td>...</td>\n      <td>...</td>\n      <td>...</td>\n      <td>...</td>\n      <td>...</td>\n      <td>...</td>\n      <td>...</td>\n      <td>...</td>\n      <td>...</td>\n      <td>...</td>\n      <td>...</td>\n      <td>...</td>\n    </tr>\n    <tr>\n      <th>177</th>\n      <td>349190625</td>\n      <td>ZAKOPANE</td>\n      <td>2020-06-26</td>\n      <td>6.4</td>\n      <td>1.1</td>\n      <td>1.470517</td>\n      <td>1.598887</td>\n      <td>74.0</td>\n      <td>0.604168</td>\n      <td>-0.139196</td>\n      <td>-0.048699</td>\n      <td>1</td>\n      <td>1</td>\n    </tr>\n    <tr>\n      <th>178</th>\n      <td>349190625</td>\n      <td>ZAKOPANE</td>\n      <td>2020-06-27</td>\n      <td>5.9</td>\n      <td>2.3</td>\n      <td>1.937106</td>\n      <td>1.525078</td>\n      <td>56.9</td>\n      <td>0.180900</td>\n      <td>-0.410948</td>\n      <td>-0.022634</td>\n      <td>0</td>\n      <td>0</td>\n    </tr>\n    <tr>\n      <th>179</th>\n      <td>349190625</td>\n      <td>ZAKOPANE</td>\n      <td>2020-06-28</td>\n      <td>3.6</td>\n      <td>1.5</td>\n      <td>1.723808</td>\n      <td>1.943331</td>\n      <td>71.9</td>\n      <td>0.220581</td>\n      <td>-0.410948</td>\n      <td>-0.361478</td>\n      <td>0</td>\n      <td>0</td>\n    </tr>\n    <tr>\n      <th>180</th>\n      <td>349190625</td>\n      <td>ZAKOPANE</td>\n      <td>2020-06-29</td>\n      <td>4.9</td>\n      <td>1.5</td>\n      <td>1.470517</td>\n      <td>1.697299</td>\n      <td>76.5</td>\n      <td>-0.268823</td>\n      <td>0.478423</td>\n      <td>-0.283283</td>\n      <td>1</td>\n      <td>1</td>\n    </tr>\n    <tr>\n      <th>181</th>\n      <td>349190625</td>\n      <td>ZAKOPANE</td>\n      <td>2020-06-30</td>\n      <td>2.8</td>\n      <td>1.9</td>\n      <td>1.377199</td>\n      <td>0.885397</td>\n      <td>62.0</td>\n      <td>-0.189460</td>\n      <td>-0.410948</td>\n      <td>-0.361478</td>\n      <td>0</td>\n      <td>0</td>\n    </tr>\n  </tbody>\n</table>\n<p>547 rows × 13 columns</p>\n</div>"
     },
     "metadata": {},
     "execution_count": 59
    }
   ],
   "source": [
    "df"
   ]
  },
  {
   "cell_type": "code",
   "execution_count": 16,
   "metadata": {},
   "outputs": [],
   "source": [
    "X = df[[df.columns[3],df.columns[4],df.columns[5],df.columns[6],df.columns[7],df.columns[8]]]\n",
    "y = df[[df.columns[11]]]"
   ]
  },
  {
   "cell_type": "code",
   "execution_count": 17,
   "metadata": {},
   "outputs": [],
   "source": [
    "Xtrain, Xtest, ytrain, ytest  = train_test_split(X,y,test_size=0.2,random_state=75)"
   ]
  },
  {
   "cell_type": "markdown",
   "metadata": {},
   "source": [
    "Model SVN "
   ]
  },
  {
   "cell_type": "code",
   "execution_count": 18,
   "metadata": {},
   "outputs": [
    {
     "output_type": "execute_result",
     "data": {
      "text/plain": "SVC(C=1.0, break_ties=False, cache_size=200, class_weight=None, coef0=0.0,\n    decision_function_shape='ovr', degree=3, gamma='scale', kernel='linear',\n    max_iter=-1, probability=False, random_state=None, shrinking=True,\n    tol=0.001, verbose=False)"
     },
     "metadata": {},
     "execution_count": 18
    }
   ],
   "source": [
    "clf= svm.SVC(kernel='linear', C=1.0)\n",
    "clf.fit(Xtrain,ytrain)"
   ]
  },
  {
   "cell_type": "code",
   "execution_count": 19,
   "metadata": {},
   "outputs": [],
   "source": [
    "ypred = clf.predict(Xtest)\n",
    "clf_score = clf.score(Xtest,ytest)"
   ]
  },
  {
   "cell_type": "code",
   "execution_count": 20,
   "metadata": {},
   "outputs": [
    {
     "output_type": "execute_result",
     "data": {
      "text/plain": "0.7909090909090909"
     },
     "metadata": {},
     "execution_count": 20
    }
   ],
   "source": [
    "clf_score"
   ]
  },
  {
   "cell_type": "code",
   "execution_count": 21,
   "metadata": {},
   "outputs": [
    {
     "output_type": "execute_result",
     "data": {
      "text/plain": "array([[54,  5],\n       [18, 33]])"
     },
     "metadata": {},
     "execution_count": 21
    }
   ],
   "source": [
    "confusion_matrix(ytest,ypred)"
   ]
  },
  {
   "cell_type": "markdown",
   "metadata": {},
   "source": [
    "Model logistic regresion"
   ]
  },
  {
   "cell_type": "code",
   "execution_count": 22,
   "metadata": {},
   "outputs": [],
   "source": [
    "logistic_regression= LogisticRegression()\n",
    "logistic_regression.fit(Xtrain,ytrain)\n",
    "y_pred_r=logistic_regression.predict(Xtest)\n",
    "    \n",
    "accur = accuracy_score(ytest, y_pred_r)"
   ]
  },
  {
   "cell_type": "code",
   "execution_count": 23,
   "metadata": {},
   "outputs": [
    {
     "output_type": "execute_result",
     "data": {
      "text/plain": "0.8"
     },
     "metadata": {},
     "execution_count": 23
    }
   ],
   "source": [
    "accur"
   ]
  },
  {
   "cell_type": "code",
   "execution_count": 24,
   "metadata": {},
   "outputs": [
    {
     "output_type": "execute_result",
     "data": {
      "text/plain": "array([[55,  4],\n       [18, 33]])"
     },
     "metadata": {},
     "execution_count": 24
    }
   ],
   "source": [
    "confusion_matrix(ytest,y_pred_r)"
   ]
  },
  {
   "cell_type": "markdown",
   "metadata": {},
   "source": [
    "Model KNN"
   ]
  },
  {
   "cell_type": "code",
   "execution_count": 25,
   "metadata": {},
   "outputs": [],
   "source": [
    "knn = KNeighborsClassifier()"
   ]
  },
  {
   "cell_type": "code",
   "execution_count": 26,
   "metadata": {},
   "outputs": [],
   "source": [
    "knn.fit(Xtrain, ytrain)\n",
    "y_pred_knn = knn.predict(Xtest)\n",
    "accurKNN = accuracy_score(ytest, y_pred_knn)"
   ]
  },
  {
   "cell_type": "code",
   "execution_count": 27,
   "metadata": {},
   "outputs": [
    {
     "output_type": "execute_result",
     "data": {
      "text/plain": "0.7272727272727273"
     },
     "metadata": {},
     "execution_count": 27
    }
   ],
   "source": [
    "accurKNN"
   ]
  },
  {
   "cell_type": "code",
   "execution_count": 28,
   "metadata": {},
   "outputs": [
    {
     "output_type": "execute_result",
     "data": {
      "text/plain": "array([[47, 12],\n       [18, 33]])"
     },
     "metadata": {},
     "execution_count": 28
    }
   ],
   "source": [
    "confusion_matrix(ytest,y_pred_knn)"
   ]
  },
  {
   "cell_type": "code",
   "execution_count": 81,
   "metadata": {},
   "outputs": [
    {
     "output_type": "execute_result",
     "data": {
      "text/plain": "' test danych przewidzianych  '"
     },
     "metadata": {},
     "execution_count": 81
    }
   ],
   "source": [
    "''' test danych przewidzianych  '''\n"
   ]
  },
  {
   "cell_type": "code",
   "execution_count": 83,
   "metadata": {},
   "outputs": [],
   "source": [
    "result_knn = knn.predict(df1)\n",
    "result_log = logistic_regression.predict(df1)\n",
    "result_svn = clf.predict(df1)"
   ]
  },
  {
   "cell_type": "code",
   "execution_count": 84,
   "metadata": {},
   "outputs": [
    {
     "output_type": "execute_result",
     "data": {
      "text/plain": "array([0, 0, 0, 0, 0, 0, 0, 0])"
     },
     "metadata": {},
     "execution_count": 84
    }
   ],
   "source": [
    "result_knn"
   ]
  },
  {
   "cell_type": "code",
   "execution_count": 85,
   "metadata": {},
   "outputs": [
    {
     "output_type": "execute_result",
     "data": {
      "text/plain": "array([0, 0, 0, 0, 0, 0, 0, 0])"
     },
     "metadata": {},
     "execution_count": 85
    }
   ],
   "source": [
    "result_log"
   ]
  },
  {
   "cell_type": "code",
   "execution_count": 86,
   "metadata": {},
   "outputs": [
    {
     "output_type": "execute_result",
     "data": {
      "text/plain": "array([0, 0, 0, 0, 0, 0, 0, 0])"
     },
     "metadata": {},
     "execution_count": 86
    }
   ],
   "source": [
    "result_svn"
   ]
  },
  {
   "cell_type": "code",
   "execution_count": null,
   "metadata": {},
   "outputs": [],
   "source": []
  }
 ],
 "metadata": {
  "kernelspec": {
   "display_name": "Python 3",
   "language": "python",
   "name": "python3"
  },
  "language_info": {
   "codemirror_mode": {
    "name": "ipython",
    "version": 3
   },
   "file_extension": ".py",
   "mimetype": "text/x-python",
   "name": "python",
   "nbconvert_exporter": "python",
   "pygments_lexer": "ipython3",
   "version": "3.6.9-final"
  }
 },
 "nbformat": 4,
 "nbformat_minor": 2
}