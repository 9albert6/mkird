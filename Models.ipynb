{
 "cells": [
  {
   "cell_type": "code",
   "execution_count": 13,
   "metadata": {},
   "outputs": [],
   "source": [
    "import pandas as pd\n",
    "import numpy as np\n",
    "import sklearn\n",
    "from sklearn.metrics import accuracy_score\n",
    "from sklearn.model_selection import train_test_split\n",
    "from sklearn import svm\n",
    "from sklearn.svm import SVC\n",
    "from sklearn.model_selection import train_test_split\n",
    "from sklearn.metrics import confusion_matrix\n",
    "from sklearn.linear_model import LogisticRegression\n",
    "from sklearn.neighbors import KNeighborsClassifier"
   ]
  },
  {
   "cell_type": "code",
   "execution_count": 14,
   "metadata": {},
   "outputs": [],
   "source": [
    "from weather_api import *"
   ]
  },
  {
   "cell_type": "code",
   "execution_count": 12,
   "metadata": {},
   "outputs": [
    {
     "data": {
      "text/html": [
       "<div>\n",
       "<style scoped>\n",
       "    .dataframe tbody tr th:only-of-type {\n",
       "        vertical-align: middle;\n",
       "    }\n",
       "\n",
       "    .dataframe tbody tr th {\n",
       "        vertical-align: top;\n",
       "    }\n",
       "\n",
       "    .dataframe thead th {\n",
       "        text-align: right;\n",
       "    }\n",
       "</style>\n",
       "<table border=\"1\" class=\"dataframe\">\n",
       "  <thead>\n",
       "    <tr style=\"text-align: right;\">\n",
       "      <th></th>\n",
       "      <th>Kod stacji</th>\n",
       "      <th>Nazwa stacji</th>\n",
       "      <th>Rok</th>\n",
       "      <th>Miesiąc</th>\n",
       "      <th>Dzień</th>\n",
       "      <th>Średnie dobowe zachmurzenie ogólne [oktanty]</th>\n",
       "      <th>Status pomiaru NOS</th>\n",
       "      <th>Średnia dobowa prędkość wiatru [m/s]</th>\n",
       "      <th>Status pomiaru FWS</th>\n",
       "      <th>Średnia dobowa temperatura [°C]</th>\n",
       "      <th>...</th>\n",
       "      <th>Średnia dobowa wilgotność względna [%]</th>\n",
       "      <th>Status pomiaru WLGS</th>\n",
       "      <th>Średnia dobowe ciśnienie na poziomie stacji [hPa]</th>\n",
       "      <th>Status pomiaru PPPS</th>\n",
       "      <th>Średnie dobowe ciśnienie na pozimie morza [hPa]</th>\n",
       "      <th>Status pomiaru PPPM</th>\n",
       "      <th>Suma opadu dzień  [mm]</th>\n",
       "      <th>Status pomiaru WODZ</th>\n",
       "      <th>Suma opadu noc   [mm]</th>\n",
       "      <th>Status pomiaru WONO</th>\n",
       "    </tr>\n",
       "  </thead>\n",
       "  <tbody>\n",
       "  </tbody>\n",
       "</table>\n",
       "<p>0 rows × 23 columns</p>\n",
       "</div>"
      ],
      "text/plain": [
       "Empty DataFrame\n",
       "Columns: [Kod stacji, Nazwa stacji, Rok, Miesiąc, Dzień, Średnie dobowe zachmurzenie ogólne [oktanty], Status pomiaru NOS, Średnia dobowa prędkość wiatru [m/s], Status pomiaru FWS, Średnia dobowa temperatura [°C], Status pomiaru TEMP, Średnia dobowe ciśnienie pary wodnej [hPa], Status pomiaru CPW, Średnia dobowa wilgotność względna [%], Status pomiaru WLGS, Średnia dobowe ciśnienie na poziomie stacji [hPa], Status pomiaru PPPS, Średnie dobowe ciśnienie na pozimie morza [hPa], Status pomiaru PPPM, Suma opadu dzień  [mm], Status pomiaru WODZ, Suma opadu noc   [mm], Status pomiaru WONO]\n",
       "Index: []\n",
       "\n",
       "[0 rows x 23 columns]"
      ]
     },
     "execution_count": 12,
     "metadata": {},
     "output_type": "execute_result"
    }
   ],
   "source": [
    "df = get_data(\"zakopane\")\n",
    "df\n",
    "#Jak widać kolumny dają nam za mało informacji, trzeba obgadac które dane wyciagnac"
   ]
  },
  {
   "cell_type": "code",
   "execution_count": null,
   "metadata": {},
   "outputs": [],
   "source": [
    "__all__ = [\"get_data\"]\n",
    "\n",
    "DATA_FOLDER = \"./data\"\n",
    "\n",
    "def read_column_names(file):\n",
    "    with open(file, 'r') as f:\n",
    "        content = f.readlines()\n",
    "    \n",
    "    return [x.strip() for x in content]\n",
    "\n",
    "def delete_mostly_nan_columns(df):\n",
    "    column_names = list()\n",
    "    all_entries = len(df.index)\n",
    "    nan_values = df.isnull().sum().to_numpy()\n",
    "\n",
    "    for i in range(len(nan_values)):\n",
    "        if (nan_values[i]/all_entries)>=0.3:\n",
    "            column_names.append(df.columns[i])\n",
    "\n",
    "    for name in column_names:\n",
    "        if name in df.columns:\n",
    "            del df[name]\n",
    "\n",
    "def normalize_particular_columns(df, column_names):\n",
    "    for col_name in column_names:\n",
    "        df.iloc[:,col_name]=(df.iloc[:,col_name]-df.iloc[:,col_name].mean())/df.iloc[:,col_name].std()\n"
   ]
  },
  {
   "cell_type": "code",
   "execution_count": null,
   "metadata": {},
   "outputs": [],
   "source": [
    "columns_names = read_column_names('./data/head.txt')\n",
    "df1 = pd.read_csv('./data/01_2020.csv', names=columns_names[1:], index_col=False, delimiter = ';')\n",
    "df2 = pd.read_csv('./data/02_2020.csv', names=columns_names[1:], index_col=False, delimiter = ';')\n",
    "df3 = pd.read_csv('./data/03_2020.csv', names=columns_names[1:], index_col=False, delimiter = ';')\n",
    "df4 = pd.read_csv('./data/04_2020.csv', names=columns_names[1:], index_col=False, delimiter = ';')\n",
    "df5 = pd.read_csv('./data/05_2020.csv', names=columns_names[1:], index_col=False, delimiter = ';')\n",
    "df6 = pd.read_csv('./data/06_2020.csv', names=columns_names[1:], index_col=False, delimiter = ';')\n",
    "delete_mostly_nan_columns(df1)\n",
    "delete_mostly_nan_columns(df2)\n",
    "delete_mostly_nan_columns(df3)\n",
    "delete_mostly_nan_columns(df4)\n",
    "delete_mostly_nan_columns(df5)\n",
    "delete_mostly_nan_columns(df6)\n",
    "\n",
    "data = [df1,df2,df3,df4,df5,df6]\n",
    "result = pd.concat(data)"
   ]
  },
  {
   "cell_type": "code",
   "execution_count": null,
   "metadata": {},
   "outputs": [],
   "source": [
    "result.head()"
   ]
  },
  {
   "cell_type": "code",
   "execution_count": null,
   "metadata": {},
   "outputs": [],
   "source": [
    "value = []\n",
    "data = result.iloc[:,[13]]\n",
    "data = data.to_numpy()\n",
    "for row in data:\n",
    "    if row == 0:\n",
    "        value.append(0)\n",
    "    elif row > 0:\n",
    "        value.append(1)\n",
    "result['deszcz w dzień']= value\n",
    "\n",
    "value1 = []\n",
    "data1 = result.iloc[:,[14]]\n",
    "data1 = data1.to_numpy()\n",
    "for row1 in data1:\n",
    "    if row1 == 0:\n",
    "        value1.append(0)\n",
    "    elif row1 > 0:\n",
    "        value1.append(1)\n",
    "result['deszcz w nocy']= value"
   ]
  },
  {
   "cell_type": "code",
   "execution_count": null,
   "metadata": {},
   "outputs": [],
   "source": [
    "result"
   ]
  },
  {
   "cell_type": "code",
   "execution_count": null,
   "metadata": {},
   "outputs": [],
   "source": [
    "columns_to_normalize = [[5],[6],[8],[9],[10]]\n",
    "normalize_particular_columns(result, columns_to_normalize)"
   ]
  },
  {
   "cell_type": "code",
   "execution_count": null,
   "metadata": {},
   "outputs": [],
   "source": [
    "result = result.drop(result.columns[11],axis = 1)\n",
    "result.head()"
   ]
  },
  {
   "cell_type": "code",
   "execution_count": null,
   "metadata": {},
   "outputs": [],
   "source": [
    "X = result[[result.columns[5],result.columns[6],result.columns[7],result.columns[8],result.columns[9],result.columns[10]]]\n",
    "y = result[[result.columns[14]]]"
   ]
  },
  {
   "cell_type": "code",
   "execution_count": null,
   "metadata": {},
   "outputs": [],
   "source": [
    "Xtrain, Xtest, ytrain, ytest  = train_test_split(X,y,test_size=0.2,random_state=75)"
   ]
  },
  {
   "cell_type": "markdown",
   "metadata": {},
   "source": [
    "Model SVN "
   ]
  },
  {
   "cell_type": "code",
   "execution_count": null,
   "metadata": {},
   "outputs": [],
   "source": [
    "clf= svm.SVC(kernel='linear', C=1.0)\n",
    "clf.fit(Xtrain,ytrain)"
   ]
  },
  {
   "cell_type": "code",
   "execution_count": null,
   "metadata": {},
   "outputs": [],
   "source": [
    "ypred = clf.predict(Xtest)\n",
    "clf_score = clf.score(Xtest,ytest)"
   ]
  },
  {
   "cell_type": "code",
   "execution_count": null,
   "metadata": {},
   "outputs": [],
   "source": [
    "clf_score"
   ]
  },
  {
   "cell_type": "code",
   "execution_count": null,
   "metadata": {},
   "outputs": [],
   "source": [
    "confusion_matrix(ytest,ypred)"
   ]
  },
  {
   "cell_type": "markdown",
   "metadata": {},
   "source": [
    "Model logistic regresion"
   ]
  },
  {
   "cell_type": "code",
   "execution_count": null,
   "metadata": {},
   "outputs": [],
   "source": [
    "logistic_regression= LogisticRegression()\n",
    "logistic_regression.fit(Xtrain,ytrain)\n",
    "y_pred_r=logistic_regression.predict(Xtest)\n",
    "    \n",
    "accur = accuracy_score(ytest, y_pred_r)"
   ]
  },
  {
   "cell_type": "code",
   "execution_count": null,
   "metadata": {},
   "outputs": [],
   "source": [
    "accur"
   ]
  },
  {
   "cell_type": "code",
   "execution_count": null,
   "metadata": {},
   "outputs": [],
   "source": [
    "confusion_matrix(ytest,y_pred_r)"
   ]
  },
  {
   "cell_type": "markdown",
   "metadata": {},
   "source": [
    "Model KNN"
   ]
  },
  {
   "cell_type": "code",
   "execution_count": null,
   "metadata": {},
   "outputs": [],
   "source": [
    "knn = KNeighborsClassifier()"
   ]
  },
  {
   "cell_type": "code",
   "execution_count": null,
   "metadata": {},
   "outputs": [],
   "source": [
    "knn.fit(Xtrain, ytrain)\n",
    "y_pred_knn = knn.predict(Xtest)\n",
    "accurKNN = accuracy_score(ytest, y_pred_knn)"
   ]
  },
  {
   "cell_type": "code",
   "execution_count": null,
   "metadata": {},
   "outputs": [],
   "source": [
    "accurKNN"
   ]
  },
  {
   "cell_type": "code",
   "execution_count": null,
   "metadata": {},
   "outputs": [],
   "source": [
    "confusion_matrix(ytest,y_pred_knn)"
   ]
  },
  {
   "cell_type": "code",
   "execution_count": null,
   "metadata": {},
   "outputs": [],
   "source": []
  }
 ],
 "metadata": {
  "kernelspec": {
   "display_name": "Python 3",
   "language": "python",
   "name": "python3"
  },
  "language_info": {
   "codemirror_mode": {
    "name": "ipython",
    "version": 3
   },
   "file_extension": ".py",
   "mimetype": "text/x-python",
   "name": "python",
   "nbconvert_exporter": "python",
   "pygments_lexer": "ipython3",
   "version": "3.6.9"
  }
 },
 "nbformat": 4,
 "nbformat_minor": 2
}
