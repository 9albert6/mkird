{
 "cells": [
  {
   "cell_type": "code",
   "execution_count": 1,
   "metadata": {},
   "outputs": [],
   "source": [
    "import pandas as pd\n",
    "import numpy as np\n",
    "import sklearn\n",
    "from sklearn.metrics import accuracy_score\n",
    "from sklearn.model_selection import train_test_split\n",
    "from sklearn import svm\n",
    "from sklearn.svm import SVC\n",
    "from sklearn.model_selection import train_test_split\n",
    "from sklearn.metrics import confusion_matrix\n",
    "from sklearn.linear_model import LogisticRegression\n",
    "from sklearn.neighbors import KNeighborsClassifier"
   ]
  },
  {
   "cell_type": "code",
   "execution_count": 2,
   "metadata": {},
   "outputs": [],
   "source": [
    "from weather_api import *"
   ]
  },
  {
   "cell_type": "code",
   "execution_count": 3,
   "metadata": {},
   "outputs": [],
   "source": [
    "def normalize_particular_columns(df, column_names):\n",
    "    for col_name in column_names:\n",
    "        df.iloc[:,col_name]=(df.iloc[:,col_name]-df.iloc[:,col_name].mean())/df.iloc[:,col_name].std()"
   ]
  },
  {
   "cell_type": "code",
   "execution_count": 6,
   "metadata": {},
   "outputs": [],
   "source": [
    "columns_names = read_column_names('./data/header.txt')\n",
    "df1 = pd.read_csv('./data/s_m_t_zakopane.csv', names=columns_names[1:], index_col=False, delimiter = ',')"
   ]
  },
  {
   "cell_type": "code",
   "execution_count": 7,
   "metadata": {},
   "outputs": [
    {
     "data": {
      "text/html": [
       "<div>\n",
       "<style scoped>\n",
       "    .dataframe tbody tr th:only-of-type {\n",
       "        vertical-align: middle;\n",
       "    }\n",
       "\n",
       "    .dataframe tbody tr th {\n",
       "        vertical-align: top;\n",
       "    }\n",
       "\n",
       "    .dataframe thead th {\n",
       "        text-align: right;\n",
       "    }\n",
       "</style>\n",
       "<table border=\"1\" class=\"dataframe\">\n",
       "  <thead>\n",
       "    <tr style=\"text-align: right;\">\n",
       "      <th></th>\n",
       "      <th>Kod stacji</th>\n",
       "      <th>Nazwa stacji</th>\n",
       "      <th>Rok</th>\n",
       "      <th>Miesiąc</th>\n",
       "      <th>Dzień</th>\n",
       "      <th>Średnie dobowe zachmurzenie ogólne [oktanty]</th>\n",
       "      <th>Status pomiaru NOS</th>\n",
       "      <th>Średnia dobowa prędkość wiatru [m/s]</th>\n",
       "      <th>Status pomiaru FWS</th>\n",
       "      <th>Średnia dobowa temperatura [°C]</th>\n",
       "      <th>...</th>\n",
       "      <th>Średnia dobowa wilgotność względna [%]</th>\n",
       "      <th>Status pomiaru WLGS</th>\n",
       "      <th>Średnia dobowe ciśnienie na poziomie stacji [hPa]</th>\n",
       "      <th>Status pomiaru PPPS</th>\n",
       "      <th>Średnie dobowe ciśnienie na pozimie morza [hPa]</th>\n",
       "      <th>Status pomiaru PPPM</th>\n",
       "      <th>Suma opadu dzień  [mm]</th>\n",
       "      <th>Status pomiaru WODZ</th>\n",
       "      <th>Suma opadu noc   [mm]</th>\n",
       "      <th>Status pomiaru WONO</th>\n",
       "    </tr>\n",
       "  </thead>\n",
       "  <tbody>\n",
       "    <tr>\n",
       "      <th>0</th>\n",
       "      <td>349190625</td>\n",
       "      <td>ZAKOPANE</td>\n",
       "      <td>2020</td>\n",
       "      <td>1</td>\n",
       "      <td>1</td>\n",
       "      <td>4.3</td>\n",
       "      <td>NaN</td>\n",
       "      <td>2.0</td>\n",
       "      <td>NaN</td>\n",
       "      <td>-1.7</td>\n",
       "      <td>...</td>\n",
       "      <td>73.1</td>\n",
       "      <td>NaN</td>\n",
       "      <td>929.5</td>\n",
       "      <td>NaN</td>\n",
       "      <td>0.0</td>\n",
       "      <td>8</td>\n",
       "      <td>0.0</td>\n",
       "      <td>NaN</td>\n",
       "      <td>0.0</td>\n",
       "      <td>NaN</td>\n",
       "    </tr>\n",
       "    <tr>\n",
       "      <th>1</th>\n",
       "      <td>349190625</td>\n",
       "      <td>ZAKOPANE</td>\n",
       "      <td>2020</td>\n",
       "      <td>1</td>\n",
       "      <td>2</td>\n",
       "      <td>4.4</td>\n",
       "      <td>NaN</td>\n",
       "      <td>1.3</td>\n",
       "      <td>NaN</td>\n",
       "      <td>-1.5</td>\n",
       "      <td>...</td>\n",
       "      <td>56.8</td>\n",
       "      <td>NaN</td>\n",
       "      <td>928.8</td>\n",
       "      <td>NaN</td>\n",
       "      <td>0.0</td>\n",
       "      <td>8</td>\n",
       "      <td>0.0</td>\n",
       "      <td>NaN</td>\n",
       "      <td>0.0</td>\n",
       "      <td>NaN</td>\n",
       "    </tr>\n",
       "    <tr>\n",
       "      <th>2</th>\n",
       "      <td>349190625</td>\n",
       "      <td>ZAKOPANE</td>\n",
       "      <td>2020</td>\n",
       "      <td>1</td>\n",
       "      <td>3</td>\n",
       "      <td>2.5</td>\n",
       "      <td>NaN</td>\n",
       "      <td>1.4</td>\n",
       "      <td>NaN</td>\n",
       "      <td>-1.1</td>\n",
       "      <td>...</td>\n",
       "      <td>68.8</td>\n",
       "      <td>NaN</td>\n",
       "      <td>922.4</td>\n",
       "      <td>NaN</td>\n",
       "      <td>0.0</td>\n",
       "      <td>8</td>\n",
       "      <td>0.0</td>\n",
       "      <td>NaN</td>\n",
       "      <td>0.0</td>\n",
       "      <td>NaN</td>\n",
       "    </tr>\n",
       "    <tr>\n",
       "      <th>3</th>\n",
       "      <td>349190625</td>\n",
       "      <td>ZAKOPANE</td>\n",
       "      <td>2020</td>\n",
       "      <td>1</td>\n",
       "      <td>4</td>\n",
       "      <td>7.6</td>\n",
       "      <td>NaN</td>\n",
       "      <td>3.6</td>\n",
       "      <td>NaN</td>\n",
       "      <td>0.8</td>\n",
       "      <td>...</td>\n",
       "      <td>83.6</td>\n",
       "      <td>NaN</td>\n",
       "      <td>917.5</td>\n",
       "      <td>NaN</td>\n",
       "      <td>0.0</td>\n",
       "      <td>8</td>\n",
       "      <td>1.9</td>\n",
       "      <td>NaN</td>\n",
       "      <td>6.5</td>\n",
       "      <td>NaN</td>\n",
       "    </tr>\n",
       "    <tr>\n",
       "      <th>4</th>\n",
       "      <td>349190625</td>\n",
       "      <td>ZAKOPANE</td>\n",
       "      <td>2020</td>\n",
       "      <td>1</td>\n",
       "      <td>5</td>\n",
       "      <td>7.9</td>\n",
       "      <td>NaN</td>\n",
       "      <td>2.8</td>\n",
       "      <td>NaN</td>\n",
       "      <td>-4.1</td>\n",
       "      <td>...</td>\n",
       "      <td>83.6</td>\n",
       "      <td>NaN</td>\n",
       "      <td>924.4</td>\n",
       "      <td>NaN</td>\n",
       "      <td>0.0</td>\n",
       "      <td>8</td>\n",
       "      <td>3.4</td>\n",
       "      <td>NaN</td>\n",
       "      <td>0.0</td>\n",
       "      <td>NaN</td>\n",
       "    </tr>\n",
       "  </tbody>\n",
       "</table>\n",
       "<p>5 rows × 23 columns</p>\n",
       "</div>"
      ],
      "text/plain": [
       "   Kod stacji Nazwa stacji   Rok  Miesiąc  Dzień  \\\n",
       "0   349190625     ZAKOPANE  2020        1      1   \n",
       "1   349190625     ZAKOPANE  2020        1      2   \n",
       "2   349190625     ZAKOPANE  2020        1      3   \n",
       "3   349190625     ZAKOPANE  2020        1      4   \n",
       "4   349190625     ZAKOPANE  2020        1      5   \n",
       "\n",
       "   Średnie dobowe zachmurzenie ogólne [oktanty]  Status pomiaru NOS  \\\n",
       "0                                           4.3                 NaN   \n",
       "1                                           4.4                 NaN   \n",
       "2                                           2.5                 NaN   \n",
       "3                                           7.6                 NaN   \n",
       "4                                           7.9                 NaN   \n",
       "\n",
       "   Średnia dobowa prędkość wiatru [m/s]  Status pomiaru FWS  \\\n",
       "0                                   2.0                 NaN   \n",
       "1                                   1.3                 NaN   \n",
       "2                                   1.4                 NaN   \n",
       "3                                   3.6                 NaN   \n",
       "4                                   2.8                 NaN   \n",
       "\n",
       "   Średnia dobowa temperatura [°C]  ...  \\\n",
       "0                             -1.7  ...   \n",
       "1                             -1.5  ...   \n",
       "2                             -1.1  ...   \n",
       "3                              0.8  ...   \n",
       "4                             -4.1  ...   \n",
       "\n",
       "   Średnia dobowa wilgotność względna [%]  Status pomiaru WLGS  \\\n",
       "0                                    73.1                  NaN   \n",
       "1                                    56.8                  NaN   \n",
       "2                                    68.8                  NaN   \n",
       "3                                    83.6                  NaN   \n",
       "4                                    83.6                  NaN   \n",
       "\n",
       "   Średnia dobowe ciśnienie na poziomie stacji [hPa]  Status pomiaru PPPS  \\\n",
       "0                                              929.5                  NaN   \n",
       "1                                              928.8                  NaN   \n",
       "2                                              922.4                  NaN   \n",
       "3                                              917.5                  NaN   \n",
       "4                                              924.4                  NaN   \n",
       "\n",
       "   Średnie dobowe ciśnienie na pozimie morza [hPa]  Status pomiaru PPPM  \\\n",
       "0                                              0.0                    8   \n",
       "1                                              0.0                    8   \n",
       "2                                              0.0                    8   \n",
       "3                                              0.0                    8   \n",
       "4                                              0.0                    8   \n",
       "\n",
       "   Suma opadu dzień  [mm]  Status pomiaru WODZ  Suma opadu noc   [mm]  \\\n",
       "0                     0.0                  NaN                    0.0   \n",
       "1                     0.0                  NaN                    0.0   \n",
       "2                     0.0                  NaN                    0.0   \n",
       "3                     1.9                  NaN                    6.5   \n",
       "4                     3.4                  NaN                    0.0   \n",
       "\n",
       "   Status pomiaru WONO  \n",
       "0                  NaN  \n",
       "1                  NaN  \n",
       "2                  NaN  \n",
       "3                  NaN  \n",
       "4                  NaN  \n",
       "\n",
       "[5 rows x 23 columns]"
      ]
     },
     "execution_count": 7,
     "metadata": {},
     "output_type": "execute_result"
    }
   ],
   "source": [
    "df1.head()"
   ]
  },
  {
   "cell_type": "code",
   "execution_count": null,
   "metadata": {},
   "outputs": [],
   "source": [
    "value = []\n",
    "data = result.iloc[:,[13]]\n",
    "data = data.to_numpy()\n",
    "for row in data:\n",
    "    if row == 0:\n",
    "        value.append(0)\n",
    "    elif row > 0:\n",
    "        value.append(1)\n",
    "result['deszcz w dzień']= value\n",
    "\n",
    "value1 = []\n",
    "data1 = result.iloc[:,[14]]\n",
    "data1 = data1.to_numpy()\n",
    "for row1 in data1:\n",
    "    if row1 == 0:\n",
    "        value1.append(0)\n",
    "    elif row1 > 0:\n",
    "        value1.append(1)\n",
    "result['deszcz w nocy']= value"
   ]
  },
  {
   "cell_type": "code",
   "execution_count": null,
   "metadata": {},
   "outputs": [],
   "source": [
    "result"
   ]
  },
  {
   "cell_type": "code",
   "execution_count": null,
   "metadata": {},
   "outputs": [],
   "source": [
    "columns_to_normalize = [[5],[6],[8],[9],[10]]\n",
    "normalize_particular_columns(result, columns_to_normalize)"
   ]
  },
  {
   "cell_type": "code",
   "execution_count": null,
   "metadata": {},
   "outputs": [],
   "source": [
    "result = result.drop(result.columns[11],axis = 1)\n",
    "result.head()"
   ]
  },
  {
   "cell_type": "code",
   "execution_count": null,
   "metadata": {},
   "outputs": [],
   "source": [
    "X = result[[result.columns[5],result.columns[6],result.columns[7],result.columns[8],result.columns[9],result.columns[10]]]\n",
    "y = result[[result.columns[14]]]"
   ]
  },
  {
   "cell_type": "code",
   "execution_count": null,
   "metadata": {},
   "outputs": [],
   "source": [
    "Xtrain, Xtest, ytrain, ytest  = train_test_split(X,y,test_size=0.2,random_state=75)"
   ]
  },
  {
   "cell_type": "markdown",
   "metadata": {},
   "source": [
    "Model SVN "
   ]
  },
  {
   "cell_type": "code",
   "execution_count": null,
   "metadata": {},
   "outputs": [],
   "source": [
    "clf= svm.SVC(kernel='linear', C=1.0)\n",
    "clf.fit(Xtrain,ytrain)"
   ]
  },
  {
   "cell_type": "code",
   "execution_count": null,
   "metadata": {},
   "outputs": [],
   "source": [
    "ypred = clf.predict(Xtest)\n",
    "clf_score = clf.score(Xtest,ytest)"
   ]
  },
  {
   "cell_type": "code",
   "execution_count": null,
   "metadata": {},
   "outputs": [],
   "source": [
    "clf_score"
   ]
  },
  {
   "cell_type": "code",
   "execution_count": null,
   "metadata": {},
   "outputs": [],
   "source": [
    "confusion_matrix(ytest,ypred)"
   ]
  },
  {
   "cell_type": "markdown",
   "metadata": {},
   "source": [
    "Model logistic regresion"
   ]
  },
  {
   "cell_type": "code",
   "execution_count": null,
   "metadata": {},
   "outputs": [],
   "source": [
    "logistic_regression= LogisticRegression()\n",
    "logistic_regression.fit(Xtrain,ytrain)\n",
    "y_pred_r=logistic_regression.predict(Xtest)\n",
    "    \n",
    "accur = accuracy_score(ytest, y_pred_r)"
   ]
  },
  {
   "cell_type": "code",
   "execution_count": null,
   "metadata": {},
   "outputs": [],
   "source": [
    "accur"
   ]
  },
  {
   "cell_type": "code",
   "execution_count": null,
   "metadata": {},
   "outputs": [],
   "source": [
    "confusion_matrix(ytest,y_pred_r)"
   ]
  },
  {
   "cell_type": "markdown",
   "metadata": {},
   "source": [
    "Model KNN"
   ]
  },
  {
   "cell_type": "code",
   "execution_count": null,
   "metadata": {},
   "outputs": [],
   "source": [
    "knn = KNeighborsClassifier()"
   ]
  },
  {
   "cell_type": "code",
   "execution_count": null,
   "metadata": {},
   "outputs": [],
   "source": [
    "knn.fit(Xtrain, ytrain)\n",
    "y_pred_knn = knn.predict(Xtest)\n",
    "accurKNN = accuracy_score(ytest, y_pred_knn)"
   ]
  },
  {
   "cell_type": "code",
   "execution_count": null,
   "metadata": {},
   "outputs": [],
   "source": [
    "accurKNN"
   ]
  },
  {
   "cell_type": "code",
   "execution_count": null,
   "metadata": {},
   "outputs": [],
   "source": [
    "confusion_matrix(ytest,y_pred_knn)"
   ]
  },
  {
   "cell_type": "code",
   "execution_count": null,
   "metadata": {},
   "outputs": [],
   "source": []
  }
 ],
 "metadata": {
  "kernelspec": {
   "display_name": "Python 3",
   "language": "python",
   "name": "python3"
  },
  "language_info": {
   "codemirror_mode": {
    "name": "ipython",
    "version": 3
   },
   "file_extension": ".py",
   "mimetype": "text/x-python",
   "name": "python",
   "nbconvert_exporter": "python",
   "pygments_lexer": "ipython3",
   "version": "3.6.9"
  }
 },
 "nbformat": 4,
 "nbformat_minor": 2
}
